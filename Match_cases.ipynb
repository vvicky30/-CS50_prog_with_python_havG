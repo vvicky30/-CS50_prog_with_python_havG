{
 "cells": [
  {
   "cell_type": "code",
   "execution_count": 4,
   "metadata": {},
   "outputs": [
    {
     "name": "stdout",
     "output_type": "stream",
     "text": [
      "Draco,Your Hogwart-House is Slytherin\n"
     ]
    }
   ],
   "source": [
    "#if we want to make several cases to cehck whether given thing comes which category\n",
    "#here we're going to categorise given name based on their hogwarts Houses :\n",
    "name = input(\"what's your name? let's see in which hogwarts-house you belong to \").strip().title()\n",
    "if  name == \"Harry\": #here we're using '==' double assignment operator to match-check two strings [here: given name and 'Harry']\n",
    "    print(f\"{name},Your Hogwart-House is Gryffindor\")\n",
    "elif name == \"Hermoine\":\n",
    "    print(f\"{name},Your Hogwart-House is Gryffindor\")\n",
    "elif name == \"Ron\":\n",
    "    print(f\"{name},Your Hogwart-House is Gryffindor\")\n",
    "elif name == \"Draco\":\n",
    "    print(f\"{name},Your Hogwart-House is Slytherin\")\n",
    "else: # default case if name doesn't belong to any of the above houses\n",
    "    print(f\"{name}, Who?, sorry you're not belong to any hogwart-house\")\n",
    "        "
   ]
  },
  {
   "cell_type": "code",
   "execution_count": 9,
   "metadata": {},
   "outputs": [
    {
     "name": "stdout",
     "output_type": "stream",
     "text": [
      "Harry,Your Hogwart-House is Gryffindor\n"
     ]
    }
   ],
   "source": [
    "# tighter approach by combining all the cases of Gryffindor-house with operator 'OR'\n",
    "name = input(\"what's your name? let's see in which hogwarts-house you belong to \").strip().title()\n",
    "if  name == \"Harry\" or name == \"Hermoine\" or name == \"Ron\": \n",
    "    print(f\"{name},Your Hogwart-House is Gryffindor\")\n",
    "elif name == \"Draco\":\n",
    "    print(f\"{name},Your Hogwart-House is Slytherin\")\n",
    "else: # default case if name doesn't belong to any of the above houses\n",
    "    print(f\"{name}, Who?, sorry you're not belong to any hogwart-house\")"
   ]
  },
  {
   "cell_type": "code",
   "execution_count": 13,
   "metadata": {},
   "outputs": [
    {
     "name": "stdout",
     "output_type": "stream",
     "text": [
      "Vishwa, Who?, sorry you're not belong to any hogwart-house\n"
     ]
    }
   ],
   "source": [
    "#instrad of making match-cases through elif ladders here we're use Match keyword\n",
    "name1 = input(\"what's your name? let's see in which hogwarts-house you belong to \").strip().title()\n",
    "\n",
    "match name1:\n",
    "    case \"Harry\":\n",
    "        print(f\"{name1},Your Hogwart-House is Gryffindor\")\n",
    "    case \"Hermoine\":\n",
    "        print(f\"{name1},Your Hogwart-House is Gryffindor\")\n",
    "    case \"Ron\":\n",
    "        print(f\"{name1},Your Hogwart-House is Gryffindor\")\n",
    "    case \"Draco\":\n",
    "        print(f\"{name1},Your Hogwart-House is Slytherine\")\n",
    "    \n",
    "    case _:# default case if name doesn't belong to any of the above houses\n",
    "        print(f\"{name1}, Who?, sorry you're not belong to any hogwart-house\")"
   ]
  },
  {
   "cell_type": "code",
   "execution_count": 16,
   "metadata": {},
   "outputs": [
    {
     "name": "stdout",
     "output_type": "stream",
     "text": [
      "Harry,Your Hogwart-House is Gryffindor\n"
     ]
    }
   ],
   "source": [
    "# tighter version of above Match-cases will be [using or-operator '|']\n",
    "name1 = input(\"what's your name? let's see in which hogwarts-house you belong to \").strip().title()\n",
    "\n",
    "match name1:\n",
    "    case \"Harry\" |\"Hermoine\" | \"Ron\" :\n",
    "        print(f\"{name1},Your Hogwart-House is Gryffindor\")\n",
    "    case \"Draco\":\n",
    "        print(f\"{name1},Your Hogwart-House is Slytherine\")\n",
    "        \n",
    "    case _:# default case if name doesn't belong to any of the above houses\n",
    "        print(f\"{name1}, Who?, sorry you're not belong to any hogwart-house\")"
   ]
  }
 ],
 "metadata": {
  "kernelspec": {
   "display_name": "cs50pyenv",
   "language": "python",
   "name": "python3"
  },
  "language_info": {
   "codemirror_mode": {
    "name": "ipython",
    "version": 3
   },
   "file_extension": ".py",
   "mimetype": "text/x-python",
   "name": "python",
   "nbconvert_exporter": "python",
   "pygments_lexer": "ipython3",
   "version": "3.12.2"
  }
 },
 "nbformat": 4,
 "nbformat_minor": 2
}
