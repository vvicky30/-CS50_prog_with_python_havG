{
 "cells": [
  {
   "cell_type": "code",
   "execution_count": 1,
   "metadata": {},
   "outputs": [
    {
     "data": {
      "text/plain": [
       "53670"
      ]
     },
     "execution_count": 1,
     "metadata": {},
     "output_type": "execute_result"
    }
   ],
   "source": [
    "# let total the diffrent three type of currencies based on harry-porter themes \n",
    "#as these currencies are not indetical by their names and values as well \n",
    "# meaning 1 knut can be equal to 29 times(17 times galleons ) and 29 times (sickles) \n",
    "# this formula will be used whe nwe're totallig it \n",
    "\n",
    "def total(galleons, sickles, knuts):\n",
    "    return (galleons*17+ sickles)*29 +knuts    #based on above formula we add them up\n",
    "\n",
    "# we can pass each individual currency values like this \n",
    "total(100,150,20)"
   ]
  },
  {
   "cell_type": "code",
   "execution_count": 2,
   "metadata": {},
   "outputs": [
    {
     "data": {
      "text/plain": [
       "53670"
      ]
     },
     "execution_count": 2,
     "metadata": {},
     "output_type": "execute_result"
    }
   ],
   "source": [
    "# we can pass values by build list saving these currencies values and then pass in the function by using list-indices:\n",
    "currency= [100,150,20]\n",
    "total(currency[0],currency[1],currency[2])\n"
   ]
  },
  {
   "cell_type": "code",
   "execution_count": null,
   "metadata": {},
   "outputs": [],
   "source": [
    "#but if we want to pass"
   ]
  }
 ],
 "metadata": {
  "kernelspec": {
   "display_name": "cs50pyenv",
   "language": "python",
   "name": "python3"
  },
  "language_info": {
   "codemirror_mode": {
    "name": "ipython",
    "version": 3
   },
   "file_extension": ".py",
   "mimetype": "text/x-python",
   "name": "python",
   "nbconvert_exporter": "python",
   "pygments_lexer": "ipython3",
   "version": "3.12.3"
  }
 },
 "nbformat": 4,
 "nbformat_minor": 2
}
