{
 "cells": [
  {
   "cell_type": "code",
   "execution_count": 2,
   "metadata": {},
   "outputs": [
    {
     "data": {
      "text/plain": [
       "53670"
      ]
     },
     "execution_count": 2,
     "metadata": {},
     "output_type": "execute_result"
    }
   ],
   "source": [
    "# let total the diffrent three type of currencies based on harry-porter themes \n",
    "#as these currencies are not indetical by their names and values as well \n",
    "# meaning 1 knut can be equal to 29 times(17 times galleons ) and 29 times (sickles) \n",
    "# this formula will be used whe nwe're totallig it \n",
    "\n",
    "def total(galleons, sickles, knuts):\n",
    "    return (galleons*17+ sickles)*29 +knuts    #based on above formula we add them up\n",
    "\n",
    "# we can pass each individual currency values like this \n",
    "total(100,150,20)"
   ]
  },
  {
   "cell_type": "code",
   "execution_count": 3,
   "metadata": {},
   "outputs": [
    {
     "data": {
      "text/plain": [
       "53670"
      ]
     },
     "execution_count": 3,
     "metadata": {},
     "output_type": "execute_result"
    }
   ],
   "source": [
    "# we can pass values by build list saving these currencies values and then pass in the function by using list-indices:\n",
    "currency= [100,150,20]\n",
    "total(currency[0],currency[1],currency[2])\n"
   ]
  },
  {
   "cell_type": "code",
   "execution_count": 4,
   "metadata": {},
   "outputs": [
    {
     "ename": "TypeError",
     "evalue": "total() missing 2 required positional arguments: 'sickles' and 'knuts'",
     "output_type": "error",
     "traceback": [
      "\u001b[1;31m---------------------------------------------------------------------------\u001b[0m",
      "\u001b[1;31mTypeError\u001b[0m                                 Traceback (most recent call last)",
      "Cell \u001b[1;32mIn[4], line 2\u001b[0m\n\u001b[0;32m      1\u001b[0m \u001b[38;5;66;03m#but if we want to pass these currency values just by passing whole list as :\u001b[39;00m\n\u001b[1;32m----> 2\u001b[0m \u001b[43mtotal\u001b[49m\u001b[43m(\u001b[49m\u001b[43mcurrency\u001b[49m\u001b[43m)\u001b[49m\n",
      "\u001b[1;31mTypeError\u001b[0m: total() missing 2 required positional arguments: 'sickles' and 'knuts'"
     ]
    }
   ],
   "source": [
    "#but if we want to pass these currency values just by passing whole list as :\n",
    "total(currency)\n",
    "# it gives us error that toatal sissing 2 required positional arguments , as this function takes this whole list as argument value for only one argument which is galleons , so in this way there will be nothing passed for other two types of arguments which is knuts and sickles."
   ]
  },
  {
   "cell_type": "code",
   "execution_count": 5,
   "metadata": {},
   "outputs": [
    {
     "data": {
      "text/plain": [
       "53670"
      ]
     },
     "execution_count": 5,
     "metadata": {},
     "output_type": "execute_result"
    }
   ],
   "source": [
    "# to unpack the list we can use astrick sign like this * to explode list add all it's three elements passed as arguments to the function with same order as they intialized\n",
    "total(*currency)\n"
   ]
  },
  {
   "cell_type": "code",
   "execution_count": 6,
   "metadata": {},
   "outputs": [
    {
     "data": {
      "text/plain": [
       "53670"
      ]
     },
     "execution_count": 6,
     "metadata": {},
     "output_type": "execute_result"
    }
   ],
   "source": [
    "#lets intialized dictionary now for thesee currencies with name and values \n",
    "currency = {\"galleons\" :100, \"sickles\" : 150 , \"knuts\": 20} \n",
    "#either we pass these values with dictionary keys correspondigly  \n",
    "total(currency[\"galleons\"],currency[\"sickles\"],currency[\"knuts\"])\n"
   ]
  },
  {
   "cell_type": "code",
   "execution_count": 7,
   "metadata": {},
   "outputs": [
    {
     "data": {
      "text/plain": [
       "53670"
      ]
     },
     "execution_count": 7,
     "metadata": {},
     "output_type": "execute_result"
    }
   ],
   "source": [
    "# or we pass these dictionary values by unpacking them (by exploding them with astrick sign) \n",
    "# but here we need double astrick to explode the dictionary one for exploding its keys and another for exploding its values\n",
    "total(**currency)\n",
    " "
   ]
  }
 ],
 "metadata": {
  "kernelspec": {
   "display_name": "cs50pyenv",
   "language": "python",
   "name": "python3"
  },
  "language_info": {
   "codemirror_mode": {
    "name": "ipython",
    "version": 3
   },
   "file_extension": ".py",
   "mimetype": "text/x-python",
   "name": "python",
   "nbconvert_exporter": "python",
   "pygments_lexer": "ipython3",
   "version": "3.12.3"
  }
 },
 "nbformat": 4,
 "nbformat_minor": 2
}
