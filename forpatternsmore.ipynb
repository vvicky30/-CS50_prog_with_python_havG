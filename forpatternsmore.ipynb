{
 "cells": [
  {
   "cell_type": "code",
   "execution_count": 9,
   "metadata": {},
   "outputs": [
    {
     "name": "stdout",
     "output_type": "stream",
     "text": [
      "         *         \n",
      "        * *        \n",
      "       *   *       \n",
      "      *     *      \n",
      "     *       *     \n",
      "    *         *    \n",
      "   *           *   \n",
      "  *             *  \n",
      " *               * \n",
      "*******************\n"
     ]
    }
   ],
   "source": [
    "def hollow_pyramid(n):\n",
    "    for i in range(1, n + 1):\n",
    "        for j in range(1, 2 * n):\n",
    "            if i==n or j-i == n - 1 or j+i == n + 1:\n",
    "                print(\"*\", end=\"\")\n",
    "            else:\n",
    "                print(\" \", end=\"\")\n",
    "        print()\n",
    " \n",
    "# Set the number of rows for the pyramid\n",
    "rows = 10\n",
    " \n",
    "# Call the function with the specified number of rows\n",
    "hollow_pyramid(rows)"
   ]
  },
  {
   "cell_type": "code",
   "execution_count": 33,
   "metadata": {},
   "outputs": [
    {
     "name": "stdout",
     "output_type": "stream",
     "text": [
      "***********\n",
      "***********\n",
      "***********\n",
      "***********\n",
      "***********\n",
      "***********\n",
      "=================\n",
      "*          \n",
      "* *        \n",
      "*   *      \n",
      "*     *    \n",
      "*       *  \n",
      "***********\n",
      "-------------------\n",
      "*          \n",
      "***        \n",
      "*  **      \n",
      "*    **    \n",
      "*      **  \n",
      "***********\n"
     ]
    }
   ],
   "source": [
    "def main1():\n",
    "    rect_canv(6) # this simply prints rectangle of hieght-n[here its 6] and width [1 to 2n] [here 1 to 12]=11  \n",
    "    print(\"=================\")\n",
    "    right_ang_shape(6) # right angle traingle where hieght will be of n [here 6] and base is of 2n-1[here its 11] \n",
    "    print(\"-------------------\")\n",
    "    right_ang_double(6) # with minor change in logic here for printing double hypotenus, we add one more logic for it with others using 'or'\n",
    "\n",
    "def rect_canv(n=0):\n",
    "    for i in range(1, n+1):   # for each rows of the shape\n",
    "        for j in range(1, 2*n):  # this loop for printing column-wise for each current row \n",
    "            print(\"*\", end=\"\")\n",
    "        \n",
    "        print() # new line cursor  \n",
    "# here we obly make hollowed shapes like we used to make shapes or draw with single line\n",
    "def right_ang_shape(n=0):\n",
    "    for i in range(1, n+1): # for each rows of the right angle traiangle shape \n",
    "        for j in range(1, 2*n): # for printing symbols and spaces conditionally column-wise for each current row\n",
    "            if (i==n) or (j==1) or (j==(2*i)-1):  # all this logics explanations attached below \n",
    "                print(\"*\", end=\"\") # symbol\n",
    "            else:\n",
    "                print(\" \", end=\"\") # spaces \n",
    "            \n",
    "           \n",
    "        print() # new line \n",
    "\n",
    "def right_ang_double(n=0):\n",
    "    for i in range(1, n+1): # for each rows of the right angle traiangle shape \n",
    "        for j in range(1, 2*n): # for printing symbols and spaces conditionally column-wise for each current row\n",
    "            if (i==n) or (j==1) or (j==(2*i)-1) or (j==(2*i)-2):  # all this logics explanations attached below [here extra logic used for double hypotenus also attached in same picture]\n",
    "                print(\"*\", end=\"\") # symbol\n",
    "            else:\n",
    "                print(\" \", end=\"\") # spaces \n",
    "            \n",
    "           \n",
    "        print() # new line \n",
    "        \n",
    "        \n",
    "main1()        "
   ]
  },
  {
   "cell_type": "markdown",
   "metadata": {},
   "source": [
    "### overview of logics \n",
    "\n"
   ]
  },
  {
   "cell_type": "markdown",
   "metadata": {},
   "source": [
    "### right angle logics (alongwith double hypotenuse)\n"
   ]
  }
 ],
 "metadata": {
  "kernelspec": {
   "display_name": "cs50pyenv",
   "language": "python",
   "name": "python3"
  },
  "language_info": {
   "codemirror_mode": {
    "name": "ipython",
    "version": 3
   },
   "file_extension": ".py",
   "mimetype": "text/x-python",
   "name": "python",
   "nbconvert_exporter": "python",
   "pygments_lexer": "ipython3",
   "version": "3.12.2"
  }
 },
 "nbformat": 4,
 "nbformat_minor": 2
}
