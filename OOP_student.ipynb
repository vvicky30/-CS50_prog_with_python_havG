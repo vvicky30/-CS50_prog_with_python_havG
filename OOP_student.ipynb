{
 "cells": [
  {
   "cell_type": "code",
   "execution_count": 2,
   "metadata": {},
   "outputs": [
    {
     "name": "stdout",
     "output_type": "stream",
     "text": [
      "Harry from Gryffindor\n"
     ]
    }
   ],
   "source": [
    "#here we're going to improvise our code by object-oriented-programming (OOP) principles (here: we're going to make our code more abstract)\n",
    "\n",
    "#starts with very simplers approach \n",
    "def main ():\n",
    "    student_name = get_name()\n",
    "    student_house = get_house()\n",
    "    print(f\"{student_name} from {student_house}\")\n",
    "\n",
    "def get_name():\n",
    "    n=input(\"Student_Name: \").strip().title()\n",
    "    return n \n",
    "def get_house():\n",
    "    h=input(\"student_House: \").strip().title()\n",
    "    return h\n",
    "\n",
    "if __name__==\"__main__\":\n",
    "    main()\n",
    "    \n",
    "    "
   ]
  },
  {
   "cell_type": "code",
   "execution_count": 3,
   "metadata": {},
   "outputs": [
    {
     "name": "stdout",
     "output_type": "stream",
     "text": [
      "Harry from Gryffindor\n"
     ]
    }
   ],
   "source": [
    "#now with  simpler abstraction approach\n",
    "# instead of using two diffrent fns for getting student's name & house , we can use one fns of getting both the info reg. student here\n",
    "  \n",
    "def main ():\n",
    "    student_name, student_house = get_student()  # make sure the order of vairables(in which we're saving the values) while unpacking values of returned-tuple, should be in same order as of the order of values in returned tuple.\n",
    "    print(f\"{student_name} from {student_house}\")\n",
    "\n",
    "def get_student():\n",
    "    n=input(\"Student_Name: \").strip().title()\n",
    "    h=input(\"student_House: \").strip().title()\n",
    "  # as we know one function can only return one value ; but here're two variables with different values\n",
    "  # so here we going to return one tuple(a data-type like list but tuples are immutable in nature , means the values and orders of values in tuples can't be changed)\n",
    "       \n",
    "    return (n, h) # so this is how we return one tuple consisting of values of n and h in this order.\n",
    "\n",
    "if __name__==\"__main__\":\n",
    "    main()\n"
   ]
  },
  {
   "cell_type": "code",
   "execution_count": 4,
   "metadata": {},
   "outputs": [
    {
     "name": "stdout",
     "output_type": "stream",
     "text": [
      "Harry from Gryffindor\n"
     ]
    }
   ],
   "source": [
    "# actually we can acess the student_name and student_house without unpacking the values from returned tuple.\n",
    "# instead of it we're simply going to save that tuple in variable in main and then acess those values through indices:\n",
    "def main2():\n",
    "    student = get_student()\n",
    "    print(f\"{student[0]} from {student[1]}\")\n",
    "\n",
    "main2()\n",
    "    "
   ]
  },
  {
   "cell_type": "code",
   "execution_count": 6,
   "metadata": {},
   "outputs": [
    {
     "ename": "TypeError",
     "evalue": "'tuple' object does not support item assignment",
     "output_type": "error",
     "traceback": [
      "\u001b[1;31m---------------------------------------------------------------------------\u001b[0m",
      "\u001b[1;31mTypeError\u001b[0m                                 Traceback (most recent call last)",
      "Cell \u001b[1;32mIn[6], line 11\u001b[0m\n\u001b[0;32m      8\u001b[0m         student[\u001b[38;5;241m1\u001b[39m] \u001b[38;5;241m=\u001b[39m \u001b[38;5;124m\"\u001b[39m\u001b[38;5;124mSeventh-House\u001b[39m\u001b[38;5;124m\"\u001b[39m\n\u001b[0;32m      9\u001b[0m     \u001b[38;5;28mprint\u001b[39m(\u001b[38;5;124mf\u001b[39m\u001b[38;5;124m\"\u001b[39m\u001b[38;5;132;01m{\u001b[39;00mstudent[\u001b[38;5;241m0\u001b[39m]\u001b[38;5;132;01m}\u001b[39;00m\u001b[38;5;124m from \u001b[39m\u001b[38;5;132;01m{\u001b[39;00mstudent[\u001b[38;5;241m1\u001b[39m]\u001b[38;5;132;01m}\u001b[39;00m\u001b[38;5;124m\"\u001b[39m)\n\u001b[1;32m---> 11\u001b[0m \u001b[43mmain_tuple_immutable\u001b[49m\u001b[43m(\u001b[49m\u001b[43m)\u001b[49m\n",
      "Cell \u001b[1;32mIn[6], line 8\u001b[0m, in \u001b[0;36mmain_tuple_immutable\u001b[1;34m()\u001b[0m\n\u001b[0;32m      4\u001b[0m student \u001b[38;5;241m=\u001b[39m get_student()\n\u001b[0;32m      5\u001b[0m \u001b[38;5;28;01mif\u001b[39;00m student[\u001b[38;5;241m0\u001b[39m] \u001b[38;5;241m==\u001b[39m \u001b[38;5;124m\"\u001b[39m\u001b[38;5;124mVishnu\u001b[39m\u001b[38;5;124m\"\u001b[39m:\n\u001b[0;32m      6\u001b[0m     \u001b[38;5;66;03m# if student_name is \"Vishnu\" and even though user entered corresponding house \"Ravenclaw\"\u001b[39;00m\n\u001b[0;32m      7\u001b[0m     \u001b[38;5;66;03m# the house will be over-write to \"Seventh-House\"\u001b[39;00m\n\u001b[1;32m----> 8\u001b[0m     \u001b[43mstudent\u001b[49m\u001b[43m[\u001b[49m\u001b[38;5;241;43m1\u001b[39;49m\u001b[43m]\u001b[49m \u001b[38;5;241m=\u001b[39m \u001b[38;5;124m\"\u001b[39m\u001b[38;5;124mSeventh-House\u001b[39m\u001b[38;5;124m\"\u001b[39m\n\u001b[0;32m      9\u001b[0m \u001b[38;5;28mprint\u001b[39m(\u001b[38;5;124mf\u001b[39m\u001b[38;5;124m\"\u001b[39m\u001b[38;5;132;01m{\u001b[39;00mstudent[\u001b[38;5;241m0\u001b[39m]\u001b[38;5;132;01m}\u001b[39;00m\u001b[38;5;124m from \u001b[39m\u001b[38;5;132;01m{\u001b[39;00mstudent[\u001b[38;5;241m1\u001b[39m]\u001b[38;5;132;01m}\u001b[39;00m\u001b[38;5;124m\"\u001b[39m)\n",
      "\u001b[1;31mTypeError\u001b[0m: 'tuple' object does not support item assignment"
     ]
    }
   ],
   "source": [
    "#as we all know that tuples are immutable in nature... if we want to overwrite something for correction purposes then tuple is not good data-type to use for that application.\n",
    "# here we;re going to illustrate immutability of tuple dataset.\n",
    "def main_tuple_immutable():\n",
    "    student = get_student()\n",
    "    if student[0] == \"Vishnu\":\n",
    "        # if student_name is \"Vishnu\" and even though user entered corresponding house \"Ravenclaw\"\n",
    "        # the house will be over-write to \"Seventh-House\"\n",
    "        student[1] = \"Seventh-House\"\n",
    "    print(f\"{student[0]} from {student[1]}\")\n",
    "        \n",
    "main_tuple_immutable()\n",
    "'''\n",
    "i/p:\n",
    "-student_name:   vishnu\n",
    "-student_house: ravenclaw\n",
    "\n",
    "o/p:\n",
    "TypeError: 'tuple' object does not support item assignment\n",
    "\n",
    "'''"
   ]
  },
  {
   "cell_type": "code",
   "execution_count": 7,
   "metadata": {},
   "outputs": [
    {
     "name": "stdout",
     "output_type": "stream",
     "text": [
      "Vishnu from Seventh-House\n"
     ]
    },
    {
     "data": {
      "text/plain": [
       "'\\ni/p:\\n-student_name:   vishnu\\n-student_house: ravenclaw\\n\\no/p:\\n'"
      ]
     },
     "execution_count": 7,
     "metadata": {},
     "output_type": "execute_result"
    }
   ],
   "source": [
    "# so for assigning values real-time or overwriting the values we can't use tuple data-type\n",
    "# but we can use the another datype which supports this content-change and over-writing stuffs \n",
    "#instead of returning values of 'n' and 'h' in ome tuple we can return those values in one list , as simple as that \n",
    "\n",
    "def main_list():\n",
    "    student = get_student()\n",
    "    if student[0] == \"Vishnu\":\n",
    "        student[1] = \"Seventh-House\"\n",
    "    \n",
    "    print(f\"{student[0]} from {student[1]}\")\n",
    "    \n",
    "def get_student():\n",
    "    n=input(\"Student_Name: \").strip().title()\n",
    "    h=input(\"student_House: \").strip().title()\n",
    "      \n",
    "    return [n, h]  # returning list containing values of n & h\n",
    "\n",
    "main_list()\n",
    "'''\n",
    "i/p:\n",
    "-student_name:   vishnu\n",
    "-student_house: ravenclaw\n",
    "\n",
    "o/p:\n",
    "'''"
   ]
  },
  {
   "cell_type": "code",
   "execution_count": 8,
   "metadata": {},
   "outputs": [
    {
     "name": "stdout",
     "output_type": "stream",
     "text": [
      "Harry from Gryffindor\n"
     ]
    }
   ],
   "source": [
    "# further abstraction using dictionary \n",
    "# here we're directly asking user to enter studentname and studenthouse and save values respectively to the keys with same name, and then returned that dictionary only\n",
    "def main_dict():\n",
    "    student = get_student()\n",
    "    print(f\"{student['name']} from {student['house']}\")\n",
    "    \n",
    "def get_student():\n",
    "    # initializing student dictionary \n",
    "    student= {}\n",
    "    #now assinging user-vlaues to the respective keys\n",
    "    student[\"name\"] = input(\"Student_Name: \").strip().title()\n",
    "    student[\"house\"] = input(\"student_House: \").strip().title()\n",
    "      \n",
    "    return student  # returning dictionary containing two keys and values\n",
    "main_dict()"
   ]
  },
  {
   "cell_type": "code",
   "execution_count": 1,
   "metadata": {},
   "outputs": [
    {
     "name": "stdout",
     "output_type": "stream",
     "text": [
      "Harry from Gryffindor\n"
     ]
    }
   ],
   "source": [
    "def main_dict_compact():\n",
    "    student = get_student()\n",
    "    print(f\"{student['name']} from {student['house']}\")\n",
    "    \n",
    "def get_student():\n",
    "    # not going to initializing student dictionary \n",
    "    # going to direcly return dictionary while assigning values to keys; like this: \n",
    "    #now assinging user-vlaues to the respective keys\n",
    "    n = input(\"Student_Name: \").strip().title()\n",
    "    h= input(\"student_House: \").strip().title()\n",
    "      \n",
    "    return {\"name\":n, \"house\":h}  # returning dictionary containing two keys and values\n",
    "main_dict_compact()"
   ]
  },
  {
   "cell_type": "code",
   "execution_count": 4,
   "metadata": {},
   "outputs": [
    {
     "name": "stdout",
     "output_type": "stream",
     "text": [
      "Vishnu from Seventh-House\n"
     ]
    }
   ],
   "source": [
    "# as we know dictionary data-type in not immutable in nature ; so we can use it for out over-write purpose easily \n",
    "def main_dict_overwrite():\n",
    "    student = get_student()\n",
    "    if student['name']==\"Vishnu\":\n",
    "        student['house']=\"Seventh-House\"\n",
    "    print(f\"{student['name']} from {student['house']}\")\n",
    "\n",
    "main_dict_overwrite() "
   ]
  },
  {
   "cell_type": "markdown",
   "metadata": {},
   "source": [
    "### as we can see in above all cells that we're trying to abstract our code (which retirve the student's info entered by user itself) using various datatypes such as dictionary , list and tuples \n",
    "### But we can make our own data-type named 'student' (used to save information regarding students) using concept of 'classes' \n",
    "### The concept of 'classes' is the powerful tool in the python's object-oriented-programming (OOP)-principle, with the help of classes we can make our own data-sturcture (here in case data-structure named student)\n",
    "\n",
    "### In Python's object-oriented programming (OOP), classes are a fundamental concept. They serve as blueprints for creating objects, which are instances of the class. Think of a class as a template or a cookie cutter, and an object as the actual cookie that gets produced from that cutter.\n",
    "\n",
    "- Here are some key points about classes in Python:\n",
    "\n",
    "1. Encapsulation: Classes encapsulate data for the object they create, along with methods (functions) that operate on that data. This helps in organizing and structuring code.\n",
    "\n",
    "2. Attributes: Classes define attributes, which are like variables associated with the class or its instances. These attributes hold data that are unique to each instance.\n",
    "\n",
    "3. Methods: Classes also define methods, which are functions that are associated with the class or its instances. Methods can operate on the data contained within the class.\n",
    "\n",
    "4. Inheritance: One of the pillars of OOP, inheritance allows a class (subclass) to inherit attributes and methods from another class (superclass). This promotes code reuse and allows for hierarchical relationships between classes.\n",
    "\n",
    "5. Polymorphism: This allows methods to do different things based on the object that calls them. In Python, polymorphism is achieved through method overriding and method overloading."
   ]
  },
  {
   "cell_type": "code",
   "execution_count": 5,
   "metadata": {},
   "outputs": [
    {
     "name": "stdout",
     "output_type": "stream",
     "text": [
      "Harry from Gryffindor\n"
     ]
    }
   ],
   "source": [
    "# here first of all we're going make our class named 'Student' (with capital S; generally preferred format to make class with name:first-letter in caps).\n",
    "# but here we're not going to further implement the class or writting code associated with it .\n",
    "class Student:\n",
    "    ...   # will implement this class //not now \n",
    "\n",
    "\n",
    "def main_for_class():\n",
    "    student = get_student()\n",
    "    # here also while printing name and house we have ot access those as the attributes of object-student here:\n",
    "    print(f\"{student.name} from {student.house}\")\n",
    "    \n",
    "def get_student():\n",
    "    # now we're going to make an object associated with class- Student here\n",
    "    # object name will be student (with s non-cap)\n",
    "    student = Student()     # this is how we make object associated with class\n",
    "    #now going to access the attributes of this created instance/object of class-Student and assign the values to respective attributes here:\n",
    "    student.name = input(\"Student_name: \").strip().title()\n",
    "    student.house = input(\"Student_house: \").strip().title()\n",
    "                       # here name and house are unique attributes of object/instance named student of class-Student\n",
    "    #now we have to retuen the instance only which is student here\n",
    "    return student\n",
    "if __name__ == \"__main__\":\n",
    "    main_for_class()"
   ]
  },
  {
   "cell_type": "code",
   "execution_count": 1,
   "metadata": {},
   "outputs": [
    {
     "name": "stdout",
     "output_type": "stream",
     "text": [
      "Harry from Gryffindor\n"
     ]
    }
   ],
   "source": [
    "#further improvisation.....\n",
    "# here in the get_student() method we're not initializing student instance of class Student \n",
    "# and then assigning values of the attributes (here name and house) of that instances \n",
    "#but here we simply pass those variables(name and house) as arguments in the class_name and making instance of it as well to be returned \n",
    "# in this way we can define validity or correctness of passed values of variables(attributes) of the class by defining method or fn associated with class-Student\n",
    "class Student:\n",
    "    # here we're going to define standard method through which we can initialize the contents of a object from a class\n",
    "    # this kind of method also called the instance/object method\n",
    "    def __init__(self, name, house):\n",
    "             # after defining this instance-method, we can call constructor (with arguments or attributes's values[the same attributes here defined..as you can see])\n",
    "        self.name = name\n",
    "        self.house = house\n",
    "              \n",
    "def main_for_class():\n",
    "    student = get_student()\n",
    "    # here also while printing name and house we have ot access those as the attributes of object-student here:\n",
    "    print(f\"{student.name} from {student.house}\")\n",
    "    \n",
    "def get_student():\n",
    "    name= input(\"Student_name: \").strip().title()\n",
    "    house= input(\"Student_house: \").strip().title()\n",
    "    # now going to call constructor with arguments as these values \n",
    "    #and create instance of class like this \n",
    "    student = Student(name, house)  # always remember constructor name will be same as class_name\n",
    "    return student\n",
    "if __name__ == \"__main__\":\n",
    "    main_for_class()"
   ]
  },
  {
   "cell_type": "code",
   "execution_count": 4,
   "metadata": {},
   "outputs": [
    {
     "ename": "ValueError",
     "evalue": "Missing name!!...please enter name",
     "output_type": "error",
     "traceback": [
      "\u001b[1;31m---------------------------------------------------------------------------\u001b[0m",
      "\u001b[1;31mValueError\u001b[0m                                Traceback (most recent call last)",
      "Cell \u001b[1;32mIn[4], line 23\u001b[0m\n\u001b[0;32m     21\u001b[0m     \u001b[38;5;28;01mreturn\u001b[39;00m Student(n,h)  \u001b[38;5;66;03m# directly returning \u001b[39;00m\n\u001b[0;32m     22\u001b[0m \u001b[38;5;28;01mif\u001b[39;00m \u001b[38;5;18m__name__\u001b[39m\u001b[38;5;241m==\u001b[39m\u001b[38;5;124m\"\u001b[39m\u001b[38;5;124m__main__\u001b[39m\u001b[38;5;124m\"\u001b[39m:\n\u001b[1;32m---> 23\u001b[0m     \u001b[43mmain_correctness\u001b[49m\u001b[43m(\u001b[49m\u001b[43m)\u001b[49m\n\u001b[0;32m     25\u001b[0m \u001b[38;5;124;03m'''\u001b[39;00m\n\u001b[0;32m     26\u001b[0m \u001b[38;5;124;03mi/p:\u001b[39;00m\n\u001b[0;32m     27\u001b[0m \u001b[38;5;124;03m-  harry\u001b[39;00m\n\u001b[1;32m   (...)\u001b[0m\n\u001b[0;32m     38\u001b[0m \u001b[38;5;124;03m-gryffindor    \u001b[39;00m\n\u001b[0;32m     39\u001b[0m \u001b[38;5;124;03m'''\u001b[39;00m          \n",
      "Cell \u001b[1;32mIn[4], line 14\u001b[0m, in \u001b[0;36mmain_correctness\u001b[1;34m()\u001b[0m\n\u001b[0;32m     13\u001b[0m \u001b[38;5;28;01mdef\u001b[39;00m \u001b[38;5;21mmain_correctness\u001b[39m():\n\u001b[1;32m---> 14\u001b[0m     student\u001b[38;5;241m=\u001b[39m \u001b[43mget_student\u001b[49m\u001b[43m(\u001b[49m\u001b[43m)\u001b[49m\n\u001b[0;32m     15\u001b[0m     \u001b[38;5;28mprint\u001b[39m(\u001b[38;5;124mf\u001b[39m\u001b[38;5;124m\"\u001b[39m\u001b[38;5;132;01m{\u001b[39;00mstudent\u001b[38;5;241m.\u001b[39mname\u001b[38;5;132;01m}\u001b[39;00m\u001b[38;5;124m from \u001b[39m\u001b[38;5;132;01m{\u001b[39;00mstudent\u001b[38;5;241m.\u001b[39mhouse\u001b[38;5;132;01m}\u001b[39;00m\u001b[38;5;124m\"\u001b[39m)\n",
      "Cell \u001b[1;32mIn[4], line 21\u001b[0m, in \u001b[0;36mget_student\u001b[1;34m()\u001b[0m\n\u001b[0;32m     18\u001b[0m h\u001b[38;5;241m=\u001b[39m \u001b[38;5;28minput\u001b[39m(\u001b[38;5;124m\"\u001b[39m\u001b[38;5;124mStudent_house:\u001b[39m\u001b[38;5;124m\"\u001b[39m)\u001b[38;5;241m.\u001b[39mstrip()\u001b[38;5;241m.\u001b[39mtitle()\n\u001b[0;32m     20\u001b[0m \u001b[38;5;66;03m#student = Student(n,h)\u001b[39;00m\n\u001b[1;32m---> 21\u001b[0m \u001b[38;5;28;01mreturn\u001b[39;00m \u001b[43mStudent\u001b[49m\u001b[43m(\u001b[49m\u001b[43mn\u001b[49m\u001b[43m,\u001b[49m\u001b[43mh\u001b[49m\u001b[43m)\u001b[49m\n",
      "Cell \u001b[1;32mIn[4], line 7\u001b[0m, in \u001b[0;36mStudent.__init__\u001b[1;34m(self, name, house)\u001b[0m\n\u001b[0;32m      4\u001b[0m \u001b[38;5;28;01mdef\u001b[39;00m \u001b[38;5;21m__init__\u001b[39m(\u001b[38;5;28mself\u001b[39m, name , house):\n\u001b[0;32m      5\u001b[0m     \u001b[38;5;28;01mif\u001b[39;00m \u001b[38;5;129;01mnot\u001b[39;00m name:   \u001b[38;5;66;03m# checking that name can't be blank\u001b[39;00m\n\u001b[0;32m      6\u001b[0m            \u001b[38;5;66;03m# here we raise our own error , this will be raised actually when constructor calling and object creation take place\u001b[39;00m\n\u001b[1;32m----> 7\u001b[0m         \u001b[38;5;28;01mraise\u001b[39;00m \u001b[38;5;167;01mValueError\u001b[39;00m(\u001b[38;5;124m\"\u001b[39m\u001b[38;5;124mMissing name!!...please enter name\u001b[39m\u001b[38;5;124m\"\u001b[39m)\n\u001b[0;32m      8\u001b[0m     \u001b[38;5;28;01mif\u001b[39;00m house \u001b[38;5;129;01mnot\u001b[39;00m \u001b[38;5;129;01min\u001b[39;00m [\u001b[38;5;124m\"\u001b[39m\u001b[38;5;124mGryffindor\u001b[39m\u001b[38;5;124m\"\u001b[39m, \u001b[38;5;124m\"\u001b[39m\u001b[38;5;124mHufflepuff\u001b[39m\u001b[38;5;124m\"\u001b[39m, \u001b[38;5;124m\"\u001b[39m\u001b[38;5;124mRavenclaw\u001b[39m\u001b[38;5;124m\"\u001b[39m,\u001b[38;5;124m\"\u001b[39m\u001b[38;5;124mSlytherin\u001b[39m\u001b[38;5;124m\"\u001b[39m,\u001b[38;5;124m\"\u001b[39m\u001b[38;5;124mSeventh-House\u001b[39m\u001b[38;5;124m\"\u001b[39m]:\n\u001b[0;32m      9\u001b[0m         \u001b[38;5;28;01mraise\u001b[39;00m \u001b[38;5;167;01mValueError\u001b[39;00m(\u001b[38;5;124m\"\u001b[39m\u001b[38;5;124mInvalid-House!!...please enter valid house\u001b[39m\u001b[38;5;124m\"\u001b[39m)\n",
      "\u001b[1;31mValueError\u001b[0m: Missing name!!...please enter name"
     ]
    }
   ],
   "source": [
    "# now further improvisation this time \n",
    "# Here what we can do to check validity of house and correctness of name (checking whether name can't be blank)\n",
    "class Student:\n",
    "    def __init__(self, name , house):\n",
    "        if not name:   # checking that name can't be blank\n",
    "               # here we raise our own error , this will be raised actually when constructor calling and object creation take place\n",
    "            raise ValueError(\"Missing name!!...please enter name\")\n",
    "        if house not in [\"Gryffindor\", \"Hufflepuff\", \"Ravenclaw\",\"Slytherin\",\"Seventh-House\"]:\n",
    "            raise ValueError(\"Invalid-House!!...please enter valid house\")\n",
    "        self.name = name\n",
    "        self.house = house\n",
    "\n",
    "def main_correctness():\n",
    "    student= get_student()\n",
    "    print(f\"{student.name} from {student.house}\")\n",
    "def get_student():\n",
    "    n= input(\"Student_name:\").strip().title()\n",
    "    h= input(\"Student_house:\").strip().title()\n",
    "\n",
    "    #student = Student(n,h)\n",
    "    return Student(n,h)  # directly returning \n",
    "if __name__==\"__main__\":\n",
    "    main_correctness()\n",
    "                \n",
    "'''\n",
    "i/p:\n",
    "-  harry\n",
    "-gryffindor\n",
    "o/p:\n",
    ">Harry from Gryffindor\n",
    "\n",
    "i/p:\n",
    "-vishnu\n",
    "-seventh house   //this is invalid house not in house list \n",
    "o/p:\n",
    ">ValueError: Invalid-House!!...please enter valid house\n",
    "\n",
    "i/p:\n",
    "-     //without name [name is blank]\n",
    "-gryffindor   \n",
    "o/p:\n",
    ">ValueError: Missing name!!...please enter name \n",
    "'''          "
   ]
  },
  {
   "cell_type": "code",
   "execution_count": null,
   "metadata": {},
   "outputs": [],
   "source": []
  }
 ],
 "metadata": {
  "kernelspec": {
   "display_name": "cs50pyenv",
   "language": "python",
   "name": "python3"
  },
  "language_info": {
   "codemirror_mode": {
    "name": "ipython",
    "version": 3
   },
   "file_extension": ".py",
   "mimetype": "text/x-python",
   "name": "python",
   "nbconvert_exporter": "python",
   "pygments_lexer": "ipython3",
   "version": "3.12.3"
  }
 },
 "nbformat": 4,
 "nbformat_minor": 2
}
