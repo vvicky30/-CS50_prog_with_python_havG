{
 "cells": [
  {
   "cell_type": "code",
   "execution_count": 5,
   "metadata": {},
   "outputs": [
    {
     "ename": "ValueError",
     "evalue": "not enough values to unpack (expected 2, got 1)",
     "output_type": "error",
     "traceback": [
      "\u001b[1;31m---------------------------------------------------------------------------\u001b[0m",
      "\u001b[1;31mValueError\u001b[0m                                Traceback (most recent call last)",
      "Cell \u001b[1;32mIn[5], line 4\u001b[0m\n\u001b[0;32m      1\u001b[0m name\u001b[38;5;241m=\u001b[39m \u001b[38;5;28minput\u001b[39m(\u001b[38;5;124m\"\u001b[39m\u001b[38;5;124mwhat\u001b[39m\u001b[38;5;124m'\u001b[39m\u001b[38;5;124ms your name? \u001b[39m\u001b[38;5;130;01m\\n\u001b[39;00m\u001b[38;5;124m[NOTE: enter name either simply (as: name lastname) or like this(lastname, firstname)]\u001b[39m\u001b[38;5;124m\"\u001b[39m)\u001b[38;5;241m.\u001b[39mstrip()\u001b[38;5;241m.\u001b[39mtitle()\n\u001b[0;32m      3\u001b[0m \u001b[38;5;28;01mif\u001b[39;00m \u001b[38;5;124m\"\u001b[39m\u001b[38;5;124m,\u001b[39m\u001b[38;5;124m\"\u001b[39m \u001b[38;5;129;01min\u001b[39;00m name:    \u001b[38;5;66;03m# if user choose to enter name in the 'lastname, firstname' format then it will definetely contains ',' in between \u001b[39;00m\n\u001b[1;32m----> 4\u001b[0m     lastname, firstname \u001b[38;5;241m=\u001b[39m name\u001b[38;5;241m.\u001b[39msplit(\u001b[38;5;124m\"\u001b[39m\u001b[38;5;124m, \u001b[39m\u001b[38;5;124m\"\u001b[39m)    \u001b[38;5;66;03m# splitting from where interpreter encountered ', ' (coma with one space)\u001b[39;00m\n\u001b[0;32m      5\u001b[0m     name \u001b[38;5;241m=\u001b[39m \u001b[38;5;124mf\u001b[39m\u001b[38;5;124m\"\u001b[39m\u001b[38;5;132;01m{\u001b[39;00mfirstname\u001b[38;5;132;01m}\u001b[39;00m\u001b[38;5;124m \u001b[39m\u001b[38;5;132;01m{\u001b[39;00mlastname\u001b[38;5;132;01m}\u001b[39;00m\u001b[38;5;124m\"\u001b[39m     \u001b[38;5;66;03m# formatting like this \u001b[39;00m\n\u001b[0;32m      6\u001b[0m \u001b[38;5;28mprint\u001b[39m(\u001b[38;5;124mf\u001b[39m\u001b[38;5;124m\"\u001b[39m\u001b[38;5;124mHello, \u001b[39m\u001b[38;5;132;01m{\u001b[39;00mname\u001b[38;5;132;01m}\u001b[39;00m\u001b[38;5;124m\"\u001b[39m)   \n",
      "\u001b[1;31mValueError\u001b[0m: not enough values to unpack (expected 2, got 1)"
     ]
    }
   ],
   "source": [
    "# here we're going to take input from user ; which's here firstname and lastname, \n",
    "# and then validating input format, if it's matches expected format then clean-up it further for printing greetings to the user back.  \n",
    "#conventional :\n",
    "name= input(\"what's your name? \\n[NOTE: enter name either simply (as: name lastname) or like this(lastname, firstname)]\").strip().title()\n",
    "\n",
    "if \",\" in name:    # if user choose to enter name in the 'lastname, firstname' format then it will definetely contains ',' in between \n",
    "    lastname, firstname = name.split(\", \")    # splitting from where interpreter encountered ', ' (coma with one space)\n",
    "    name = f\"{firstname} {lastname}\"     # formatting like this \n",
    "print(f\"Hello, {name}\")   \n",
    "\n",
    "'''\n",
    "o/p [test-cases]:\n",
    "when user entered name simply:\n",
    "-skrillex precarious\n",
    ">Hello, Skrillex Precarious\n",
    "when user entered name in the [lastname, firstname] format:\n",
    "-herodotous, sphinix\n",
    ">Hello, Sphinix Herodotous\n",
    "[cutting edge]:\n",
    "-herodotous,sphinix    //without space after coma\n",
    ">ValueError: not enough values to unpack (expected 2, got 1)   //as expected one coma and one space but gets only coma instead\n",
    "'''\n"
   ]
  },
  {
   "cell_type": "code",
   "execution_count": 7,
   "metadata": {},
   "outputs": [
    {
     "name": "stdout",
     "output_type": "stream",
     "text": [
      "hello, Sphinix Herodotous\n"
     ]
    },
    {
     "data": {
      "text/plain": [
       "'\\no/p [test-cases]:\\n-herodotous, sphinix\\n>Hello, Sphinix Herodotous\\n\\n'"
      ]
     },
     "execution_count": 7,
     "metadata": {},
     "output_type": "execute_result"
    }
   ],
   "source": [
    "#regex approach-1\n",
    "# now in this approach going to use regex for validating the user input and \n",
    "# then if its mathces against expected regular-expression , then we will captures the specific methched groups from the input string using the same regular expression.\n",
    " \n",
    "import re \n",
    "name= input(\"what's your name? \\n[NOTE: enter name either simply (as: name lastname) or like this(lastname, firstname)]\").strip().title()\n",
    "\n",
    "# Here the regular-expression: r\"^.+, *.+$\"  with specified starting and ending of string with ^ & $ signs\n",
    "               # whereas .+ stands for any character with any repeatations (one or more times) [before and after coma(,)]\n",
    "               # whereas ,(coma) is the literal coma to be matched in input-string\n",
    "               # whereas ( *) here its stands for one whitespace with *(zero or more times), her * makes one whitespace optional\n",
    "               #here we're going to make groups which's to be captured one input-string matches against this regular-expression\n",
    "                  # for making groups to be captured we can use round brackets containing that specific regular-expression \n",
    "                  # this is how this regular-expression after making groups (tobe captured in variables ) looks like:-\n",
    "                      # -->  r\"^(.+), *(.+)$\"\n",
    "                        #here going to capture lastname from grp-1 (.+) which's before coma\n",
    "                        # and then going to capture firstname from grp-2 (.+) which's after coma\n",
    "               \n",
    "# going to capture those groups in the mathces variable here:\n",
    "mathces = re.search(r\"^(.+), *(.+)$\", name) \n",
    "# if input string mathces against this regular-expression then mathces contains values of two groups\n",
    "if  mathces:  # if mathces contains value then this block is true\n",
    "    last , first = mathces.groups()  # here .groups() funs to call all the groups simultanously\n",
    "    name = f\"{first} {last}\"\n",
    "print(f\"hello, {name}\")  \n",
    "   \n",
    "'''\n",
    "o/p [test-cases]:\n",
    "-herodotous, sphinix\n",
    ">Hello, Sphinix Herodotous\n",
    "-herodotous,sphinix //without whitespace b/w and after coma\n",
    "hello, Sphinix Herodotous    \n",
    "'''           "
   ]
  },
  {
   "cell_type": "code",
   "execution_count": null,
   "metadata": {},
   "outputs": [],
   "source": []
  }
 ],
 "metadata": {
  "kernelspec": {
   "display_name": "cs50pyenv",
   "language": "python",
   "name": "python3"
  },
  "language_info": {
   "codemirror_mode": {
    "name": "ipython",
    "version": 3
   },
   "file_extension": ".py",
   "mimetype": "text/x-python",
   "name": "python",
   "nbconvert_exporter": "python",
   "pygments_lexer": "ipython3",
   "version": "3.12.3"
  }
 },
 "nbformat": 4,
 "nbformat_minor": 2
}
