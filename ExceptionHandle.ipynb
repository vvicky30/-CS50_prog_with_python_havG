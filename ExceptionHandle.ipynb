{
 "cells": [
  {
   "cell_type": "markdown",
   "metadata": {},
   "source": [
    "### 1. Syntax Errors\n",
    "A syntax error occurs in Python when the interpreter is unable to parse the code due to the code violating Python language rules, such as inappropriate indentation, erroneous keyword usage, or incorrect operator use. Syntax errors prohibit the code from running, and the interpreter displays an error message that specifies the problem and where it occurred in the code. Here's an example of a Python syntax error:\n",
    "\n",
    "x = 2\n",
    "\n",
    "\n",
    "if x == 2\n",
    "\n",
    "print(\"x is 2\")\n",
    "\n",
    "on console:\n",
    "\n",
    "SyntaxError: expected ':'\n",
    "\n",
    "Here above we intentionally made a mistake of inappropriate indentation in if-block and forget to put collon after if-statement.\n",
    "\n",
    "### 2. Runtime Errors\n",
    "In Python, a runtime error occurs when the program is executing and encounters an unexpected condition that prevents it from continuing. Runtime errors are also known as exceptions and can occur for various reasons such as division by zero, attempting to access an index that is out of range, or calling a function that does not exist.\n",
    " ### Types of run-time Errors :-\n",
    "### A. NameError:\n",
    "A NameError in Python is raised when the interpreter encounters a variable or function name that it cannot find in the current scope. This can happen for a variety of reasons, such as misspelling a variable or function name, using a variable or function before it is defined, or referencing a variable or function that is outside the current scope. Here's an example of a NameError in Python:\n",
    "\n",
    "def calculate_sum(a, b):\n",
    "\n",
    "    total = a + b\n",
    "\n",
    "    return total\n",
    "\n",
    "x = 5\n",
    "\n",
    "y = 10\n",
    "\n",
    "z = calculate_sum(x, w)\n",
    "\n",
    "print(z)\n",
    "\n",
    "\n",
    "on console:\n",
    "\n",
    "Traceback (most recent call last):\n",
    "    File \"c:\\Users\\name\\OneDrive\\Desktop\\demo.py\", line 7, in <module>\n",
    "        Z = calculate_sum(x, w)\n",
    "                             ^\n",
    "                             \n",
    "NameError: name 'w' is not defined\n",
    "\n",
    "\n",
    "### B. TypeError:\n",
    "In Python, a TypeError is raised when an operation or function is applied to an object of an inappropriate type. This can happen when trying to perform arithmetic or logical operations on incompatible data types or when passing arguments of the wrong type to a function. Here's an example of a TypeError in Python:\n",
    "\n",
    "\n",
    "x = \"10\"\n",
    "\n",
    "y = 5\n",
    "\n",
    "Z = x + y\n",
    "\n",
    "print(z)\n",
    "\n",
    "on-console:\n",
    "\n",
    "Traceback (most recent call last):\n",
    "\n",
    "      File \"c:\\Users\\name\\OneDrive\\Desktop\\demo.py\", line 3, in <module>\n",
    "        Z = x + y\n",
    "            ~~^~~\n",
    "\n",
    "TypeError: can only concatenate str (not \"int\") to str\n",
    "\n",
    "\n",
    "### B.1 Value error:\n",
    "this kind of errors occured during run-time when user intentionally or unintentionally or for testing program with cutting edge test-cases and values he/she enters the value of var which is not suitable for a d-type of var there.\n",
    "Ex:\n",
    "\n",
    "x=int(input(\"give me the value of x: \"))\n",
    "\n",
    "and if i enter like this :\n",
    "\n",
    "give me the value of x: b\n",
    "\n",
    "then on-console:\n",
    "\n",
    "Traceback (most recent call last):\n",
    "\n",
    "  File \"<stdin>\", line 1, in <module>\n",
    "\n",
    "ValueError: invalid literal for int() with base 10: 'b'\n",
    "\n",
    "\n",
    "### C. IndexError\n",
    "An IndexError is raised in Python when we try to access an index of a sequence (such as a string, list, or tuple) that is out of range. This can happen when we try to access an element that doesn't exist in the sequence or when we try to access an element at an index that is greater than or equal to the length of the sequence. Here's an example of an IndexError in Python:\n",
    "\n",
    "my_list = [100, 200, 300, 400, 500]\n",
    "\n",
    "print(my_list[5])\n",
    "\n",
    "on-console:\n",
    "\n",
    "Traceback (most recent call last):\n",
    "\n",
    "      File \"c:\\Users\\name\\OneDrive\\Desktop\\demo.py\", line 2, in <module>\n",
    "        print(my_list[p\n",
    "            ~~^~~\n",
    "\n",
    "IndexError: list index out of range\n",
    "\n",
    "### D. AttributeError\n",
    "In Python, an AttributeErroris raised when you try to access an attribute or method of an object that does not exist or is not defined for that object. This can happen when you misspell the name of an attribute or method or when you try to access an attribute or method that is not defined for the type of object you are working with. Here's an example of an AttributeError in Python:\n",
    "\n",
    "my_string = \"Hello, world!\"\n",
    "\n",
    "my_string.reverse()\n",
    "\n",
    "on-console:\n",
    "\n",
    "  Traceback (most recent call last):\n",
    "    File \"c:\\Users\\name\\OneDrive\\Desktop\\demo.py\", line 2, in <module>\n",
    "        my_string.reverse()\n",
    "        ^^^^^^^^^^^^^^^^^\n",
    "\n",
    "AttributeError: 'str' object has no attribute 'reverse'\n",
    "\n",
    "### 3. Logical Errors\n",
    "A logical error occurs in Python when the code runs without any syntax or runtime errors but produces incorrect results due to flawed logic in the code. These types of errors are often caused by incorrect assumptions, an incomplete understanding of the problem, or the incorrect use of algorithms or formulas.\n",
    "\n",
    "Unlike syntax or runtime errors, logical errors can be challenging to detect and fix because the code runs without producing any error messages. The results may seem correct, but the code might produce incorrect output in certain situations."
   ]
  },
  {
   "cell_type": "code",
   "execution_count": 4,
   "metadata": {},
   "outputs": [
    {
     "name": "stdout",
     "output_type": "stream",
     "text": [
      "you entered wrong type of value for X here, plz enter in integer value only\n"
     ]
    }
   ],
   "source": [
    "# here we try to except the value error \n",
    "# for trying and excepting each and every errors \n",
    "# for that we have to first know that what kind of errors can be possible while running current program \n",
    "# [as here we know ValueError can be possible if user enter value of x which ;s not integer-dtype ]\n",
    "\n",
    "try:    # in try block we enclose those section(s) of code where we know that a some kind of error can be obtained there.\n",
    "    \n",
    "    x= int(input(\"enter x's value: \"))  # this is the code line where if user not enter suitable integer value then it can terminate the program with value-Error\n",
    "    print(f\"here value of x is: {x}\")\n",
    "except ValueError:\n",
    "    print(\"you entered wrong type of value for X here, plz enter in integer value only\")\n",
    "    #while excepting errors we just have to preview the error mesaage of exactly what goes wrong while excecution of above code enclosed by try block     "
   ]
  },
  {
   "cell_type": "code",
   "execution_count": 7,
   "metadata": {},
   "outputs": [
    {
     "name": "stdout",
     "output_type": "stream",
     "text": [
      "you entered wrong type of value for y here, plz enter in integer value only\n"
     ]
    },
    {
     "ename": "NameError",
     "evalue": "name 'y' is not defined",
     "output_type": "error",
     "traceback": [
      "\u001b[1;31m---------------------------------------------------------------------------\u001b[0m",
      "\u001b[1;31mNameError\u001b[0m                                 Traceback (most recent call last)",
      "Cell \u001b[1;32mIn[7], line 13\u001b[0m\n\u001b[0;32m     10\u001b[0m     \u001b[38;5;28mprint\u001b[39m(\u001b[38;5;124m\"\u001b[39m\u001b[38;5;124myou entered wrong type of value for y here, plz enter in integer value only\u001b[39m\u001b[38;5;124m\"\u001b[39m)\n\u001b[0;32m     12\u001b[0m \u001b[38;5;66;03m#and now here we going to put print-fn line \u001b[39;00m\n\u001b[1;32m---> 13\u001b[0m \u001b[38;5;28mprint\u001b[39m(\u001b[38;5;124mf\u001b[39m\u001b[38;5;124m\"\u001b[39m\u001b[38;5;124mhere value of y is: \u001b[39m\u001b[38;5;132;01m{\u001b[39;00m\u001b[43my\u001b[49m\u001b[38;5;132;01m}\u001b[39;00m\u001b[38;5;124m\"\u001b[39m)  \u001b[38;5;66;03m#what may go wrong here?\u001b[39;00m\n",
      "\u001b[1;31mNameError\u001b[0m: name 'y' is not defined"
     ]
    }
   ],
   "source": [
    "#here in the above code if we specifically wants to include only that code of line which might obtain error\n",
    "#here in out above program its the integer input function line which saves value to the x variable \n",
    "# if that line excecute fine with suitable integer value then next line of code which's print-fn eventually work fine \n",
    "# then why we include then print-fn line in that try block ..will simply add one line of int-input fn\n",
    "# but here's catch :----[let's see what it's] \n",
    "try:\n",
    "    y= int(input(\"enter y's value: \"))\n",
    "\n",
    "except ValueError:\n",
    "    print(\"you entered wrong type of value for y here, plz enter in integer value only\")\n",
    "    \n",
    "#and now here we going to put print-fn line \n",
    "print(f\"here value of y is: {y}\")  #what may go wrong here?\n",
    "\n",
    "# here we can see as it's indeed the viewing error msg but at the same time throwing another error which's NameError here\n",
    "#as it's showing that 'y' is not defined its means that whatever unsuitable value user wants to enter for y its doesnt actually assigned to variable y\n",
    "# y= int(input(\"enter y's value: \"))   here on RHS whole int-input fn raised error which;s excepted further with error-msg but eventually value of y not assigned as it was not integer in type \n",
    "# that's why in further print fn it's give us the NameError \n",
    "\n"
   ]
  },
  {
   "cell_type": "code",
   "execution_count": 11,
   "metadata": {},
   "outputs": [
    {
     "name": "stdout",
     "output_type": "stream",
     "text": [
      "you entered wrong type of value for z here, plz enter in integer value only\n"
     ]
    }
   ],
   "source": [
    "# for solving above these kind of problems we have another keyword 'else'\n",
    "try:\n",
    "    z= int(input(\"enter z's value: \"))\n",
    "except ValueError:\n",
    "    print(\"you entered wrong type of value for z here, plz enter in integer value only\")\n",
    "    \n",
    "#and now here we going to put print-fn line  in the else-block\n",
    "# means if no any error raised by RHS of assignment operator which's int-input fn here then exception msg will be viewed and else-block will be ignored\n",
    "# if no error raised in try-block then else -block will be printed  \n",
    "else:\n",
    "    \n",
    "    print(f\"here value of z is: {z}\") "
   ]
  },
  {
   "cell_type": "code",
   "execution_count": 13,
   "metadata": {},
   "outputs": [
    {
     "name": "stdout",
     "output_type": "stream",
     "text": [
      "You're not entering suitable integer value here \n",
      "You're not entering suitable integer value here \n",
      "You're not entering suitable integer value here \n",
      "You're not entering suitable integer value here \n",
      "You're not entering suitable integer value here \n",
      "value of 'p' is :46\n"
     ]
    }
   ],
   "source": [
    "# what if we want to prompt user with respective error-exceptionn-msg utill unless he/she will ne entering the appropriate integer value for variable\n",
    "# as for such condition we always use while function \n",
    "while True:\n",
    "    try: # if in try statement the code raised error then code enclosed by try will not be executed and exception msg will be printed\n",
    "        p = int(input(\"WHat's the value of 'p':\"))\n",
    "        break # here we will break if suitable value entered by user(as it will not going to raise any error in try-block) then not going to prompt user further with exception-msg\n",
    "    except ValueError:\n",
    "        print(\"You're not entering suitable integer value here \") \n",
    "        \n",
    "print(f\"value of 'p' is :{p}\")   "
   ]
  },
  {
   "cell_type": "code",
   "execution_count": 15,
   "metadata": {},
   "outputs": [
    {
     "name": "stdout",
     "output_type": "stream",
     "text": [
      "please enter the suitable integer value of variable here!!!\n",
      "please enter the suitable integer value of variable here!!!\n",
      "please enter the suitable integer value of variable here!!!\n",
      "value of variable here's 34\n"
     ]
    }
   ],
   "source": [
    "# now if we want to make a function which basically takes integer value and assingns it to the defined variable \n",
    "# also pmpt user if he/she enters unsuitable value of var untill unless he/she enters appropriate value of var.\n",
    "def main():\n",
    "    q = Suit_int()\n",
    "    print(f\"value of variable here's {q}\")\n",
    "def Suit_int():\n",
    "    while True:\n",
    "        \n",
    "       try:\n",
    "           n = int(input(\"what's the value of variable\"))\n",
    "           return n   # here i used straightforwardly return-fn as this fn itself break the while loop as well as return the value of variable ; so no use of break statement here\n",
    "       \n",
    "       except ValueError:\n",
    "           print(\"please enter the suitable integer value of variable here!!!\") \n",
    "                          \n",
    "main()"
   ]
  },
  {
   "cell_type": "code",
   "execution_count": 18,
   "metadata": {},
   "outputs": [
    {
     "name": "stdout",
     "output_type": "stream",
     "text": [
      "value of variable -r here's 38\n"
     ]
    }
   ],
   "source": [
    "#what if we dont want to prompt user again and agian if he/she enters the unsuitable value of var...\n",
    "#for that purpose we just use pass-statment to pass simply control of execution to try-block without exception-msg or error warning \n",
    "def main2():\n",
    "    r = Suit_int2(\"what's the value of 'r': \")\n",
    "    print(f\"value of variable -r here's {r}\")\n",
    "def Suit_int2(prompt):  # here passing prompt as string var which eventually ask user with msg as same as asked in main-fn\n",
    "    while True:\n",
    "        \n",
    "       try:\n",
    "           n = int(input(prompt))\n",
    "           return n   # here i used straightforwardly return-fn as this fn itself break the while loop as well as return the value of variable ; so no use of break statement here\n",
    "       \n",
    "       except ValueError:\n",
    "           #print(\"please enter the suitable integer value of variable here!!!\") \n",
    "           pass               \n",
    "main2()"
   ]
  }
 ],
 "metadata": {
  "kernelspec": {
   "display_name": "cs50pyenv",
   "language": "python",
   "name": "python3"
  },
  "language_info": {
   "codemirror_mode": {
    "name": "ipython",
    "version": 3
   },
   "file_extension": ".py",
   "mimetype": "text/x-python",
   "name": "python",
   "nbconvert_exporter": "python",
   "pygments_lexer": "ipython3",
   "version": "3.12.2"
  }
 },
 "nbformat": 4,
 "nbformat_minor": 2
}
