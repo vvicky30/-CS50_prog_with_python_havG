class Person:
    def __init__(self, name, age):
        self.name = name
        self.age = age

    def __str__(self):
        return f"{self.name} of age: {self.age}"

    @property
    def name(self):
        return self._name

    @name.setter
    def name(self, name):
        if not name:
            raise ValueError("You did not enter the Name here")
        self._name = name

    @property
    def age(self):
        return self._age

    @age.setter
    def age(self, age):
        if not isinstance(age, int):
            raise ValueError("Age must be a number.")
        if not 1 <= age <= 120:
            raise ValueError("Please enter a valid age between 1 and 120 years")
        self._age = age

    @classmethod
    def get_personinfo(cls):
        n = input("Person_Name: ").strip().title()
        while True:
            try:
                a = int(input("Person_Age: "))
                return cls(n, a)
            except ValueError as e:
                print(e)

class Student(Person):
    def __init__(self, name, age, house_color):
        super().__init__(name, age)
        self.house_color = house_color

    def __str__(self):
        return f"{self.age} year old {self.name} of {self.house_color}-House"

    @property
    def house_color(self):
        return self._house_color

    @house_color.setter
    def house_color(self, house_color):
        if house_color not in ["Red", "Blue", "Yellow", "Green"]:
            raise ValueError("Please enter a valid House_Color")
        self._house_color = house_color

    @property
    def age(self):
        return self._age

    @age.setter
    def age(self, age):
        if not isinstance(age, int):
            raise ValueError("Age must be a number.")
        if not 4 <= age <= 30:
            raise ValueError("Please enter a valid age between 4 and 30 years for a student")
        self._age = age

    @classmethod
    def get_student(cls):
        n = input("Student_Name: ").strip().title()
        while True:
            try:
                a = int(input("Student_Age: "))
                h = input("House_Color: ").strip().title()
                return cls(n, a, h)
            except ValueError as e:
                print(e)

def main():
    person = Person.get_personinfo()
    print(person)
    student = Student.get_student()
    print(student)

if __name__ == "__main__":
    main()
