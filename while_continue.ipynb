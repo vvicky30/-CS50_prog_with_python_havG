{
 "cells": [
  {
   "cell_type": "code",
   "execution_count": 3,
   "metadata": {},
   "outputs": [
    {
     "name": "stdout",
     "output_type": "stream",
     "text": [
      "so you entered this string: SphInixHerodOtous\n",
      "length of your entered string: 17\n",
      "Here we're going to print each letter of your name one-by-one:\n",
      "letter-1 of your name: S\n",
      "letter-2 of your name: p\n",
      "letter-3 of your name: h\n",
      "letter-4 of your name: I\n",
      "letter-5 of your name: n\n",
      "letter-6 of your name: i\n",
      "letter-7 of your name: x\n",
      "letter-8 of your name: H\n",
      "letter-9 of your name: e\n",
      "letter-10 of your name: r\n",
      "letter-11 of your name: o\n",
      "letter-12 of your name: d\n",
      "letter-13 of your name: O\n",
      "letter-14 of your name: t\n",
      "letter-15 of your name: o\n",
      "letter-16 of your name: u\n",
      "letter-17 of your name: s\n",
      "Here we're going to print each letter of your name one-by-one except for letters like 'I/i' or 'O/o':\n",
      "letter-1 of your name: S\n",
      "letter-2 of your name: p\n",
      "letter-3 of your name: h\n",
      "Here letter-4 skipped [or we can say its scope destoryed to be print]\n",
      "letter-5 of your name: n\n",
      "Here letter-6 skipped [or we can say its scope destoryed to be print]\n",
      "letter-7 of your name: x\n",
      "letter-8 of your name: H\n",
      "letter-9 of your name: e\n",
      "letter-10 of your name: r\n",
      "Here letter-11 skipped [or we can say its scope destoryed to be print]\n",
      "letter-12 of your name: d\n",
      "Here letter-13 skipped [or we can say its scope destoryed to be print]\n",
      "letter-14 of your name: t\n",
      "Here letter-15 skipped [or we can say its scope destoryed to be print]\n",
      "letter-16 of your name: u\n",
      "letter-17 of your name: s\n"
     ]
    }
   ],
   "source": [
    "ur_name = input(\"please enter your name with surname, without spaces in between them\").strip() # strip-fn for ignoring white-spaces befor left and beyond right-side of string \n",
    "print(f\"so you entered this string: {ur_name}\")\n",
    "print(f\"length of your entered string: {len(ur_name)}\")\n",
    "\n",
    "print(\"Here we're going to print each letter of your name one-by-one:\")\n",
    "i=0 # counter initilization\n",
    "while i < len(ur_name):    \n",
    "    print(f\"letter-{i+1} of your name: {ur_name[i]}\")\n",
    "    i += 1\n",
    "\n",
    "'''\n",
    "Loop control statements change execution from their normal sequence. \n",
    "When loop-execution leaves a scope, all automatic objects that were created in that scope are destroyed or skipped.\n",
    "'''\n",
    "#here we're going to use while loop with 'Continue-Statement' \n",
    "print(\"Here we're going to print each letter of your name one-by-one except for letters like 'I/i' or 'O/o':\")\n",
    "j=0 #counter initialization\n",
    "while j < len(ur_name):\n",
    "    if  ur_name[j]=='i' or ur_name[j]=='I' or ur_name[j]=='o' or ur_name[j]=='O':\n",
    "        # this if-block will be excecuted if counter encountered letter I/i or O/o , these letters will be skipped \n",
    "        #if this block not excecuted for those given words eventually else or default one excecuted further with loop sequqnce \n",
    "        print(f\"Here letter-{j+1} skipped [or we can say its scope destoryed to be print]\")\n",
    "        j += 1  # counter increased without prinitng these letters\n",
    "        continue # here with this 'continue' keyword lopp will not be terminated but control will be passed on back the lopp orignal sequence with updated counter\n",
    "    \n",
    "    print(f\"letter-{j+1} of your name: {ur_name[j]}\")\n",
    "    j += 1 \n",
    "    \n",
    "        \n",
    "\n",
    "         "
   ]
  },
  {
   "cell_type": "code",
   "execution_count": 4,
   "metadata": {},
   "outputs": [
    {
     "name": "stdout",
     "output_type": "stream",
     "text": [
      "so you entered this string: SphinixHerodOtous\n",
      "length of your entered string: 17\n",
      "here i am going to terminate excecution sequence once counter encountered letter 'O/o' in string\n",
      "letter-1 of your name: S\n",
      "letter-2 of your name: p\n",
      "letter-3 of your name: h\n",
      "letter-4 of your name: i\n",
      "letter-5 of your name: n\n",
      "letter-6 of your name: i\n",
      "letter-7 of your name: x\n",
      "letter-8 of your name: H\n",
      "letter-9 of your name: e\n",
      "letter-10 of your name: r\n",
      "at position 11 letter-o encountered\n"
     ]
    }
   ],
   "source": [
    "#while-loop with Break-statement\n",
    "ur_nm = input(\"please enter your name with surname, without spaces in between them\").strip() # strip-fn for ignoring white-spaces befor left and beyond right-side of string \n",
    "print(f\"so you entered this string: {ur_nm}\")\n",
    "print(f\"length of your entered string: {len(ur_nm)}\")\n",
    "\n",
    "print(\"here i am going to terminate excecution sequence once counter encountered letter 'O/o' in string\")\n",
    "\n",
    "i=0 \n",
    "while i < len(ur_nm):\n",
    "    if ur_nm[i] == 'o' or ur_nm[i] == 'O' :\n",
    "        print(f\"at position {i+1} letter-{ur_nm[i]} encountered\")\n",
    "        i += 1\n",
    "        break # this will terminate ongoing loop , brings control out of the loop.\n",
    "    print(f\"letter-{i+1} of your name: {ur_nm[i]}\")\n",
    "    i += 1\n",
    "    "
   ]
  },
  {
   "cell_type": "code",
   "execution_count": 8,
   "metadata": {},
   "outputs": [
    {
     "name": "stdout",
     "output_type": "stream",
     "text": [
      "17\n"
     ]
    }
   ],
   "source": [
    "#while loop with pass statement to write empty loops , pass can also be used for empty control statements , function and classes\n",
    "i=0 \n",
    "while i < len(ur_nm):\n",
    " \n",
    "    i += 1\n",
    "    pass \n",
    "print(i)"
   ]
  },
  {
   "cell_type": "code",
   "execution_count": 9,
   "metadata": {},
   "outputs": [
    {
     "name": "stdout",
     "output_type": "stream",
     "text": [
      "1\n",
      "2\n",
      "3\n",
      "4\n",
      "No Break\n",
      "\n",
      "1\n"
     ]
    }
   ],
   "source": [
    "#While loop with else\n",
    "'''\n",
    "As discussed above, while loop executes the block until a condition is satisfied. When the condition becomes false, the statement immediately after the loop is executed. \n",
    "The else clause is only executed when your while condition becomes false. \n",
    "If you break out of the loop, or if an exception is raised, it won’t be executed.\n",
    "\n",
    "Note: The else block just after for/while is executed only when the loop is \n",
    "NOT terminated by a break statement. \n",
    "'''\n",
    "i = 0\n",
    "while i < 4: \n",
    "    i += 1\n",
    "    print(i) \n",
    "else:  # Executed because no break in for \n",
    "    print(\"No Break\\n\") \n",
    "  \n",
    "i = 0\n",
    "while i < 4: \n",
    "    i += 1\n",
    "    print(i) \n",
    "    break\n",
    "else:  # Not executed as there is a break \n",
    "    print(\"No Break\") "
   ]
  },
  {
   "cell_type": "markdown",
   "metadata": {},
   "source": [
    "### Sentinel Controlled Statement\n",
    "In this, we don’t use any counter variable because we don’t know how many times the loop will execute. Here user decides how many times he wants to execute the loop. For this, we use a sentinel value. A sentinel value is a value that is used to terminate a loop whenever a user enters it, generally, the sentinel value is -1.\n",
    "\n",
    "\n",
    "Python while loop with user input\n",
    "\n",
    "\n",
    "Here, It first asks the user to input a number. if the user enters -1 then the loop will not execute, i.e.\n",
    "\n",
    "\n",
    "The user enters 6 and the body of the loop executes and again asks for input\n",
    "Here user can input many times until he enters -1 to stop the loop\n",
    "\n",
    "User can decide how many times he wants to enter input"
   ]
  },
  {
   "cell_type": "code",
   "execution_count": 18,
   "metadata": {},
   "outputs": [
    {
     "name": "stdout",
     "output_type": "stream",
     "text": [
      "so Here is the list so far made from elements you appended:  [12, 13, 56, 45, 34, 65, 7, 4, 6, 34, 89]\n"
     ]
    }
   ],
   "source": [
    "# no need to initialize any counter ,as here we're going to use sentinental controll\n",
    "a = int(input(\"Enter a value that you want to append in the ongoing list \\n[NOTE: Enter '-1' to quit appending]\"))\n",
    "list_sofar = [] # here i make empty list \n",
    "while a != -1 : # this while loop will be continued for each value of a not euqal to -1 and correspondingly excecute each time\n",
    "       list_sofar.append(a) # appending element through append-fn for list-dtype\n",
    "       a = int(input(\"Enter a value that you want to append in the ongoing list \\n[NOTE: Enter '-1' to quit appending]\"))\n",
    "\n",
    "print(\"so Here is the list so far made from elements you appended: \",list_sofar)"
   ]
  },
  {
   "cell_type": "code",
   "execution_count": 22,
   "metadata": {},
   "outputs": [
    {
     "name": "stdout",
     "output_type": "stream",
     "text": [
      "89\n",
      "34\n",
      "6\n",
      "4\n",
      "7\n",
      "65\n",
      "34\n",
      "45\n",
      "56\n",
      "13\n",
      "12\n",
      "Here's your empty list: []\n"
     ]
    }
   ],
   "source": [
    "#here we're going to pop-out elements from above built list of appended numbers one by one \n",
    "# through while loop , while block excecute pop function for each element in list , untill unless list is empty\n",
    "# once list empty; that empty list will give false boolean o/p enetually doesn't satisfy the while condition and lopp breaks at that time. \n",
    "while list_sofar : # untill unless list is completely empty [as empty list gives False vlaue]\n",
    "    print(list_sofar.pop())  # it will pop the elements from list [from right to left]\n",
    "\n",
    "print(\"Here's your empty list:\", list_sofar)"
   ]
  }
 ],
 "metadata": {
  "kernelspec": {
   "display_name": "cs50pyenv",
   "language": "python",
   "name": "python3"
  },
  "language_info": {
   "codemirror_mode": {
    "name": "ipython",
    "version": 3
   },
   "file_extension": ".py",
   "mimetype": "text/x-python",
   "name": "python",
   "nbconvert_exporter": "python",
   "pygments_lexer": "ipython3",
   "version": "3.12.2"
  }
 },
 "nbformat": 4,
 "nbformat_minor": 2
}
