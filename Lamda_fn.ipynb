{
 "cells": [
  {
   "cell_type": "code",
   "execution_count": 20,
   "metadata": {},
   "outputs": [
    {
     "name": "stdout",
     "output_type": "stream",
     "text": [
      "o/p from regular user defined subtraction-fn:786\n"
     ]
    }
   ],
   "source": [
    "#as we earlier defining fns out of main fns and calling them wihtin main fns etc \n",
    "#but here we're going to use lambda fn (a built in concept in python used for defining anynomous fns generally used for small operations and data manipulations)\n",
    "\n",
    "#here we're going to see things in contrast , \n",
    "#firstly going to make user defined function for subtraction of two numbers\n",
    "def subtraction(a=0, b=0): #here we're taking a & b vars with default value zero\n",
    "    if(a>b):\n",
    "        return(a-b)\n",
    "    else:\n",
    "        return(b-a)\n",
    "x,y = [int(x) for x in input(\"enter the two numbers you want to subtract: \").split()] \n",
    "#above is the way to take multiple i/p(s) from user and save it to the multiple variables , here we used split fn , so it take single single values before and after space,  as we're splitting numbers based on encountered white spaces.  \n",
    "\n",
    "s = subtraction(x,y)\n",
    "print(f\"o/p from regular user defined subtraction-fn:{s}\")"
   ]
  },
  {
   "cell_type": "code",
   "execution_count": 21,
   "metadata": {},
   "outputs": [
    {
     "name": "stdout",
     "output_type": "stream",
     "text": [
      "so here're your entered three values: 13, 56, 44\n"
     ]
    }
   ],
   "source": [
    "#example snippet for taking multiples values from user in sigle line code:\n",
    "#if i want to take three multiple values from user from single line input code and then want to save those three value to respective variables\n",
    "p,q,s = [int(p) for p in input(\"please enter the three values splitted by space: \").split()]\n",
    "print(f\"so here're your entered three values: {p}, {q}, {s}\")"
   ]
  },
  {
   "cell_type": "code",
   "execution_count": 23,
   "metadata": {},
   "outputs": [
    {
     "name": "stdout",
     "output_type": "stream",
     "text": [
      "so lambda_subtraction function o/p: <function <lambda> at 0x00000182A9A98CC0>\n"
     ]
    }
   ],
   "source": [
    "#so for above subtraction fns , thier equvivalent lambda fn will be like that:\n",
    "x,y = [int(x) for x in input(\"enter two numbers in descending order you want two subtract: \").split()]\n",
    "s = lambda x,y : x-y\n",
    "print(f\"so lambda_subtraction function o/p: {s}\")\n",
    "#as here you will see the unexpected  o/p , instead of showing diff between x and y , it will show s(which is anynomous lambda fn itself) address\n"
   ]
  }
 ],
 "metadata": {
  "kernelspec": {
   "display_name": "cs50pyenv",
   "language": "python",
   "name": "python3"
  },
  "language_info": {
   "codemirror_mode": {
    "name": "ipython",
    "version": 3
   },
   "file_extension": ".py",
   "mimetype": "text/x-python",
   "name": "python",
   "nbconvert_exporter": "python",
   "pygments_lexer": "ipython3",
   "version": "3.12.2"
  }
 },
 "nbformat": 4,
 "nbformat_minor": 2
}
