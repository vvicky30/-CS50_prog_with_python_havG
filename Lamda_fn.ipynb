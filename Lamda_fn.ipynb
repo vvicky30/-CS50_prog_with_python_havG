{
 "cells": [
  {
   "cell_type": "code",
   "execution_count": 20,
   "metadata": {},
   "outputs": [
    {
     "name": "stdout",
     "output_type": "stream",
     "text": [
      "o/p from regular user defined subtraction-fn:786\n"
     ]
    }
   ],
   "source": [
    "#as we earlier defining fns out of main fns and calling them wihtin main fns etc \n",
    "#but here we're going to use lambda fn (a built in concept in python used for defining anynomous fns generally used for small operations and data manipulations)\n",
    "\n",
    "#here we're going to see things in contrast , \n",
    "#firstly going to make user defined function for subtraction of two numbers\n",
    "def subtraction(a=0, b=0): #here we're taking a & b vars with default value zero\n",
    "    if(a>b):\n",
    "        return(a-b)\n",
    "    else:\n",
    "        return(b-a)\n",
    "x,y = [int(x) for x in input(\"enter the two numbers you want to subtract: \").split()] \n",
    "#above is the way to take multiple i/p(s) from user and save it to the multiple variables , here we used split fn , so it take single single values before and after space,  as we're splitting numbers based on encountered white spaces.  \n",
    "\n",
    "s = subtraction(x,y)\n",
    "print(f\"o/p from regular user defined subtraction-fn:{s}\")"
   ]
  },
  {
   "cell_type": "code",
   "execution_count": 21,
   "metadata": {},
   "outputs": [
    {
     "name": "stdout",
     "output_type": "stream",
     "text": [
      "so here're your entered three values: 13, 56, 44\n"
     ]
    }
   ],
   "source": [
    "#example snippet for taking multiples values from user in sigle line code:\n",
    "#if i want to take three multiple values from user from single line input code and then want to save those three value to respective variables\n",
    "p,q,s = [int(p) for p in input(\"please enter the three values splitted by space: \").split()]\n",
    "print(f\"so here're your entered three values: {p}, {q}, {s}\")"
   ]
  },
  {
   "cell_type": "code",
   "execution_count": 1,
   "metadata": {},
   "outputs": [
    {
     "name": "stdout",
     "output_type": "stream",
     "text": [
      "so lambda_subtraction function o/p: <function <lambda> at 0x00000180D9999620>\n",
      "4\n"
     ]
    }
   ],
   "source": [
    "#so for above subtraction fns , thier equvivalent lambda fn will be like that:\n",
    "x,y = [int(x) for x in input(\"enter two numbers in descending order you want two subtract: \").split()]\n",
    "s = lambda x,y : x-y\n",
    "print(f\"so lambda_subtraction function o/p: {s}\")\n",
    "#as here you will see the unexpected  o/p , instead of showing diff between x and y , it will show s(which is anynomous lambda fn itself) address\n",
    "print(s(x,y))"
   ]
  },
  {
   "cell_type": "code",
   "execution_count": 2,
   "metadata": {},
   "outputs": [
    {
     "name": "stdout",
     "output_type": "stream",
     "text": [
      "Multiplication of given three numbers is : 144\n"
     ]
    }
   ],
   "source": [
    "#here now we're going to make the multiplication of three numbers lambda fns \n",
    "f, g, h = [int(x) for x in input(\"Enter three values that you want to muliply\"). split()]\n",
    "lambda_mul= lambda x,y,z : x*y*z\n",
    "print(\"Multiplication of given three numbers is :\",lambda_mul(f,g,h))"
   ]
  },
  {
   "cell_type": "code",
   "execution_count": 13,
   "metadata": {},
   "outputs": [
    {
     "name": "stdout",
     "output_type": "stream",
     "text": [
      "acessing third tuple in the list ('Herodotous', 38) \n",
      "acessing third tuples' student's roll no:38\n",
      "list of students' roll no. (in ascending-order): [('Megamind', 2), ('Caryanda', 8), ('Perseus', 18), ('Dre', 26), ('Herodotous', 38), ('Sphinix', 48)] \n",
      "list of students' roll no. (in descending-order): [('Sphinix', 48), ('Herodotous', 38), ('Dre', 26), ('Perseus', 18), ('Caryanda', 8), ('Megamind', 2)]\n"
     ]
    }
   ],
   "source": [
    "#we can use lambda function for sorting as well \n",
    "# first of all what's python's sorted-inbuilt-fn is ?\n",
    "'''\n",
    "Python sorted() Function Syntax\n",
    "sorted(iterable, key, reverse)\n",
    "\n",
    "Parameters:\n",
    "Iterable: sequence (list, tuple, string) or collection (dictionary, set, frozenset) \n",
    "or any other iterator that needs to be sorted.\n",
    "Key(optional): A small function or small operation(lambda fn definition) that would serve as a key or a basis of sort comparison.\n",
    "Reverse(optional): If True, then the iterable would be sorted in reverse (descending) order, \n",
    "by default it is set as False(means bydefault it sort values in ascending order).\n",
    "'''\n",
    "#In Python, a tuple is a data type and an ordered sequence of values, similar to a list. However, unlike lists, tuples are immutable, \n",
    "# meaning that once they are created, \n",
    "# their contents cannot be changed but the list is mutable\n",
    "#first of all here we make student tuples list with their name and roll-no.\n",
    "#whereas order in tuples which's student name followed by their roll-no, can'nt be changed but but outside each tuples and within list each tuples order can be changed, where exactly we're going to sorted out that.\n",
    "student_roll= [(\"Dre\", 26),(\"Sphinix\", 48),(\"Herodotous\", 38),(\"Perseus\", 18),(\"Megamind\", 2),(\"Caryanda\", 8)]\n",
    "\n",
    "#now we sort this list of tuples with the help of lambda-fn, here we sort student_rollno. list on the basis of their roll numbers\n",
    "print(f\"acessing third tuple in the list {student_roll[2]} \\nacessing third tuples' student's roll no:{student_roll[2][1]}\") \n",
    "sorted_student_roll_asc= sorted(student_roll, key= lambda student_list: student_list[1])\n",
    "sorted_student_roll_dsc= sorted(student_roll, key= lambda student_list: student_list[1], reverse=True)\n",
    "print(f\"list of students' roll no. (in ascending-order): {sorted_student_roll_asc} \\nlist of students' roll no. (in descending-order): {sorted_student_roll_dsc}\")"
   ]
  },
  {
   "cell_type": "code",
   "execution_count": 26,
   "metadata": {},
   "outputs": [
    {
     "name": "stdout",
     "output_type": "stream",
     "text": [
      "Even numbers in the list: [12, 32, 88, 20, 30, 34, 62, 10] \n",
      "Odd numbers in list: [45, 77, 99, 45, 65, 67, 11]\n",
      "Even numbers in the list[sorted]: [10, 12, 20, 30, 32, 34, 62, 88] \n",
      "Odd numbers in list[sorted]: [11, 45, 45, 65, 67, 77, 99]\n",
      "cube-roots Even list: [1000, 1728, 8000, 27000, 32768, 39304, 238328, 681472] \n",
      "cube-roots Odd list:[1331, 91125, 91125, 274625, 300763, 456533, 970299]\n",
      "cube-root Even + cube-root Odd =  [2331, 92853, 99125, 301625, 333531, 495837, 1208627]\n"
     ]
    }
   ],
   "source": [
    "'''\n",
    "Filtering with Lambda :\n",
    "In this example, \n",
    "we use a lambda function with the filter function to filtering out even numbers \n",
    "from a list.\n",
    "\n",
    "The filter() method in Python has the following syntax:\n",
    "\n",
    "Syntax: filter(function, sequence)\n",
    "\n",
    "Parameters:\n",
    "\n",
    "poster\n",
    "function: function that tests if each element of a sequence is true or not.\n",
    "sequence: sequence which needs to be filtered, \n",
    "          it can be sets, lists, tuples, or containers of any iterators.\n",
    "\n",
    "'''\n",
    "num_list=[12,45,32,77,88,99,45,65,67,20,30,34,62,10,11]\n",
    "#here we're going to filtering out even & odd numbers form given list\n",
    "Even_num_list=list(filter(lambda x : x % 2 == 0, num_list )) # for even numbers\n",
    "\n",
    "\n",
    "odd_num_list=list(filter(lambda x : x % 2 != 0, num_list ))# for odd numbers\n",
    "\n",
    "print(f\"Even numbers in the list: {Even_num_list} \\nOdd numbers in list: {odd_num_list}\")    \n",
    "#sorting both even and odd lists of numbers\n",
    "sorted_Even_num_list= sorted(Even_num_list)\n",
    "sorted_odd_num_list= sorted(odd_num_list) \n",
    "print(f\"Even numbers in the list[sorted]: {sorted_Even_num_list} \\nOdd numbers in list[sorted]: {sorted_odd_num_list}\")    \n",
    "\n",
    "#now going to use the mapping inbuilt functions with lambda \n",
    "'''\n",
    "Syntax: map(fun, iter)\n",
    "\n",
    "Parameters:\n",
    "\n",
    "fun: It is a function to which map passes each element of given iterable.\n",
    "iter: It is iterable which is to be mapped.\n",
    "NOTE: You can pass one or more iterable to the map() function.\n",
    "'''\n",
    "#here we're going to make list of cube-roots of even and odd lists:\n",
    "cube_E_list= list(map(lambda x: x**3, sorted_Even_num_list))\n",
    "cube_O_list= list(map(lambda x: x**3, sorted_odd_num_list))\n",
    "print(f\"cube-roots Even list: {cube_E_list} \\ncube-roots Odd list:{cube_O_list}\")\n",
    "\n",
    "#we can also add the cube-even and cube-odd list with help of map and lambda function\n",
    "add_cube_EO=list(map(lambda x,y: x+y, cube_E_list, cube_O_list))\n",
    "print(\"cube-root Even + cube-root Odd = \",add_cube_EO)"
   ]
  },
  {
   "cell_type": "code",
   "execution_count": 31,
   "metadata": {},
   "outputs": [
    {
     "name": "stdout",
     "output_type": "stream",
     "text": [
      "number list:  [12, 45, 32, 77, 88, 99, 45, 65, 67, 20, 30, 34, 62, 10, 11]\n",
      "minimum element from list:  10\n",
      "maximum element from list:  99\n"
     ]
    }
   ],
   "source": [
    "#now we're using lambda function with max function\n",
    "'''\n",
    "Syntax : max(arg1, arg2, *args[, key]) \n",
    "\n",
    "Parameters : \n",
    "\n",
    "arg1, arg2 : objects of the same datatype\n",
    "*args : multiple objects\n",
    "key : function where comparison of iterable is performed based on its return value\n",
    "'''\n",
    "print(\"number list: \",num_list)\n",
    "max_n= max(num_list, key=lambda x: x)# for simply max\n",
    "#for min element from list using max function and lambda \n",
    "min_n= max(num_list, key= lambda x: -x)#as here we're taking negation of elements , and then all elements will be compared based on that, and then max will be return, \n",
    "#here for ex :[-3, -10, -45, -56] then max here will be 3 will return smallest value on list\n",
    "print(\"minimum element from list: \",min_n)\n",
    "print(\"maximum element from list: \",max_n)\n"
   ]
  },
  {
   "cell_type": "code",
   "execution_count": 36,
   "metadata": {},
   "outputs": [
    {
     "name": "stdout",
     "output_type": "stream",
     "text": [
      "sorted by age : [{'name': 'Caryanda', 'age': 16}, {'name': 'Leon', 'age': 23}, {'name': 'Herodotous', 'age': 32}, {'name': 'Sphinix', 'age': 41}, {'name': 'Dre', 'age': 56}]\n",
      "sorted by age and then by name : [{'name': 'Caryanda', 'age': 16}, {'name': 'Leon', 'age': 23}, {'name': 'Herodotous', 'age': 32}, {'name': 'Sphinix', 'age': 41}, {'name': 'Dre', 'age': 56}]\n",
      "sorted by name : [{'name': 'Caryanda', 'age': 16}, {'name': 'Dre', 'age': 56}, {'name': 'Herodotous', 'age': 32}, {'name': 'Leon', 'age': 23}, {'name': 'Sphinix', 'age': 41}]\n"
     ]
    }
   ],
   "source": [
    "#Using Lambda with sorted and Multiple Criteria\n",
    "#In this example, we use a lambda function with the key argument for sorted to sort a list of dictionaries by age and then by name.\n",
    "#list of dictionaries representing citizen names and corresponding age\n",
    "citizen = [{\"name\" : \"Dre\", \"age\":56},{\"name\" : \"Sphinix\", \"age\":41},{\"name\": \"Herodotous\", \"age\":32},{\"name\":\"Caryanda\", \"age\":16},{\"name\": \"Leon\", \"age\":23}]\n",
    "sorted_citiz= sorted(citizen, key = lambda citiz: (citiz[\"age\"]) )\n",
    "print(\"sorted by age :\",sorted_citiz)\n",
    "sorted_citiz1= sorted(citizen, key = lambda citiz: (citiz[\"age\"],citiz[\"name\"]) )\n",
    "print(\"sorted by age and then by name :\",sorted_citiz1)\n",
    "sorted_citiz2= sorted(citizen, key = lambda citiz: (citiz[\"name\"]) )\n",
    "print(\"sorted by name :\",sorted_citiz2)"
   ]
  },
  {
   "cell_type": "code",
   "execution_count": 38,
   "metadata": {},
   "outputs": [
    {
     "name": "stdout",
     "output_type": "stream",
     "text": [
      "number list:  [12, 45, 32, 77, 88, 99, 45, 65, 67, 20, 30, 34, 62, 10, 11]\n",
      "number list:  316058551404051456000000\n"
     ]
    }
   ],
   "source": [
    "#Using Lambda with reduce from functools\n",
    "#Here, we use a lambda function with the reduce function \n",
    "# from the functools module to calculate the product of all numbers in a list.\n",
    "from functools import reduce\n",
    "\n",
    "product_n=reduce(lambda x,y:x*y, num_list )\n",
    "print(\"number list: \",num_list)\n",
    "print(\"number list: \",product_n)"
   ]
  },
  {
   "cell_type": "code",
   "execution_count": 39,
   "metadata": {},
   "outputs": [
    {
     "name": "stdout",
     "output_type": "stream",
     "text": [
      "number list:  [12, 45, 32, 77, 88, 99, 45, 65, 67, 20, 30, 34, 62, 10, 11]\n",
      "squared EVen only:  [144, 45, 1024, 77, 7744, 99, 45, 65, 67, 400, 900, 1156, 3844, 100, 11]\n",
      "squared odd only:  [12, 2025, 32, 5929, 88, 9801, 2025, 4225, 4489, 20, 30, 34, 62, 10, 121]\n"
     ]
    }
   ],
   "source": [
    "#Using Lambda with Conditional Expressions \n",
    "#In this example, we use a lambda function with a conditional expression \n",
    "# to filter and square even numbers while leaving odd numbers unchanged.\n",
    "print(\"number list: \",num_list)\n",
    "even_sqr_list= list(map(lambda x: x**2  if x % 2 == 0  else x , num_list ))\n",
    "print(\"squared EVen only: \",even_sqr_list)\n",
    "\n",
    "# to filter and square odd numbers while leaving even numbers unchanged.\n",
    "odd_sqr_list= list(map(lambda x: x**2  if x % 2 != 0  else x , num_list ))\n",
    "print(\"squared odd only: \",odd_sqr_list)"
   ]
  },
  {
   "cell_type": "code",
   "execution_count": 1,
   "metadata": {},
   "outputs": [
    {
     "name": "stdout",
     "output_type": "stream",
     "text": [
      "product with extreame price ('laptop', 75000)\n",
      "product with minimum price ('Stream-pad', 8000)\n"
     ]
    }
   ],
   "source": [
    "#Using Lambda with key in max and min to Find Extremes\n",
    "#Here, we use lambda functions as the key argument for max and min to find the most and least expensive products in a list of tuples.\n",
    "#here list of tuples with product names and price\n",
    "\n",
    "prod= [(\"laptop\", 75000),(\"smartWatch\", 14000),(\"smartphone\", 28000),(\"LED\", 37000),(\"RO\", 18000),(\"Stream-pad\", 8000)]\n",
    "prod_max_price= max(prod, key= lambda Pro : Pro[1])\n",
    "prod_min_price= min(prod, key= lambda Pro : Pro[1])\n",
    "print(\"product with extreame price\",prod_max_price)\n",
    "print(\"product with minimum price\",prod_min_price)\n"
   ]
  },
  {
   "cell_type": "code",
   "execution_count": null,
   "metadata": {},
   "outputs": [],
   "source": []
  }
 ],
 "metadata": {
  "kernelspec": {
   "display_name": "cs50pyenv",
   "language": "python",
   "name": "python3"
  },
  "language_info": {
   "codemirror_mode": {
    "name": "ipython",
    "version": 3
   },
   "file_extension": ".py",
   "mimetype": "text/x-python",
   "name": "python",
   "nbconvert_exporter": "python",
   "pygments_lexer": "ipython3",
   "version": "3.12.2"
  }
 },
 "nbformat": 4,
 "nbformat_minor": 2
}
