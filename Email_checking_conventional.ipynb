{
 "cells": [
  {
   "cell_type": "code",
   "execution_count": 2,
   "metadata": {},
   "outputs": [
    {
     "name": "stdout",
     "output_type": "stream",
     "text": [
      "your E-mail is valid\n"
     ]
    }
   ],
   "source": [
    "#taking email-string from user , removing trailing and leading spaces \n",
    "email = input(\"What's your E-mail?: \").strip() \n",
    "# conventional approach-1 \n",
    "#now going to check whether e-mail is valid or not \n",
    "# as we all know that emails atleast contain one '@'\n",
    "if \"@\" in email:\n",
    "    print(\"your E-mail is valid\")\n",
    "else:\n",
    "    print(\"your E-mail is invalid\")\n",
    "#even if we enter only one or two '@' email will be considered here as valid \n",
    "# as that will be prblematic\n",
    "'''\n",
    "test cases:\n",
    "-@@\n",
    "-@vrdfvcc@\n",
    ">your E-mail is valid\n",
    "'''"
   ]
  },
  {
   "cell_type": "code",
   "execution_count": 7,
   "metadata": {},
   "outputs": [
    {
     "name": "stdout",
     "output_type": "stream",
     "text": [
      "your E-mail is valid\n"
     ]
    },
    {
     "data": {
      "text/plain": [
       "\"\\ntest-cases:\\n-@vedght.com   //as its not valid email-format\\n-@.     //if we simply add one '@' and '.' even if its not valid email ,it will be considered as valid by this program\\n>your E-mail is valid\\n\""
      ]
     },
     "execution_count": 7,
     "metadata": {},
     "output_type": "execute_result"
    }
   ],
   "source": [
    "#taking email-string from user , removing trailing and leading spaces \n",
    "email2 = input(\"What's your E-mail?: \").strip() \n",
    "#Conventional approch-2 (with wider scope to handle above testcases)\n",
    "# as we know usually email contrains one @ as well as  '.'(dot)\n",
    "if ('@' in email2) and ('.' in email2):\n",
    "    print(\"your E-mail is valid\")\n",
    "else:\n",
    "    print(\"your E-mail is invalid\")\n",
    "'''\n",
    "test-cases:\n",
    "-@vedght.com   //as its not valid email-format\n",
    "-@.     //if we simply add one '@' and '.' even if its not valid email ,it will be considered as valid by this program\n",
    ">your E-mail is valid\n",
    "'''"
   ]
  },
  {
   "cell_type": "code",
   "execution_count": 12,
   "metadata": {},
   "outputs": [
    {
     "name": "stdout",
     "output_type": "stream",
     "text": [
      "your E-mail is valid\n"
     ]
    },
    {
     "data": {
      "text/plain": [
       "'\\nedgy test-case like this :-\\nvidhata456@gmail.er    //in domain section after dot that is wrong for global-domain extension \\n'"
      ]
     },
     "execution_count": 12,
     "metadata": {},
     "output_type": "execute_result"
    }
   ],
   "source": [
    "#taking email-string from user , removing trailing and leading spaces \n",
    "email3 = input(\"What's your E-mail?: \").strip() \n",
    "#Conventional approch-3 (with wider scope to handle above testcases even better)\n",
    "# as we know usually email contains one @ as well as  '.'(dot) \n",
    "# ...but there should be username before '@' and '.' after '@' section , which's also k/a domain-section\n",
    "\n",
    "# here first we going to split our email with username-section and domain-section with the help of split function:-\n",
    "username_sec, domain_sec = email3.split(\"@\")\n",
    "\n",
    "#now checking whether username mentioned by user or not before \"@\"\n",
    "\n",
    "if (username_sec) and ('.' in domain_sec): # if it contains some string then this if-block will be true\n",
    "                                    #alongwith it, it should also contains the '.' in the domain section\n",
    "    print(\"your E-mail is valid\")\n",
    "else:\n",
    "    print(\"your E-mail is invalid\")\n",
    "'''\n",
    "test-cases:\n",
    "-devesh30@gmailcom\n",
    ">your E-mail is invalid\n",
    "videsh476@gmail.com\n",
    ">your E-mail is valid\n",
    "\n",
    "'''\n",
    "'''\n",
    "edgy test-case like this :-\n",
    "vidhata456@gmail.er    //in domain section after dot that is wrong for global-domain extension \n",
    ">your E-mail is valid   /even email with wrong global domain is considered as valid here\n",
    "'''"
   ]
  },
  {
   "cell_type": "code",
   "execution_count": null,
   "metadata": {},
   "outputs": [],
   "source": []
  }
 ],
 "metadata": {
  "kernelspec": {
   "display_name": "cs50pyenv",
   "language": "python",
   "name": "python3"
  },
  "language_info": {
   "codemirror_mode": {
    "name": "ipython",
    "version": 3
   },
   "file_extension": ".py",
   "mimetype": "text/x-python",
   "name": "python",
   "nbconvert_exporter": "python",
   "pygments_lexer": "ipython3",
   "version": "3.12.3"
  }
 },
 "nbformat": 4,
 "nbformat_minor": 2
}
