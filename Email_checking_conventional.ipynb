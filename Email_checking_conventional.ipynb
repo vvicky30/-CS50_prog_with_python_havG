{
 "cells": [
  {
   "cell_type": "code",
   "execution_count": 2,
   "metadata": {},
   "outputs": [
    {
     "name": "stdout",
     "output_type": "stream",
     "text": [
      "your E-mail is valid\n"
     ]
    }
   ],
   "source": [
    "#taking email-string from user , removing trailing and leading spaces \n",
    "email = input(\"What's your E-mail?: \").strip() \n",
    "# conventional approach-1 \n",
    "#now going to check whether e-mail is valid or not \n",
    "# as we all know that emails atleast contain one '@'\n",
    "if \"@\" in email:\n",
    "    print(\"your E-mail is valid\")\n",
    "else:\n",
    "    print(\"your E-mail is invalid\")\n",
    "#even if we enter only one or two '@' email will be considered here as valid \n",
    "# as that will be prblematic\n",
    "'''\n",
    "test cases:\n",
    "-@@\n",
    "-@vrdfvcc@\n",
    ">your E-mail is valid\n",
    "'''"
   ]
  },
  {
   "cell_type": "code",
   "execution_count": 7,
   "metadata": {},
   "outputs": [
    {
     "name": "stdout",
     "output_type": "stream",
     "text": [
      "your E-mail is valid\n"
     ]
    },
    {
     "data": {
      "text/plain": [
       "\"\\ntest-cases:\\n-@vedght.com   //as its not valid email-format\\n-@.     //if we simply add one '@' and '.' even if its not valid email ,it will be considered as valid by this program\\n>your E-mail is valid\\n\""
      ]
     },
     "execution_count": 7,
     "metadata": {},
     "output_type": "execute_result"
    }
   ],
   "source": [
    "#taking email-string from user , removing trailing and leading spaces \n",
    "email2 = input(\"What's your E-mail?: \").strip() \n",
    "#Conventional approch-2 (with wider scope to handle above testcases)\n",
    "# as we know usually email contrains one @ as well as  '.'(dot)\n",
    "if ('@' in email2) & ('.' in email2):\n",
    "    print(\"your E-mail is valid\")\n",
    "else:\n",
    "    print(\"your E-mail is invalid\")\n",
    "'''\n",
    "test-cases:\n",
    "-@vedght.com   //as its not valid email-format\n",
    "-@.     //if we simply add one '@' and '.' even if its not valid email ,it will be considered as valid by this program\n",
    ">your E-mail is valid\n",
    "'''"
   ]
  },
  {
   "cell_type": "code",
   "execution_count": null,
   "metadata": {},
   "outputs": [],
   "source": [
    "#taking email-string from user , removing trailing and leading spaces \n",
    "email2 = input(\"What's your E-mail?: \").strip() \n",
    "#Conventional approch-2 (with wider scope to handle above testcases)\n",
    "# as we know usually email contrains one @ as well as  '.'(dot)"
   ]
  }
 ],
 "metadata": {
  "kernelspec": {
   "display_name": "cs50pyenv",
   "language": "python",
   "name": "python3"
  },
  "language_info": {
   "codemirror_mode": {
    "name": "ipython",
    "version": 3
   },
   "file_extension": ".py",
   "mimetype": "text/x-python",
   "name": "python",
   "nbconvert_exporter": "python",
   "pygments_lexer": "ipython3",
   "version": "3.12.3"
  }
 },
 "nbformat": 4,
 "nbformat_minor": 2
}
