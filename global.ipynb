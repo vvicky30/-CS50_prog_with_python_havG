{
 "cells": [
  {
   "cell_type": "code",
   "execution_count": 1,
   "metadata": {},
   "outputs": [
    {
     "name": "stdout",
     "output_type": "stream",
     "text": [
      "0\n"
     ]
    },
    {
     "ename": "UnboundLocalError",
     "evalue": "cannot access local variable 'balance' where it is not associated with a value",
     "output_type": "error",
     "traceback": [
      "\u001b[1;31m---------------------------------------------------------------------------\u001b[0m",
      "\u001b[1;31mUnboundLocalError\u001b[0m                         Traceback (most recent call last)",
      "Cell \u001b[1;32mIn[1], line 21\u001b[0m\n\u001b[0;32m     18\u001b[0m \u001b[38;5;28;01mdef\u001b[39;00m \u001b[38;5;21mwithdraw\u001b[39m(n\u001b[38;5;241m=\u001b[39m\u001b[38;5;241m0\u001b[39m):\n\u001b[0;32m     19\u001b[0m     balance \u001b[38;5;241m-\u001b[39m\u001b[38;5;241m=\u001b[39m n \u001b[38;5;66;03m# subracting numbers from balance \u001b[39;00m\n\u001b[1;32m---> 21\u001b[0m \u001b[43mmain\u001b[49m\u001b[43m(\u001b[49m\u001b[43m)\u001b[49m  \n",
      "Cell \u001b[1;32mIn[1], line 7\u001b[0m, in \u001b[0;36mmain\u001b[1;34m()\u001b[0m\n\u001b[0;32m      5\u001b[0m \u001b[38;5;28mprint\u001b[39m(balance)\n\u001b[0;32m      6\u001b[0m \u001b[38;5;66;03m# if we deposit 150 in it \u001b[39;00m\n\u001b[1;32m----> 7\u001b[0m \u001b[43mdeposit\u001b[49m\u001b[43m(\u001b[49m\u001b[38;5;241;43m150\u001b[39;49m\u001b[43m)\u001b[49m\n\u001b[0;32m      8\u001b[0m \u001b[38;5;66;03m# and then withdraw 50 from it \u001b[39;00m\n\u001b[0;32m      9\u001b[0m withdraw(\u001b[38;5;241m50\u001b[39m)\n",
      "Cell \u001b[1;32mIn[1], line 15\u001b[0m, in \u001b[0;36mdeposit\u001b[1;34m(n)\u001b[0m\n\u001b[0;32m     14\u001b[0m \u001b[38;5;28;01mdef\u001b[39;00m \u001b[38;5;21mdeposit\u001b[39m(n\u001b[38;5;241m=\u001b[39m\u001b[38;5;241m0\u001b[39m):\n\u001b[1;32m---> 15\u001b[0m     \u001b[43mbalance\u001b[49m \u001b[38;5;241m+\u001b[39m\u001b[38;5;241m=\u001b[39m n\n",
      "\u001b[1;31mUnboundLocalError\u001b[0m: cannot access local variable 'balance' where it is not associated with a value"
     ]
    }
   ],
   "source": [
    "# if we initilaized global variable as this :\n",
    "balance = 0  # this is global variable as initialized outside any user-defined function.\n",
    "\n",
    "def main():\n",
    "    print(balance)\n",
    "    # if we deposit 150 in it \n",
    "    deposit(150)\n",
    "    # and then withdraw 50 from it \n",
    "    withdraw(50)\n",
    "    # then remaining balance should be 100\n",
    "    print(\"remaining balance should be:\", balance)\n",
    "    \n",
    "# implementing the deposit fn \n",
    "def deposit(n=0):\n",
    "    balance += n # adding numbers to balance \n",
    "\n",
    "# implementing the withdraw fn \n",
    "def withdraw(n=0):\n",
    "    balance -= n # subracting numbers from balance \n",
    "    \n",
    "main()  \n",
    "'''\n",
    "so this prgram throws error like this \n",
    "UnboundLocalError: cannot access local variable 'balance' where it is not associated with a value\n",
    "meaning- here interpreter can't acess the local values assigned to global variables , \n",
    "as here interpreter an read the global variable value from any fn either main-fn or deposit/withdraw fns but can't be writeo or modify the value of that global vriable.\n",
    "'''"
   ]
  },
  {
   "cell_type": "code",
   "execution_count": 1,
   "metadata": {},
   "outputs": [
    {
     "name": "stdout",
     "output_type": "stream",
     "text": [
      "0\n"
     ]
    },
    {
     "ename": "UnboundLocalError",
     "evalue": "cannot access local variable 'balance' where it is not associated with a value",
     "output_type": "error",
     "traceback": [
      "\u001b[1;31m---------------------------------------------------------------------------\u001b[0m",
      "\u001b[1;31mUnboundLocalError\u001b[0m                         Traceback (most recent call last)",
      "Cell \u001b[1;32mIn[1], line 20\u001b[0m\n\u001b[0;32m     17\u001b[0m \u001b[38;5;28;01mdef\u001b[39;00m \u001b[38;5;21mwithdraw\u001b[39m(n\u001b[38;5;241m=\u001b[39m\u001b[38;5;241m0\u001b[39m):\n\u001b[0;32m     18\u001b[0m     balance \u001b[38;5;241m-\u001b[39m\u001b[38;5;241m=\u001b[39m n \u001b[38;5;66;03m# subracting numbers from balance \u001b[39;00m\n\u001b[1;32m---> 20\u001b[0m \u001b[43mmain\u001b[49m\u001b[43m(\u001b[49m\u001b[43m)\u001b[49m  \n",
      "Cell \u001b[1;32mIn[1], line 6\u001b[0m, in \u001b[0;36mmain\u001b[1;34m()\u001b[0m\n\u001b[0;32m      4\u001b[0m \u001b[38;5;28mprint\u001b[39m(balance)\n\u001b[0;32m      5\u001b[0m \u001b[38;5;66;03m# if we deposit 150 in it \u001b[39;00m\n\u001b[1;32m----> 6\u001b[0m \u001b[43mdeposit\u001b[49m\u001b[43m(\u001b[49m\u001b[38;5;241;43m150\u001b[39;49m\u001b[43m)\u001b[49m\n\u001b[0;32m      7\u001b[0m \u001b[38;5;66;03m# and then withdraw 50 from it \u001b[39;00m\n\u001b[0;32m      8\u001b[0m withdraw(\u001b[38;5;241m50\u001b[39m)\n",
      "Cell \u001b[1;32mIn[1], line 14\u001b[0m, in \u001b[0;36mdeposit\u001b[1;34m(n)\u001b[0m\n\u001b[0;32m     13\u001b[0m \u001b[38;5;28;01mdef\u001b[39;00m \u001b[38;5;21mdeposit\u001b[39m(n\u001b[38;5;241m=\u001b[39m\u001b[38;5;241m0\u001b[39m):\n\u001b[1;32m---> 14\u001b[0m     \u001b[43mbalance\u001b[49m \u001b[38;5;241m+\u001b[39m\u001b[38;5;241m=\u001b[39m n\n",
      "\u001b[1;31mUnboundLocalError\u001b[0m: cannot access local variable 'balance' where it is not associated with a value"
     ]
    }
   ],
   "source": [
    "# if we tries to define 'balance' var within main-fn then it can be accessed by deposit/withdraw fn for operations?\n",
    "def main():\n",
    "    balance = 0\n",
    "    print(balance)\n",
    "    # if we deposit 150 in it \n",
    "    deposit(150)\n",
    "    # and then withdraw 50 from it \n",
    "    withdraw(50)\n",
    "    # then remaining balance should be 100\n",
    "    print(\"remaining balance should be:\", balance)\n",
    "    \n",
    "# implementing the deposit fn \n",
    "def deposit(n=0):\n",
    "    balance += n # adding numbers to balance \n",
    "\n",
    "# implementing the withdraw fn \n",
    "def withdraw(n=0):\n",
    "    balance -= n # subracting numbers from balance \n",
    "    \n",
    "main()  \n",
    "\n",
    "'''\n",
    "UnboundLocalError: cannot access local variable 'balance' where it is not associated with a value\n",
    "meaning -again we encountered with same error becuse here 'balance' variable is considered to be a local variable of main function here,\n",
    "it's corresponding value which's  zero here is local to the main function only can't be accessed  globally or anyway by other functions\n",
    "'''"
   ]
  },
  {
   "cell_type": "code",
   "execution_count": 3,
   "metadata": {},
   "outputs": [
    {
     "name": "stdout",
     "output_type": "stream",
     "text": [
      "0\n",
      "remaining balance: 100\n"
     ]
    }
   ],
   "source": [
    "#resolution to this prblem would be this \n",
    "# we have to first initialize or mantion variable globally as before \n",
    "balance = 0\n",
    "# and now within those functions where we want to make operations or modify this global variable.\n",
    "# we have to access this global variable globally with keyword 'global'  \n",
    "def main():\n",
    "    print(balance)\n",
    "    # if we deposit 150 in it \n",
    "    deposit(150)\n",
    "    # and then withdraw 50 from it \n",
    "    withdraw(50)\n",
    "    # then remaining balance should be 100\n",
    "    print(\"remaining balance:\", balance)\n",
    "    \n",
    "# implementing the deposit fn \n",
    "def deposit(n=0):\n",
    "    global balance\n",
    "    balance += n # adding numbers to balance \n",
    "\n",
    "# implementing the withdraw fn \n",
    "def withdraw(n=0):\n",
    "    global balance\n",
    "    balance -= n # subracting numbers from balance \n",
    "    \n",
    "main()  "
   ]
  }
 ],
 "metadata": {
  "kernelspec": {
   "display_name": "cs50pyenv",
   "language": "python",
   "name": "python3"
  },
  "language_info": {
   "codemirror_mode": {
    "name": "ipython",
    "version": 3
   },
   "file_extension": ".py",
   "mimetype": "text/x-python",
   "name": "python",
   "nbconvert_exporter": "python",
   "pygments_lexer": "ipython3",
   "version": "3.12.3"
  }
 },
 "nbformat": 4,
 "nbformat_minor": 2
}
