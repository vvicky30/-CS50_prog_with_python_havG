{
 "cells": [
  {
   "cell_type": "code",
   "execution_count": 4,
   "metadata": {},
   "outputs": [
    {
     "name": "stdout",
     "output_type": "stream",
     "text": [
      "hello buddy from position-1\n",
      "hello buddy from position-2\n",
      "hello buddy from position-3\n",
      "hello buddy from position-4\n",
      "hello buddy from range-location: 1\n",
      "hello buddy from range-location: 2\n",
      "hello buddy from range-location: 3\n",
      "hello buddy from range-location: 4\n",
      "hello buddy from range-location: 5\n",
      "hello buddy from range-location: 6\n",
      "hello buddy from range-location: 7\n",
      "hello buddy from range-location: 8\n",
      "hello buddy from range-location: 9\n",
      "hello buddy from range-location: 10\n",
      "hello buddy from range-location: 11\n"
     ]
    }
   ],
   "source": [
    "# for loop generally very suitable for iterating through list-dtype\n",
    "# for loop is more compact in controlling the lopp as compared with while\n",
    "\n",
    "for i in [0,1,2,3]:\n",
    "    print(f\"hello buddy from position-{i+1}\")\n",
    "    \n",
    "# this is simplese way to use for loop ensembling over given list\n",
    "# but what if we want to do it for 1000s or million times ,as we're not going to write list upto thousand or million elements to iterate that far.\n",
    "# for resolving that we going to use inbuilt function range comes with options parameter where we have to configure it to any number to specify counter goes up to that specific range\n",
    "for i in range(11):\n",
    "    print(f\"hello buddy from range-location: {i+1}\")\n",
    "\n",
    "        "
   ]
  },
  {
   "cell_type": "code",
   "execution_count": 7,
   "metadata": {},
   "outputs": [
    {
     "name": "stdout",
     "output_type": "stream",
     "text": [
      "hello buddy\n",
      "hello buddy\n",
      "hello buddy\n"
     ]
    }
   ],
   "source": [
    "# just simplest approach to print repeatedly a string with so many times\n",
    "print(\"hello buddy\\n\" *3, end=\"\") # here used \\n to move cursor to new line but or last excecution it will move to new line and will print nothing , so here we have to use end arguments to end print-fn after encountering whitespace that even after printing 3 times \n",
    " "
   ]
  },
  {
   "cell_type": "code",
   "execution_count": 8,
   "metadata": {},
   "outputs": [
    {
     "name": "stdout",
     "output_type": "stream",
     "text": [
      "1\n",
      "2\n",
      "3\n",
      "4\n",
      "5\n",
      "6\n",
      "7\n"
     ]
    }
   ],
   "source": [
    "# here if i want ot ask from user that upto which number they want to print natural numbers\n",
    "# if user not much that cooperating and instread of entering suitable positive number he/she just entered -ve number\n",
    "# for that we ask again and agian from user untill/unless he/she enters the suitale +ve vlue\n",
    "while True:\n",
    "    n = int(input(\"Enter +ve number up to which you want to print natural number\"))\n",
    "    if n > 0 : # if positive number entered by user which's suitable for further proceedings then we break this loop else it will be excecuted again and again\n",
    "        break\n",
    "\n",
    "for i in range(n):\n",
    "    print(i+1)    \n",
    "         "
   ]
  },
  {
   "cell_type": "code",
   "execution_count": 43,
   "metadata": {},
   "outputs": [
    {
     "name": "stdout",
     "output_type": "stream",
     "text": [
      "1\n",
      "2\n",
      "3\n",
      "4\n",
      "5\n",
      "6\n",
      "\n",
      "Here's your natural numbers upto-6\n"
     ]
    }
   ],
   "source": [
    "def main():\n",
    "    num = int(input(\"Enter the number for upto you want to print natural number\"))\n",
    "    print(natural_upto(num))\n",
    "    \n",
    "    # creating little exception like if num negative so here natural_upto reflect an ERROR so alongwith that ERROR this print will not print\n",
    "    if num> 0 :\n",
    "        print(f\"Here's your natural numbers upto-{num}\")\n",
    "    \n",
    "def natural_upto(n=0): # default vaue zero \n",
    "    if n < 0 : # if -ve number entered by user which's not suitable for further proceedings\n",
    "        print(\"EROOR: please enter +ve number , -ve number is not suitable\")\n",
    "    \n",
    "    \n",
    "    else:\n",
    "        for i in range(n):\n",
    "            \n",
    "            print(i+1)\n",
    "    \n",
    "    return(_) # for returning nothing , here we can use underscore '_' that by default return nothing and console will be clear , even 'None' will be not printed \n",
    "\n",
    "\n",
    "main()\n",
    "     "
   ]
  },
  {
   "cell_type": "code",
   "execution_count": 53,
   "metadata": {},
   "outputs": [
    {
     "name": "stdout",
     "output_type": "stream",
     "text": [
      "here is the names of students from the list:\n",
      "Dre\n",
      "Sphinix\n",
      "Perseus\n",
      "Theseus\n",
      "here is the names of students from the list with numbers:\n",
      "1 Dre\n",
      "2 Sphinix\n",
      "3 Perseus\n",
      "4 Theseus\n"
     ]
    }
   ],
   "source": [
    "# for loop iteration with basic list of students \n",
    "students = [\"Dre\",\"Sphinix\",\"Perseus\",\"Theseus\"]\n",
    "\n",
    "# now we iterate voer students list to print them\n",
    "print(\"here is the names of students from the list:\") \n",
    "for stud in students:\n",
    "     print(stud)\n",
    "    \n",
    "print(\"here is the names of students from the list with numbers:\")\n",
    "for i in range(len(students)):\n",
    "    print(i+1,students[i]) \n"
   ]
  },
  {
   "cell_type": "code",
   "execution_count": 8,
   "metadata": {},
   "outputs": [
    {
     "name": "stdout",
     "output_type": "stream",
     "text": [
      "{12: 'Sphinix', 22: 'Herodotous', 33: 'Caryanda', 48: 'Dre', 5: 'Skrillex', 62: 'Prometheus'}\n",
      "12\n",
      "22\n",
      "33\n",
      "48\n",
      "5\n",
      "62\n",
      "12, Sphinix\n",
      "22, Herodotous\n",
      "33, Caryanda\n",
      "48, Dre\n",
      "5, Skrillex\n",
      "62, Prometheus\n"
     ]
    }
   ],
   "source": [
    "#for loop with dictionaries\n",
    "#here we're going to make disctionaries of students with their roll_no as kay\n",
    "student_roll = { \n",
    "                12 : \"Sphinix\",\n",
    "                22 : \"Herodotous\",\n",
    "                33 : \"Caryanda\",\n",
    "                48 : \"Dre\",\n",
    "                5 : \"Skrillex\",\n",
    "                62 : \"Prometheus\",\n",
    "    \n",
    "}\n",
    "print(student_roll)\n",
    "\n",
    "for studroll in student_roll:\n",
    "    print(studroll) # this will only print respective roll number of students but not their name \n",
    "    # it only prints keys not their values \n",
    "\n",
    "#for printing keys and values through for loop\n",
    "for studroll in student_roll:\n",
    "    print(studroll, student_roll[studroll], sep  = \", \")"
   ]
  },
  {
   "cell_type": "code",
   "execution_count": 16,
   "metadata": {},
   "outputs": [
    {
     "name": "stdout",
     "output_type": "stream",
     "text": [
      "Dre\n",
      "JNPT, 12\n",
      "MUNDRA, 35\n",
      "Shrinkhala, 10\n",
      "Chandipur, 20\n"
     ]
    }
   ],
   "source": [
    "print(student_roll[48]) #as we can acess single values in dictionary through their respective keys like this \n",
    "\n",
    "# their is another way we can build a dictionary \n",
    " \n",
    "Port_nm = dict()  #can make any variable in to dictionary by initializing them with calling \n",
    "Port_nm['JNPT'] = 12 # assigning port number to their corresponding port names\n",
    "Port_nm['MUNDRA'] = 35 \n",
    "Port_nm['Shrinkhala'] = 10\n",
    "Port_nm['Chandipur'] = 20\n",
    "\n",
    "for pn in Port_nm:\n",
    "    print(pn, Port_nm[pn], sep = \", \")"
   ]
  },
  {
   "cell_type": "code",
   "execution_count": 21,
   "metadata": {},
   "outputs": [
    {
     "name": "stdout",
     "output_type": "stream",
     "text": [
      "counter of first-loop: 1\n",
      "counter of nested-loop, 1, 1\n",
      "counter of nested-loop, 1, 3\n",
      "counter of nested-loop, 1, 5\n",
      "counter of nested-loop, 1, 7\n",
      "counter of nested-loop, 1, 9\n",
      "counter of first-loop: 2\n",
      "counter of nested-loop, 2, 1\n",
      "counter of nested-loop, 2, 3\n",
      "counter of nested-loop, 2, 5\n",
      "counter of nested-loop, 2, 7\n",
      "counter of nested-loop, 2, 9\n",
      "counter of first-loop: 3\n",
      "counter of nested-loop, 3, 1\n",
      "counter of nested-loop, 3, 3\n",
      "counter of nested-loop, 3, 5\n",
      "counter of nested-loop, 3, 7\n",
      "counter of nested-loop, 3, 9\n",
      "counter of first-loop: 4\n",
      "counter of nested-loop, 4, 1\n",
      "counter of nested-loop, 4, 3\n",
      "counter of nested-loop, 4, 5\n",
      "counter of nested-loop, 4, 7\n",
      "counter of nested-loop, 4, 9\n",
      "counter of first-loop: 5\n",
      "counter of nested-loop, 5, 1\n",
      "counter of nested-loop, 5, 3\n",
      "counter of nested-loop, 5, 5\n",
      "counter of nested-loop, 5, 7\n",
      "counter of nested-loop, 5, 9\n",
      "counter of first-loop: 6\n",
      "counter of nested-loop, 6, 1\n",
      "counter of nested-loop, 6, 3\n",
      "counter of nested-loop, 6, 5\n",
      "counter of nested-loop, 6, 7\n",
      "counter of nested-loop, 6, 9\n",
      "counter of first-loop: 7\n",
      "counter of nested-loop, 7, 1\n",
      "counter of nested-loop, 7, 3\n",
      "counter of nested-loop, 7, 5\n",
      "counter of nested-loop, 7, 7\n",
      "counter of nested-loop, 7, 9\n",
      "counter of first-loop: 8\n",
      "counter of nested-loop, 8, 1\n",
      "counter of nested-loop, 8, 3\n",
      "counter of nested-loop, 8, 5\n",
      "counter of nested-loop, 8, 7\n",
      "counter of nested-loop, 8, 9\n",
      "counter of first-loop: 9\n",
      "counter of nested-loop, 9, 1\n",
      "counter of nested-loop, 9, 3\n",
      "counter of nested-loop, 9, 5\n",
      "counter of nested-loop, 9, 7\n",
      "counter of nested-loop, 9, 9\n",
      "counter of first-loop: 10\n",
      "counter of nested-loop, 10, 1\n",
      "counter of nested-loop, 10, 3\n",
      "counter of nested-loop, 10, 5\n",
      "counter of nested-loop, 10, 7\n",
      "counter of nested-loop, 10, 9\n",
      "counter of first-loop: 11\n",
      "counter of nested-loop, 11, 1\n",
      "counter of nested-loop, 11, 3\n",
      "counter of nested-loop, 11, 5\n",
      "counter of nested-loop, 11, 7\n",
      "counter of nested-loop, 11, 9\n"
     ]
    }
   ],
   "source": [
    "#For Loop in Python inside a For Loop\n",
    "'''\n",
    "This code uses nested for loops to iterate over two ranges of numbers (1 to 3 inclusive) and prints the value of i and j for each combination of the two loops. \n",
    "The inner loop is executed for each value of i in the outer loop. The output of this code will print the numbers from 1 to 3 three times, \n",
    "as each value of i is combined with each value of j.\n",
    "'''\n",
    "for i in range(1,12):\n",
    "    print(\"counter of first-loop:\",i)\n",
    "    for j in range(1,10,2):\n",
    "        print(\"counters of nested-loop\",i,j, sep = \", \")"
   ]
  },
  {
   "cell_type": "code",
   "execution_count": 23,
   "metadata": {},
   "outputs": [
    {
     "name": "stdout",
     "output_type": "stream",
     "text": [
      "Indian-Dish: Ramen, Japenese_Dish: Misal-pav\n",
      "Indian-Dish: Soba, Japenese_Dish: Paneer-Tikka\n",
      "Indian-Dish: Karaage, Japenese_Dish: Chole-bhaturey\n",
      "Indian-Dish: Sushi, Japenese_Dish: Msala_Dosa\n"
     ]
    }
   ],
   "source": [
    "japnese_dish = [\"Ramen\",\"Soba\", \"Karaage\",\"Sushi\"]\n",
    "indian_dish = [\"Misal-pav\", \"Paneer-Tikka\", \"Chole-bhaturey\", \"Msala_Dosa\"]\n",
    "\n",
    "# now if we want to iterate over japnese and indian dishes side by side\n",
    "# here we're going to use zip \n",
    "for indi_dish , jap_dish in zip(japnese_dish, indian_dish):\n",
    "    print(f\"Indian-Dish: {indi_dish}, Japenese_Dish: {jap_dish}\")\n",
    "    "
   ]
  },
  {
   "cell_type": "code",
   "execution_count": 25,
   "metadata": {},
   "outputs": [
    {
     "name": "stdout",
     "output_type": "stream",
     "text": [
      "T-shirt in washing-bucket\n",
      "Shirt in washing-bucket\n",
      "Cap in washing-bucket\n",
      "Towel in washing-bucket\n",
      "['Sock', 'Sock']\n"
     ]
    }
   ],
   "source": [
    "# here small example problem of removing pairs of socks from washing bucket\n",
    "clothes = [\"T-shirt\", \"Shirt\",\"Sock\", \"Cap\", \"Towel\", \"Sock\"]\n",
    "paired_socks=[]\n",
    "for clth in clothes:\n",
    "    if clth == \"Sock\":\n",
    "        paired_socks.append(clth)\n",
    "        continue # going to continue the sequence further by giving back control to the loop\n",
    "    else:\n",
    "        print(f\"{clth} in washing-bucket\")\n",
    "print(paired_socks)"
   ]
  },
  {
   "cell_type": "code",
   "execution_count": 31,
   "metadata": {},
   "outputs": [
    {
     "name": "stdout",
     "output_type": "stream",
     "text": [
      "at Day-1, Total-distance covered: 3.5\n",
      "at Day-2, Total-distance covered: 4.0\n",
      "at Day-3, Total-distance covered: 4.5\n",
      "at Day-4, Total-distance covered: 5.0\n",
      "at Day-5, Total-distance covered: 5.5\n",
      "at Day-6, Total-distance covered: 6.0\n",
      "at Day-7, Total-distance covered: 6.5\n"
     ]
    }
   ],
   "source": [
    "# example problem 2\n",
    "dist_covered = 3 # minimum distance has to be covered\n",
    "for day in  range(1,8):\n",
    "    dist_covered += 0.5   # 'o.5' distance should be increamented with progressively with each day \n",
    "    print(f\"at Day-{day}, Total-distance covered: {dist_covered}\")\n",
    "    "
   ]
  }
 ],
 "metadata": {
  "kernelspec": {
   "display_name": "cs50pyenv",
   "language": "python",
   "name": "python3"
  },
  "language_info": {
   "codemirror_mode": {
    "name": "ipython",
    "version": 3
   },
   "file_extension": ".py",
   "mimetype": "text/x-python",
   "name": "python",
   "nbconvert_exporter": "python",
   "pygments_lexer": "ipython3",
   "version": "3.12.2"
  }
 },
 "nbformat": 4,
 "nbformat_minor": 2
}
