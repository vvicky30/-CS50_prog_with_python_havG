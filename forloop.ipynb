{
 "cells": [
  {
   "cell_type": "code",
   "execution_count": 4,
   "metadata": {},
   "outputs": [
    {
     "name": "stdout",
     "output_type": "stream",
     "text": [
      "hello buddy from position-1\n",
      "hello buddy from position-2\n",
      "hello buddy from position-3\n",
      "hello buddy from position-4\n",
      "hello buddy from range-location: 1\n",
      "hello buddy from range-location: 2\n",
      "hello buddy from range-location: 3\n",
      "hello buddy from range-location: 4\n",
      "hello buddy from range-location: 5\n",
      "hello buddy from range-location: 6\n",
      "hello buddy from range-location: 7\n",
      "hello buddy from range-location: 8\n",
      "hello buddy from range-location: 9\n",
      "hello buddy from range-location: 10\n",
      "hello buddy from range-location: 11\n"
     ]
    }
   ],
   "source": [
    "# for loop generally very suitable for iterating through list-dtype\n",
    "# for loop is more compact in controlling the lopp as compared with while\n",
    "\n",
    "for i in [0,1,2,3]:\n",
    "    print(f\"hello buddy from position-{i+1}\")\n",
    "    \n",
    "# this is simplese way to use for loop ensembling over given list\n",
    "# but what if we want to do it for 1000s or million times ,as we're not going to write list upto thousand or million elements to iterate that far.\n",
    "# for resolving that we going to use inbuilt function range comes with options parameter where we have to configure it to any number to specify counter goes up to that specific range\n",
    "for i in range(11):\n",
    "    print(f\"hello buddy from range-location: {i+1}\")\n",
    "\n",
    "        "
   ]
  },
  {
   "cell_type": "code",
   "execution_count": 7,
   "metadata": {},
   "outputs": [
    {
     "name": "stdout",
     "output_type": "stream",
     "text": [
      "hello buddy\n",
      "hello buddy\n",
      "hello buddy\n"
     ]
    }
   ],
   "source": [
    "# just simplest approach to print repeatedly a string with so many times\n",
    "print(\"hello buddy\\n\" *3, end=\"\") # here used \\n to move cursor to new line but or last excecution it will move to new line and will print nothing , so here we have to use end arguments to end print-fn after encountering whitespace that even after printing 3 times \n",
    " "
   ]
  },
  {
   "cell_type": "code",
   "execution_count": 8,
   "metadata": {},
   "outputs": [
    {
     "name": "stdout",
     "output_type": "stream",
     "text": [
      "1\n",
      "2\n",
      "3\n",
      "4\n",
      "5\n",
      "6\n",
      "7\n"
     ]
    }
   ],
   "source": [
    "# here if i want ot ask from user that upto which number they want to print natural numbers\n",
    "# if user not much that cooperating and instread of entering suitable positive number he/she just entered -ve number\n",
    "# for that we ask again and agian from user untill/unless he/she enters the suitale +ve vlue\n",
    "while True:\n",
    "    n = int(input(\"Enter +ve number up to which you want to print natural number\"))\n",
    "    if n > 0 : # if positive number entered by user which's suitable for further proceedings then we break this loop else it will be excecuted again and again\n",
    "        break\n",
    "\n",
    "for i in range(n):\n",
    "    print(i+1)    \n",
    "         "
   ]
  },
  {
   "cell_type": "code",
   "execution_count": 43,
   "metadata": {},
   "outputs": [
    {
     "name": "stdout",
     "output_type": "stream",
     "text": [
      "1\n",
      "2\n",
      "3\n",
      "4\n",
      "5\n",
      "6\n",
      "\n",
      "Here's your natural numbers upto-6\n"
     ]
    }
   ],
   "source": [
    "def main():\n",
    "    num = int(input(\"Enter the number for upto you want to print natural number\"))\n",
    "    print(natural_upto(num))\n",
    "    \n",
    "    # creating little exception like if num negative so here natural_upto reflect an ERROR so alongwith that ERROR this print will not print\n",
    "    if num> 0 :\n",
    "        print(f\"Here's your natural numbers upto-{num}\")\n",
    "    \n",
    "def natural_upto(n=0): # default vaue zero \n",
    "    if n < 0 : # if -ve number entered by user which's not suitable for further proceedings\n",
    "        print(\"EROOR: please enter +ve number , -ve number is not suitable\")\n",
    "    \n",
    "    \n",
    "    else:\n",
    "        for i in range(n):\n",
    "            \n",
    "            print(i+1)\n",
    "    \n",
    "    return(_) # for returning nothing , here we can use underscore '_' that by default return nothing and console will be clear , even 'None' will be not printed \n",
    "\n",
    "\n",
    "main()\n",
    "     "
   ]
  },
  {
   "cell_type": "code",
   "execution_count": 53,
   "metadata": {},
   "outputs": [
    {
     "name": "stdout",
     "output_type": "stream",
     "text": [
      "here is the names of students from the list:\n",
      "Dre\n",
      "Sphinix\n",
      "Perseus\n",
      "Theseus\n",
      "here is the names of students from the list with numbers:\n",
      "1 Dre\n",
      "2 Sphinix\n",
      "3 Perseus\n",
      "4 Theseus\n"
     ]
    }
   ],
   "source": [
    "# for loop iteration with basic list of students \n",
    "students = [\"Dre\",\"Sphinix\",\"Perseus\",\"Theseus\"]\n",
    "\n",
    "# now we iterate voer students list to print them\n",
    "print(\"here is the names of students from the list:\") \n",
    "for stud in students:\n",
    "     print(stud)\n",
    "    \n",
    "print(\"here is the names of students from the list with numbers:\")\n",
    "for i in range(len(students)):\n",
    "    print(i+1,students[i]) \n"
   ]
  },
  {
   "cell_type": "code",
   "execution_count": null,
   "metadata": {},
   "outputs": [],
   "source": [
    "#for loop with dictionaries\n",
    "\n"
   ]
  }
 ],
 "metadata": {
  "kernelspec": {
   "display_name": "cs50pyenv",
   "language": "python",
   "name": "python3"
  },
  "language_info": {
   "codemirror_mode": {
    "name": "ipython",
    "version": 3
   },
   "file_extension": ".py",
   "mimetype": "text/x-python",
   "name": "python",
   "nbconvert_exporter": "python",
   "pygments_lexer": "ipython3",
   "version": "3.12.2"
  }
 },
 "nbformat": 4,
 "nbformat_minor": 2
}
