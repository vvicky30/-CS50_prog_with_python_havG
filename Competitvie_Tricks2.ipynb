{
  "nbformat": 4,
  "nbformat_minor": 0,
  "metadata": {
    "colab": {
      "provenance": [],
      "authorship_tag": "ABX9TyMC4MVqDvVme3ZTR8a8cdGv",
      "include_colab_link": true
    },
    "kernelspec": {
      "name": "python3",
      "display_name": "Python 3"
    }
  },
  "cells": [
    {
      "cell_type": "markdown",
      "metadata": {
        "id": "view-in-github",
        "colab_type": "text"
      },
      "source": [
        "<a href=\"https://colab.research.google.com/github/vvicky30/-CS50_prog_with_python_havG/blob/main/Competitvie_Tricks2.ipynb\" target=\"_parent\"><img src=\"https://colab.research.google.com/assets/colab-badge.svg\" alt=\"Open In Colab\"/></a>"
      ]
    },
    {
      "cell_type": "code",
      "metadata": {
        "colab": {
          "base_uri": "https://localhost:8080/",
          "height": 453
        },
        "id": "njwJXANYElrz",
        "outputId": "e2bf044c-106d-4f4e-b00e-543d5b1f8514"
      },
      "source": [
        "def Sum1(n):  #with time complexity of o(1)\n",
        "  return n*(n+1)//2\n",
        "\n",
        "\n",
        "def Sum2(n): #with time complexity of o(n)\n",
        "  sum=0\n",
        "  for i in range(1,n+1):\n",
        "    sum=sum+i\n",
        "  return sum\n",
        "\n",
        "#taking no. so that upto that number(n) we sum up all integers within it\n",
        "t=int(input())#test cases numbers\n",
        "while t: # while its +ve not zero\n",
        "  n=int(input())\n",
        "  print(\"sum of number upto t from sum1 {}:\".format(Sum1(n))) #make output earleir than below once\n",
        "  print(\"sum of number up to t from sum2 {}:\".format(Sum2(n)))#make overdue ouput   due to 0(n)time complexity\n",
        "  t=t-1\n",
        "\n",
        "\n"
      ],
      "execution_count": 3,
      "outputs": [
        {
          "name": "stdout",
          "output_type": "stream",
          "text": [
            "5\n",
            "2\n",
            "sum of number upto t from sum1 3:\n",
            "sum of number up to t from sum2 3:\n",
            "5\n",
            "sum of number upto t from sum1 15:\n",
            "sum of number up to t from sum2 15:\n",
            "7\n",
            "sum of number upto t from sum1 28:\n",
            "sum of number up to t from sum2 28:\n",
            "5\n",
            "sum of number upto t from sum1 15:\n",
            "sum of number up to t from sum2 15:\n",
            "z\n"
          ]
        },
        {
          "output_type": "error",
          "ename": "ValueError",
          "evalue": "invalid literal for int() with base 10: 'z'",
          "traceback": [
            "\u001b[0;31m---------------------------------------------------------------------------\u001b[0m",
            "\u001b[0;31mValueError\u001b[0m                                Traceback (most recent call last)",
            "\u001b[0;32m<ipython-input-3-92e4bc323537>\u001b[0m in \u001b[0;36m<cell line: 13>\u001b[0;34m()\u001b[0m\n\u001b[1;32m     12\u001b[0m \u001b[0mt\u001b[0m\u001b[0;34m=\u001b[0m\u001b[0mint\u001b[0m\u001b[0;34m(\u001b[0m\u001b[0minput\u001b[0m\u001b[0;34m(\u001b[0m\u001b[0;34m)\u001b[0m\u001b[0;34m)\u001b[0m\u001b[0;31m#test cases numbers\u001b[0m\u001b[0;34m\u001b[0m\u001b[0;34m\u001b[0m\u001b[0m\n\u001b[1;32m     13\u001b[0m \u001b[0;32mwhile\u001b[0m \u001b[0mt\u001b[0m\u001b[0;34m:\u001b[0m \u001b[0;31m# while its +ve not zero\u001b[0m\u001b[0;34m\u001b[0m\u001b[0;34m\u001b[0m\u001b[0m\n\u001b[0;32m---> 14\u001b[0;31m   \u001b[0mn\u001b[0m\u001b[0;34m=\u001b[0m\u001b[0mint\u001b[0m\u001b[0;34m(\u001b[0m\u001b[0minput\u001b[0m\u001b[0;34m(\u001b[0m\u001b[0;34m)\u001b[0m\u001b[0;34m)\u001b[0m\u001b[0;34m\u001b[0m\u001b[0;34m\u001b[0m\u001b[0m\n\u001b[0m\u001b[1;32m     15\u001b[0m   \u001b[0mprint\u001b[0m\u001b[0;34m(\u001b[0m\u001b[0;34m\"sum of number upto t from sum1 {}:\"\u001b[0m\u001b[0;34m.\u001b[0m\u001b[0mformat\u001b[0m\u001b[0;34m(\u001b[0m\u001b[0mSum1\u001b[0m\u001b[0;34m(\u001b[0m\u001b[0mn\u001b[0m\u001b[0;34m)\u001b[0m\u001b[0;34m)\u001b[0m\u001b[0;34m)\u001b[0m \u001b[0;31m#make output earleir than below once\u001b[0m\u001b[0;34m\u001b[0m\u001b[0;34m\u001b[0m\u001b[0m\n\u001b[1;32m     16\u001b[0m   \u001b[0mprint\u001b[0m\u001b[0;34m(\u001b[0m\u001b[0;34m\"sum of number up to t from sum2 {}:\"\u001b[0m\u001b[0;34m.\u001b[0m\u001b[0mformat\u001b[0m\u001b[0;34m(\u001b[0m\u001b[0mSum2\u001b[0m\u001b[0;34m(\u001b[0m\u001b[0mn\u001b[0m\u001b[0;34m)\u001b[0m\u001b[0;34m)\u001b[0m\u001b[0;34m)\u001b[0m\u001b[0;31m#make overdue ouput   due to 0(n)time complexity\u001b[0m\u001b[0;34m\u001b[0m\u001b[0;34m\u001b[0m\u001b[0m\n",
            "\u001b[0;31mValueError\u001b[0m: invalid literal for int() with base 10: 'z'"
          ]
        }
      ]
    },
    {
      "cell_type": "code",
      "metadata": {
        "colab": {
          "base_uri": "https://localhost:8080/"
        },
        "id": "iT1W6BoipsDm",
        "outputId": "a47f4382-a085-4b01-b56a-4ff4a0a719b8"
      },
      "source": [
        "\"\"\"\n",
        "Euclid algo here used for calculating GCD & LCM\n",
        "where it has time complexity = O(log(min(a,b)))\n",
        "where it has mathamtical property that ----product(a,b)=GCD(a,b)*LCM(a,b)\n",
        "so for finding LCM(a,b)=product(a,b)//GCD(a,b)\n",
        "\"\"\"\n",
        "def GCD(a,b):\n",
        "  if a==0:\n",
        "    return (b)\n",
        "  return GCD(b%a,a)#recursive\n",
        "def LCM(a,b):\n",
        "  prod=a*b\n",
        "  HCF=GCD(a,b)\n",
        "  return prod//HCF\n",
        "\n",
        "\n",
        "t=int(input())\n",
        "while t:  # if while true means +ve no. test cases\n",
        "  n,m=map(int,input().split())#taking 2 numbers for which lcm & gcd is to be calculated\n",
        "  print(\"LCM:{} GCD:{}\".format(LCM(n,m),GCD(n,m)))\n",
        "  t=t-1"
      ],
      "execution_count": 10,
      "outputs": [
        {
          "output_type": "stream",
          "name": "stdout",
          "text": [
            "2\n",
            "10 15\n",
            "LCM:30 GCD:5\n",
            "4 8\n",
            "LCM:8 GCD:4\n"
          ]
        }
      ]
    }
  ]
}