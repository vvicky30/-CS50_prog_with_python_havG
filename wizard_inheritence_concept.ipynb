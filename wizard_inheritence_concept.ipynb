{
 "cells": [
  {
   "cell_type": "markdown",
   "metadata": {},
   "source": [
    "### Inheritance in Python\n",
    "One of the core concepts in object-oriented programming (OOP) languages is inheritance. It is a mechanism that allows you to create a hierarchy of classes that share a set of properties and methods by deriving a class from another class. Inheritance is the capability of one class to derive or inherit the properties from another class. \n",
    "\n",
    "### Benefits of inheritance are:\n",
    "\n",
    "Inheritance allows you to inherit the properties of a class, i.e., base class to another, i.e., derived class. The benefits of Inheritance in Python are as follows:\n",
    "\n",
    "1. It represents real-world relationships well.\n",
    "\n",
    "2. It provides the reusability of a code. We don’t have to write the same code again and again. Also, it allows us to add more features to a class without modifying it.\n",
    "\n",
    "3. It is transitive in nature, which means that if class B inherits from another class A, then all the subclasses of B would automatically inherit from class A.\n",
    "\n",
    "4. Inheritance offers a simple, understandable model structure Less development and maintenance expenses result from an inheritance. \n",
    "\n",
    "- Python Inheritance Syntax\n",
    "- The syntax of simple inheritance in Python is as follows:\n",
    "\n",
    "Class BaseClass:\n",
    "\n",
    "    {Body}\n",
    "\n",
    "\n",
    "Class DerivedClass(BaseClass):\n",
    " \n",
    "    {Body}"
   ]
  },
  {
   "cell_type": "code",
   "execution_count": null,
   "metadata": {},
   "outputs": [],
   "source": [
    "#creating parent class\n",
    "class Person:\n",
    "    # creating parent class' instance method which initialize the object of this class..\n",
    "    def __init__(self,name,age):  # as every man has attributes like name , age irrespective of its designation , education-grad , region etc.\n",
    "    \n",
    "        self.name = name \n",
    "        self.age = age \n",
    "    \n",
    "    def __str__(self):  # for string representation of object \n",
    "        return f\"{self.name} from {self.age}\"\n",
    "    \n",
    "    @property  #getter\n",
    "    def name(self):\n",
    "        return self._name    # returning name attribute of object but in private-var(_name)\n",
    "    \n",
    "    @name.setter   # setter\n",
    "    def name(self, name):\n",
    "        if not name:   # if name is blank \n",
    "            raise ValueError(\"You do not enter the Name here\")\n",
    "        self._name = name # validating and then allowed assignment , \n",
    "        #not for malicious programers (as we made name here private attribute:_name) \n",
    "                 \n",
    "    #similarly for age-attribute here\n",
    "    @property  #getter\n",
    "    def age(self):\n",
    "        return self._age\n",
    "    \n",
    "    @age.setter  #setter \n",
    "    def age(self,age):\n",
    "        # checking age validity for person specific     \n",
    "        if age not in range(1,120):   # setting agr range of the person class here to bevalid \n",
    "            raise ValueError(\"Please enter the valid age b/w (1 and 120)-years\")       \n",
    "        self._age = age\n",
    "    # now creating the class-method  here for recieving user input  \n",
    "    \n",
    "    @classmethod\n",
    "    def get_personinfo(cls):\n",
    "        n= input(\"Person_Name: \").strip().title()\n",
    "        a= input(\"Person_Age: \").strip().title()\n",
    "        return cls(n,a)\n",
    "    \n",
    "def main():\n",
    "    person = Person()\n",
    "    print(person)   \n",
    "\n",
    "if __name__==\"__main__\":\n",
    "    main()"
   ]
  },
  {
   "cell_type": "code",
   "execution_count": null,
   "metadata": {},
   "outputs": [],
   "source": []
  }
 ],
 "metadata": {
  "kernelspec": {
   "display_name": "cs50pyenv",
   "language": "python",
   "name": "python3"
  },
  "language_info": {
   "codemirror_mode": {
    "name": "ipython",
    "version": 3
   },
   "file_extension": ".py",
   "mimetype": "text/x-python",
   "name": "python",
   "nbconvert_exporter": "python",
   "pygments_lexer": "ipython3",
   "version": "3.12.3"
  }
 },
 "nbformat": 4,
 "nbformat_minor": 2
}
