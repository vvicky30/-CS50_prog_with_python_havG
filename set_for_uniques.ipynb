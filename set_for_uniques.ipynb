{
 "cells": [
  {
   "cell_type": "code",
   "execution_count": 2,
   "metadata": {},
   "outputs": [
    {
     "name": "stdout",
     "output_type": "stream",
     "text": [
      "these are ancient gods and their respective ancient0regions where they venerated: \n",
      "[{'name': 'Ra', 'region': 'Egypt'}, {'name': 'odin', 'region': 'Scandinavia'}, {'name': 'Quetzalcoatl', 'region': 'Aztec'}, {'name': 'Shiva', 'region': 'Bhaarath'}, {'name': 'Vishnu', 'region': 'Bhaarath'}, {'name': 'Amaterasu', 'region': 'Japan'}, {'name': 'Isis', 'region': 'Egypt'}, {'name': 'Huitzilopochtl', 'region': 'Aztec'}, {'name': 'Thor', 'region': 'Scandinavia'}, {'name': 'Hera', 'region': 'Greece'}, {'name': 'Ares', 'region': 'Greece'}, {'name': 'Marduk', 'region': 'Mesopotamia'}, {'name': 'Indra', 'region': 'Bhaarath'}, {'name': 'Ahura Mazda', 'region': 'Persia'}, {'name': 'Tabiti', 'region': 'Eurasian-steppes'}]\n",
      "===============================================\n",
      "Aztec\n",
      "Bhaarath\n",
      "Egypt\n",
      "Eurasian-steppes\n",
      "Greece\n",
      "Japan\n",
      "Mesopotamia\n",
      "Persia\n",
      "Scandinavia\n"
     ]
    }
   ],
   "source": [
    "#her we make the list of dictionaries containing names of ancient gods alongwith their prime-ancient regions(whre they worshipped primarily )\n",
    "ancient_gods = [\n",
    "    {\"name\":\"Ra\" , \"region\":\"Egypt\"},\n",
    "    {\"name\":\"odin\", \"region\":\"Scandinavia\"},\n",
    "    {\"name\":\"Quetzalcoatl\", \"region\":\"Aztec\"},\n",
    "    {\"name\":\"Shiva\", \"region\":\"Bhaarath\"},\n",
    "    {\"name\":\"Vishnu\", \"region\":\"Bhaarath\"},\n",
    "    {\"name\":\"Amaterasu\", \"region\":\"Japan\"},\n",
    "    {\"name\":\"Isis\", \"region\":\"Egypt\"},\n",
    "    {\"name\":\"Huitzilopochtl\", \"region\":\"Aztec\"},\n",
    "    {\"name\":\"Thor\", \"region\":\"Scandinavia\"},\n",
    "    {\"name\":\"Hera\", \"region\":\"Greece\"},\n",
    "    {\"name\":\"Ares\", \"region\":\"Greece\"},\n",
    "    {\"name\":\"Marduk\", \"region\":\"Mesopotamia\"},\n",
    "    {\"name\":\"Indra\", \"region\":\"Bhaarath\"},\n",
    "    {\"name\":\"Ahura Mazda\", \"region\":\"Persia\"},\n",
    "    {\"name\":\"Tabiti\", \"region\":\"Eurasian-steppes\"}\n",
    "]\n",
    "\n",
    "print(\"these are ancient gods and their respective ancient0regions where they venerated: \")\n",
    "print(ancient_gods)\n",
    "\n",
    "#conventional approach [by using list]:\n",
    "#now if we want to make the sets of unique ancient-regions.\n",
    "Ancient_regions = [] # initialized a list of ancient regions which will save all the regions uniquely\n",
    "for regions in ancient_gods:\n",
    "    if regions[\"region\"] not in Ancient_regions:\n",
    "        Ancient_regions.append(regions[\"region\"])\n",
    "print(\"===============================================\")\n",
    "# now printing of that list of unique regions sortedly\n",
    "for  reg in sorted(Ancient_regions):\n",
    "    print(reg)\n",
    "\n",
    "\n"
   ]
  },
  {
   "cell_type": "code",
   "execution_count": 4,
   "metadata": {},
   "outputs": [
    {
     "name": "stdout",
     "output_type": "stream",
     "text": [
      "===============================================\n",
      "Aztec\n",
      "Bhaarath\n",
      "Egypt\n",
      "Eurasian-steppes\n",
      "Greece\n",
      "Japan\n",
      "Mesopotamia\n",
      "Persia\n",
      "Scandinavia\n"
     ]
    }
   ],
   "source": [
    "#compact-approach [by using set]:\n",
    "#now if we want to make the sets of unique ancient-regions.\n",
    "Ancient_regions = set() # intead of intializing list here we are initialized our variable in to set  \n",
    "for regions in ancient_gods:\n",
    "    # and we simply add the regions values to set without that filtering-out duplicate logic\n",
    "    Ancient_regions.add(regions[\"region\"])  # here add fn used with set ,it  will automatically add the unique values of regions here\n",
    "print(\"===============================================\")\n",
    "# now printing of that list of unique regions sortedly\n",
    "for  reg in sorted(Ancient_regions):\n",
    "    print(reg)\n",
    "\n",
    "\n"
   ]
  }
 ],
 "metadata": {
  "kernelspec": {
   "display_name": "cs50pyenv",
   "language": "python",
   "name": "python3"
  },
  "language_info": {
   "codemirror_mode": {
    "name": "ipython",
    "version": 3
   },
   "file_extension": ".py",
   "mimetype": "text/x-python",
   "name": "python",
   "nbconvert_exporter": "python",
   "pygments_lexer": "ipython3",
   "version": "3.12.3"
  }
 },
 "nbformat": 4,
 "nbformat_minor": 2
}
