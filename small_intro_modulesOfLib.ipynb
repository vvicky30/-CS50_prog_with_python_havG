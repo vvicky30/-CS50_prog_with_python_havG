{
 "cells": [
  {
   "cell_type": "code",
   "execution_count": 6,
   "metadata": {},
   "outputs": [
    {
     "name": "stdout",
     "output_type": "stream",
     "text": [
      "Result of toss:  Head\n"
     ]
    }
   ],
   "source": [
    "# here going to import all modules from random liberary\n",
    "import random\n",
    "coin=[\"Head\", \"Tail\"] # coin with two sides\n",
    "toss = random.choice(coin)\n",
    "#here choice is the module from random-lib of python which's Choose a random element from a non-empty sequence.\n",
    "print(\"Result of toss: \",toss)"
   ]
  },
  {
   "cell_type": "code",
   "execution_count": 9,
   "metadata": {},
   "outputs": [
    {
     "name": "stdout",
     "output_type": "stream",
     "text": [
      "Tail\n"
     ]
    }
   ],
   "source": [
    "# but here if we direcly import specifically that coice module(or fn) from random liberary \n",
    "# we doesn't need to access it again and again through object-random of random base-class here\n",
    "from random import choice\n",
    "toss1= choice(coin)\n",
    "print(toss1) "
   ]
  },
  {
   "cell_type": "code",
   "execution_count": 41,
   "metadata": {},
   "outputs": [
    {
     "name": "stdout",
     "output_type": "stream",
     "text": [
      "14\n",
      "21\n"
     ]
    }
   ],
   "source": [
    "#similarly for radint-fn : whic is used to select random element in between the two integer(or given iteger-range)\n",
    "# and another fn by randrange: which gives random integer numbers from given range\n",
    "from random import randint\n",
    "from random import randrange\n",
    "\n",
    "randomint=randint(5,20)\n",
    "randomrange=randrange(5,25,step=2)\n",
    "print(randomint)\n",
    "print(randomrange)"
   ]
  },
  {
   "cell_type": "code",
   "execution_count": 59,
   "metadata": {},
   "outputs": [
    {
     "name": "stdout",
     "output_type": "stream",
     "text": [
      "unshuffled cards:  ['Jack', 'Queen', 'King']\n",
      "shuffled cards here now:-\n",
      "King\n",
      "Queen\n",
      "Jack\n"
     ]
    }
   ],
   "source": [
    "# there's another fn/module in random liberary caleed shuffle which takes sequence and shuffle thier elements randomly in list, tuples or dictionary\n",
    "from random import shuffle\n",
    "\n",
    "cards = [\"Jack\", \"Queen\", \"King\"]\n",
    "print(\"unshuffled cards: \",cards)\n",
    "shuffle(cards)\n",
    "print(\"shuffled cards here now:-\")\n",
    "for shuffled_cards in cards:\n",
    "    print(shuffled_cards)\n"
   ]
  }
 ],
 "metadata": {
  "kernelspec": {
   "display_name": "cs50pyenv",
   "language": "python",
   "name": "python3"
  },
  "language_info": {
   "codemirror_mode": {
    "name": "ipython",
    "version": 3
   },
   "file_extension": ".py",
   "mimetype": "text/x-python",
   "name": "python",
   "nbconvert_exporter": "python",
   "pygments_lexer": "ipython3",
   "version": "3.12.2"
  }
 },
 "nbformat": 4,
 "nbformat_minor": 2
}
