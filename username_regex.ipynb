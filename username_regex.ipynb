{
 "cells": [
  {
   "cell_type": "code",
   "execution_count": 2,
   "metadata": {},
   "outputs": [
    {
     "name": "stdout",
     "output_type": "stream",
     "text": [
      "so Your twitter-Username is: -my user name is Sphinixprecarious\n"
     ]
    },
    {
     "data": {
      "text/plain": [
       "'\\no/p:\\n(test-cases):-\\n-https://twitter.com/Sphinixprecarious\\n>so Your twitter-Username is: Sphinixprecarious\\n\\n'"
      ]
     },
     "execution_count": 2,
     "metadata": {},
     "output_type": "execute_result"
    }
   ],
   "source": [
    "# Here in this program we're going to retrieve twitter-username (from the url) of the user ,while user entering his/her twitter-profile url,\n",
    "# all this with the help of regex-substitute and regex-search approach \n",
    "\n",
    "\n",
    "#apporach -1 (conventional)\n",
    "\n",
    "url = input(\"please enter your twitter-profile URL :\").strip()\n",
    "# here is how several deveopers replace (substitute) small part or sub-string from user's input string with another sub-string or noting(in our case here).\n",
    "username = url.replace(\"https://twitter.com/\", \"\")  # here we replace the substring: \"https://twitter.com/\" from url with nothing and saved it further to username \n",
    "               # so that only user name will be stored in this 'username' variable\n",
    "print(f\"so Your twitter-Username is: {username}\")   \n",
    "\n",
    "'''\n",
    "o/p:\n",
    "(test-cases):-\n",
    "-https://twitter.com/Sphinixprecarious\n",
    ">so Your twitter-Username is: Sphinixprecarious\n",
    "\n",
    "-my user name is https://twitter.com/Sphinixprecarious   //if user enter extra things before after url\n",
    ">so Your twitter-Username is: -my user name is Sphinixprecarious    //then it looks like this (here with username msg redundency)\n",
    "\n",
    "'''             "
   ]
  },
  {
   "cell_type": "code",
   "execution_count": 5,
   "metadata": {},
   "outputs": [
    {
     "name": "stdout",
     "output_type": "stream",
     "text": [
      "so Your twitter-Username is: my user name is https://twitter.com/Sphinixprecarious\n"
     ]
    },
    {
     "data": {
      "text/plain": [
       "'\\no/p:\\n(test-cases):-\\n-https://twitter.com/Sphinixprecarious\\n>so Your twitter-Username is: Sphinixprecarious\\n\\n-my user name is https://twitter.com/Sphinixprecarious   //if user enter extra things before after url\\n\\n'"
      ]
     },
     "execution_count": 5,
     "metadata": {},
     "output_type": "execute_result"
    }
   ],
   "source": [
    "#apporach -2 (conventional)\n",
    "\n",
    "url = input(\"please enter your twitter-profile URL :\").strip()\n",
    "# here we used removeprefix -fn supported with string variables , which will remove foremost part (which's that much specified by developers) of the incomming string \n",
    "username = url.removeprefix(\"https://twitter.com/\") \n",
    "print(f\"so Your twitter-Username is: {username}\")   \n",
    "\n",
    "'''\n",
    "o/p:\n",
    "(test-cases):-\n",
    "-https://twitter.com/Sphinixprecarious\n",
    ">so Your twitter-Username is: Sphinixprecarious\n",
    "\n",
    "-my user name is https://twitter.com/Sphinixprecarious   //if user enter extra things before after url\n",
    ">so Your twitter-Username is: my user name is https://twitter.com/Sphinixprecarious\n",
    "// which is very problematic here if interpreter encountered something rather than expected prefix. \n",
    "'''\n"
   ]
  },
  {
   "cell_type": "code",
   "execution_count": 9,
   "metadata": {},
   "outputs": [
    {
     "name": "stdout",
     "output_type": "stream",
     "text": [
      "so Your twitter-Username is: http://twitter.com/Sphinixprecarious\n"
     ]
    },
    {
     "data": {
      "text/plain": [
       "\"\\no/p:\\n(test-cases):-\\n-https://twitter.com/Sphinixprecarious\\n>so Your twitter-Username is: Sphinixprecarious\\n-https://twitter?com/Sphinixprecarious //instead of .com we used here '?'\\n>so Your twitter-Username is: Sphinixprecarious   // still it will be work even that's not twitter-url with correct domain-name\\n-http://twitter?com/Sphinixprecarious  // if used http instead of https while entering twitter url\\n\\n\""
      ]
     },
     "execution_count": 9,
     "metadata": {},
     "output_type": "execute_result"
    }
   ],
   "source": [
    "#apporach -3 (using regex's substitute):\n",
    "\n",
    "import re\n",
    "# syntax for regex's substitute :- re.sub(pattern, repl, string , count=0 , flags=0)\n",
    "   # here where pattern is aganst which incomming string will be matched  , \n",
    "   # whereas repl here's replacement string , that will be used in place of specified matched patterns\n",
    "   # whereas string is on which substitution operation will be done , and there're another arguments as well i.e. count and flags  \n",
    "url = input(\"please enter your twitter-profile URL :\").strip()\n",
    "username = re.sub(r\"https://twitter.com/\", \"\", url)\n",
    "print(f\"so Your twitter-Username is: {username}\")   \n",
    "\n",
    "'''\n",
    "o/p:\n",
    "(test-cases):-\n",
    "-https://twitter.com/Sphinixprecarious\n",
    ">so Your twitter-Username is: Sphinixprecarious\n",
    "-https://twitter?com/Sphinixprecarious //instead of .com we used here '?'\n",
    ">so Your twitter-Username is: Sphinixprecarious   // still it will be work even that's not twitter-url with correct domain-name\n",
    "-http://twitter.com/Sphinixprecarious  // if used http instead of https while entering twitter url\n",
    ">so Your twitter-Username is: http://twitter.com/Sphinixprecarious   //so in that case it will give o/p like this \n",
    "  //as here its not mathced with expected pattern(which includes https version not http) thus its not replaced with nothing (\"\")\n",
    "  \n",
    "\n",
    "'''\n",
    "\n"
   ]
  },
  {
   "cell_type": "code",
   "execution_count": 15,
   "metadata": {},
   "outputs": [
    {
     "name": "stdout",
     "output_type": "stream",
     "text": [
      "so Your twitter-Username is: https://www.google.com/Sphinixprecarious\n"
     ]
    },
    {
     "data": {
      "text/plain": [
       "\"\\no/p:\\n(test-cases):-\\n-https://twitter.com/Sphinixprecarious\\n>so Your twitter-Username is: Sphinixprecarious\\n\\n-http://twitter.com/Sphinixprecarious   //with http\\n>so Your twitter-Username is: Sphinixprecarious\\n\\n-https://www.twitter.com/Sphinixprecarious   //with www.\\n>so Your twitter-Username is: Sphinixprecarious\\n\\n-https://www.google.com/     //what if user don't enter twitter-url but google url \\n>\\n\""
      ]
     },
     "execution_count": 15,
     "metadata": {},
     "output_type": "execute_result"
    }
   ],
   "source": [
    "#apporach -4 (using regex's substitute):\n",
    "# here in this case we're going to improvise our regex susbtitute pattern for handling above cutting-edge test-cases\n",
    "#  so old regular-expression looks like this : r\"https://twitter.com/\"\n",
    "# newer regular-expression will be look like this : r\"^(https?://)?(www\\.)?twitter\\.com/\"\n",
    "      # here used ^(carrot) for specifying string should start from here(mentioned in pattern)\n",
    "      # here we dont used $ for specifying ending of string as after \".com/\" we know string not ended there but actualy ends with some username.\n",
    "      #here we used \\. with \"www\\.\" and \"\\.com\" for escaping dot here as it shouln't be interpreted as standard dot-symbol of regex. \n",
    "      #here we make grp of '(www\\.)' to be optional here with the help of ? symbol of regex.\n",
    "      #here we write ? symbol after 's' of https to make it optional as user can write http or https both\n",
    "      #here we make gro of '(https?://)' to be optional here with the help of ? symbol of regex.\n",
    "           # as generally https:// or http:// added bydefault by some browsers automatically, while copying url.\n",
    "url = input(\"please enter your twitter-profile URL :\").strip()\n",
    "\n",
    "username = re.sub(r\"^(https?://)?(www\\.)?twitter\\.com/\", \"\", url)\n",
    "print(f\"so Your twitter-Username is: {username}\")   \n",
    "\n",
    "'''\n",
    "o/p:\n",
    "(test-cases):-\n",
    "-https://twitter.com/Sphinixprecarious\n",
    ">so Your twitter-Username is: Sphinixprecarious\n",
    "\n",
    "-http://twitter.com/Sphinixprecarious   //with http\n",
    ">so Your twitter-Username is: Sphinixprecarious\n",
    "\n",
    "-https://www.twitter.com/Sphinixprecarious   //with www.\n",
    ">so Your twitter-Username is: Sphinixprecarious\n",
    "\n",
    "-https://www.google.com/Sphinixprecarious     //what if user don't enter twitter-url but google url \n",
    ">so Your twitter-Username is: https://www.google.com/Sphinixprecarious\n",
    "\n",
    "//this is because here we're only focussing on sustituting a sub-string (specified sub-string which mathces given regex-pattern) with nothing(\"\")\n",
    "//instead of checking the vlidity of url string whether it's twitter url or not ...as here it was google url not twitter one.\n",
    "// so for checking validity we have to use the regex.search and then capture only those part that we need.  \n",
    "'''\n"
   ]
  },
  {
   "cell_type": "code",
   "execution_count": null,
   "metadata": {},
   "outputs": [
    {
     "data": {
      "text/plain": [
       "'\\no/p: (test cases):-\\nhttps://www.twitter.com/Sphinixprecarious \\n>so Your twitter-Username is: Sphinixprecarious\\n-https://www.google.com/Sphinixprecarious\\n>\\n'"
      ]
     },
     "execution_count": 19,
     "metadata": {},
     "output_type": "execute_result"
    }
   ],
   "source": [
    "#so for checking validity we have to use the regex.search(with specified regex-pattern built for twitter-url) and then capture only those part(to the variable) that we need(here in this case username-part).\n",
    "import re\n",
    "# here we can see how our regex for searching-validity of twitter url looks like :\n",
    "# regex :r\"^(https?://)?(www\\.)?twitter\\.com/(.+)$\"\n",
    "    #here we add $ sign as we here specifying ending of string should be with username\n",
    "    #here we make group of username for capturing porposes here as (.+) ..where parentheses used for maing capturing grp here\n",
    "                                                                    # where '.+' stands for any charcater with one or more repeatations\n",
    "    # here we have to NOTe that we already made groups of (https?://) and (www\\.) to be optional \n",
    "    # so while capturing grp we have to specify specifically that which grp we want to capture with the help of indices                                                                 \n",
    "url = input(\"please enter your twitter-profile URL :\").strip()\n",
    "\n",
    "mathces = re.search(r\"^(https?://)?(www\\.)?twitter\\.com/(.+)$\",url,re.IGNORECASE)\n",
    "if mathces:\n",
    "    print(f\"so Your twitter-Username is: {mathces.group(3)}\")   # as here we used 3 for index as there are 3 -capturing grps in above regex  \n",
    "else:\n",
    "    print(\"please, write valid twitter-url\")\n",
    "'''\n",
    "o/p: (test cases):-\n",
    "https://www.twitter.com/Sphinixprecarious \n",
    ">so Your twitter-Username is: Sphinixprecarious\n",
    "-https://www.google.com/Sphinixprecarious\n",
    ">\n",
    "'''    \n",
    "    "
   ]
  },
  {
   "cell_type": "code",
   "execution_count": 17,
   "metadata": {},
   "outputs": [],
   "source": [
    "import re"
   ]
  },
  {
   "cell_type": "code",
   "execution_count": null,
   "metadata": {},
   "outputs": [],
   "source": []
  }
 ],
 "metadata": {
  "kernelspec": {
   "display_name": "cs50pyenv",
   "language": "python",
   "name": "python3"
  },
  "language_info": {
   "codemirror_mode": {
    "name": "ipython",
    "version": 3
   },
   "file_extension": ".py",
   "mimetype": "text/x-python",
   "name": "python",
   "nbconvert_exporter": "python",
   "pygments_lexer": "ipython3",
   "version": "3.12.3"
  }
 },
 "nbformat": 4,
 "nbformat_minor": 2
}
