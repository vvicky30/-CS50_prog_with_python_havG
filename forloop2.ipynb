{
 "cells": [
  {
   "cell_type": "code",
   "execution_count": 14,
   "metadata": {},
   "outputs": [
    {
     "name": "stdout",
     "output_type": "stream",
     "text": [
      "{'name': 'Hermoine', 'house': 'Gryffindor', 'patronus': 'otter'}\n",
      "{'name': 'Ron', 'house': 'Gryffindor', 'patronus': 'jack russell terrier'}\n",
      "Hermoine, Gryffindor, otter\n",
      "Harry, Gryffindor, stag\n",
      "Ron, Gryffindor, jack russell terrier\n",
      "Draco, Slytherin, None\n"
     ]
    }
   ],
   "source": [
    "# here we going to make list of dictionaries related to hogwart-houses, patronus respectively for each name\n",
    "potter_students = [\n",
    "    {\"name\" : \"Hermoine\", \"house\": \"Gryffindor\", \"patronus\": \"otter\"},\n",
    "    {\"name\" : \"Harry\", \"house\": \"Gryffindor\", \"patronus\": \"stag\"},\n",
    "    {\"name\" : \"Ron\", \"house\": \"Gryffindor\", \"patronus\": \"jack russell terrier\"},\n",
    "    {\"name\" : \"Draco\", \"house\": \"Slytherin\", \"patronus\": None},\n",
    "]\n",
    "# if we have to acces each dictionary from list \n",
    "print(potter_students[0])\n",
    "print(potter_students[2])\n",
    "\n",
    "# for accesing the values in the dictionaries by common keys :\n",
    "for potters in potter_students:\n",
    "    print(potters[\"name\"], potters[\"house\"], potters[\"patronus\"], sep = \", \")"
   ]
  },
  {
   "cell_type": "code",
   "execution_count": 15,
   "metadata": {},
   "outputs": [
    {
     "name": "stdout",
     "output_type": "stream",
     "text": [
      "$\n",
      "$\n",
      "$\n"
     ]
    }
   ],
   "source": [
    "# with the for loop we can also iterate over some amount of range to print special symbol in patterns\n",
    "#easiest one like this \n",
    "for _ in range(3):\n",
    "    print(\"$\")\n",
    "    "
   ]
  },
  {
   "cell_type": "code",
   "execution_count": 19,
   "metadata": {},
   "outputs": [
    {
     "name": "stdout",
     "output_type": "stream",
     "text": [
      "$\n",
      "$\n",
      "$\n",
      "$\n"
     ]
    }
   ],
   "source": [
    "# what if want to make that above thing in abstract using functional programming \n",
    "def main():\n",
    "    print_pattern(4)\n",
    "\n",
    "\n",
    "def print_pattern(hieght=0): # hieght will be zero by default\n",
    "    for _ in range(hieght):\n",
    "        print(\"$\")\n",
    "        \n",
    "main()"
   ]
  },
  {
   "cell_type": "code",
   "execution_count": 21,
   "metadata": {},
   "outputs": [
    {
     "name": "stdout",
     "output_type": "stream",
     "text": [
      "$ $ $ $ "
     ]
    }
   ],
   "source": [
    "#as we can see in above we're taking the hieght to print one column of '$' symbol \n",
    "# but if we wan to print the '$' sign  horizontally like a one row\n",
    "def main2():\n",
    "    print_pattern_row(4)\n",
    "\n",
    "def print_pattern_row(width=0):\n",
    "    for _ in range(width):\n",
    "        print(\"$\", end=\" \")\n",
    "        \n",
    "main2()"
   ]
  },
  {
   "cell_type": "code",
   "execution_count": 28,
   "metadata": {},
   "outputs": [
    {
     "name": "stdout",
     "output_type": "stream",
     "text": [
      "$ $ $ $ $ \n",
      "$ $ $ $ $ \n",
      "$ $ $ $ $ \n",
      "$ $ $ $ $ \n",
      "$ $ $ $ $ \n",
      "$$$$$\n",
      "$$$$$\n",
      "$$$$$\n",
      "$$$$$\n",
      "$$$$$\n"
     ]
    }
   ],
   "source": [
    "# so by using last two above approaches ,can we print square by prinitng bricks corresponds to one row and then correspods to 2nd row and so on \n",
    "def main3():\n",
    "    print_square(5) # here we're going to print square of edge 5-'$' \n",
    "     \n",
    "    print_sq(5) # here is short and compact approach to print square \n",
    "def print_square(edge):\n",
    "    #here challenge is that we going to print bricks('$') rowise as well as columnswise simumtaneosly \n",
    "    # means we have to print in 2-dimensions\n",
    "    \n",
    "    # so here outer loop is for iterating by row of square\n",
    "    for i in range(edge):\n",
    "        #here second loop is for printing brick('$') in each row by iterating over columns\n",
    "        for j in range(edge):\n",
    "            print(\"$\", end=\" \") # printing brick here horizontally \n",
    "        \n",
    "        #here we're using empty print-fn as any print-fn automatically move corsor to new line \n",
    "        print()\n",
    "        \n",
    "\n",
    "def print_sq(edge):\n",
    "    for i in range(edge):\n",
    "            print(\"$\"*edge)\n",
    "            \n",
    "\n",
    "main3()"
   ]
  }
 ],
 "metadata": {
  "kernelspec": {
   "display_name": "cs50pyenv",
   "language": "python",
   "name": "python3"
  },
  "language_info": {
   "codemirror_mode": {
    "name": "ipython",
    "version": 3
   },
   "file_extension": ".py",
   "mimetype": "text/x-python",
   "name": "python",
   "nbconvert_exporter": "python",
   "pygments_lexer": "ipython3",
   "version": "3.12.2"
  }
 },
 "nbformat": 4,
 "nbformat_minor": 2
}
