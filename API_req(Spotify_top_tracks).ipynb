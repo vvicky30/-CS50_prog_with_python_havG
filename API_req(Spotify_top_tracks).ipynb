{
 "cells": [
  {
   "cell_type": "markdown",
   "metadata": {},
   "source": [
    "### APIs often reffered to the third party services on respective servers to which developers purposefully connected to download or request those services from server to their (user's/developer's server, or  local program or worskpace) to incorcorate those services and APis to their program.\n",
    "\n",
    "### for requesting those services & APIs from the server , we have request module in python , which is used for HTTP request to specified URL\n",
    "\n",
    "### this request module takes web-url as a a argument and in returns gives us the several info of that web-page on specified url like jason format of that page along with there're several operations we can do that on web data on specified web url by methods like \n",
    "- GET:\tGET method is used to retrieve information from the given server using a given URL.\n",
    "\n",
    "\n",
    "- POST:\tPOST request method requests that a web server accepts the data enclosed in the body of the request message, most likely for storing it.\n",
    "\n",
    "- PUT:\tThe PUT method requests that the enclosed entity be stored under the supplied URL. If the URL refers to an already existing resource, it is modified and if the URI does not point to an existing resource, then the server can create the resource with that URI.\n",
    "\n",
    "- DELETE:\tThe DELETE method deletes the specified resource\n",
    "\n",
    "- HEAD:\tThe HEAD method asks for a response identical to that of a GET request, but without the response body.\n",
    "\n",
    "- PATCH:\tIt is used for modify capabilities. The PATCH request only needs to contain the changes to the resource, not the complete resource\n",
    "\n",
    "### To play with web, Python Requests is must. Whether it be hitting APIs,downloading entire social media pages, and much more cool stuff, one will have to make a request to the URL.\n",
    "\n"
   ]
  },
  {
   "cell_type": "markdown",
   "metadata": {},
   "source": [
    "### GIT description of prog: Here we are going to explore about how to use spotify api (as its required token -acess for authentication) for searching top tracks of artists by their name."
   ]
  },
  {
   "cell_type": "markdown",
   "metadata": {},
   "source": []
  }
 ],
 "metadata": {
  "kernelspec": {
   "display_name": "cs50pyenv",
   "language": "python",
   "name": "python3"
  },
  "language_info": {
   "codemirror_mode": {
    "name": "ipython",
    "version": 3
   },
   "file_extension": ".py",
   "mimetype": "text/x-python",
   "name": "python",
   "nbconvert_exporter": "python",
   "pygments_lexer": "ipython3",
   "version": "3.12.2"
  }
 },
 "nbformat": 4,
 "nbformat_minor": 2
}
