{
 "cells": [
  {
   "cell_type": "code",
   "execution_count": 1,
   "metadata": {},
   "outputs": [
    {
     "name": "stdout",
     "output_type": "stream",
     "text": [
      "['HERE', 'I', 'COME', 'WITH', 'HEFTY', 'MAJORITY']\n"
     ]
    }
   ],
   "source": [
    "#here we make sammll functional program which converts all the passed words (bunch of words to from phrases) to return phrase in uppercase.\n",
    "# here we used unpacking techniques , and *args(variavle positional arguments), and map function as well to do that.\n",
    "\n",
    "def main():\n",
    "    # let pass the words in the yell function \n",
    "    y=yell([\"Here\", \"i\",\"come\", \"with\",\"hefty\",\"majority\"])  # passing here direct list of words \n",
    "    print(y)\n",
    "#now implementing yell function\n",
    "def yell(words):\n",
    "    # intitializing list to save uppercased phrase made up of all these words\n",
    "    uppercased = []\n",
    "    for word in words:\n",
    "        uppercased.append(word.upper())\n",
    "    return uppercased  \n",
    "    \n",
    "if __name__==\"__main__\":\n",
    "    main()"
   ]
  },
  {
   "cell_type": "code",
   "execution_count": 2,
   "metadata": {},
   "outputs": [
    {
     "name": "stdout",
     "output_type": "stream",
     "text": [
      "HERE I COME WITH HEFTY MAJORITY\n"
     ]
    }
   ],
   "source": [
    "# what if we doesn't want this upper words with quotes and mentioned with square bracket i.e. list \n",
    "# for that we have to unpack the uppercases list while returining it \n",
    "# or just unpack that list while printing it in main function \n",
    "def main():\n",
    "    # let pass the words in the yell function \n",
    "    y=yell([\"Here\", \"i\",\"come\", \"with\",\"hefty\",\"majority\"])  # passing here direct list of words \n",
    "    print(*y)   # unpacking list here \n",
    "#now implementing yell function\n",
    "def yell(words):\n",
    "    # intitializing list to save uppercased phrase made up of all these words\n",
    "    uppercased = []\n",
    "    for word in words:\n",
    "        uppercased.append(word.upper())\n",
    "    return uppercased\n",
    "        \n",
    "    \n",
    "if __name__==\"__main__\":\n",
    "    main()"
   ]
  },
  {
   "cell_type": "code",
   "execution_count": 3,
   "metadata": {},
   "outputs": [
    {
     "name": "stdout",
     "output_type": "stream",
     "text": [
      "HERE I COME WITH HEFTY MAJORITY\n"
     ]
    }
   ],
   "source": [
    "# here we dont't pass list but directly bunch of words as arguments ,\n",
    "# as here function don't know how many words as arguments can be passed by programmer \n",
    "# so here we used postional variable arguments in function-implementation which is *args\n",
    "def main():\n",
    "    # let pass the words in the yell function \n",
    "    y=yell(\"Here\", \"i\",\"come\", \"with\",\"hefty\",\"majority\")  # passing here direct words \n",
    "    print(*y)   # unpacking list here \n",
    "#now implementing yell function\n",
    "def yell(*words):  # using *args variable arguments \n",
    "    # intitializing list to save uppercased phrase made up of all these words\n",
    "    uppercased = []\n",
    "    for word in words:\n",
    "        uppercased.append(word.upper())\n",
    "    return uppercased\n",
    "        \n",
    "    \n",
    "if __name__==\"__main__\":\n",
    "    main()"
   ]
  },
  {
   "cell_type": "code",
   "execution_count": 4,
   "metadata": {},
   "outputs": [
    {
     "name": "stdout",
     "output_type": "stream",
     "text": [
      "HERE I COME WITH HEFTY MAJORITY\n"
     ]
    }
   ],
   "source": [
    "# we can use map function and do this program with ease\n",
    "def main():\n",
    "    # let pass the words in the yell function \n",
    "    y=yell([\"Here\", \"i\",\"come\", \"with\",\"hefty\",\"majority\"])  # passing here direct words \n",
    "    print(*y)   # unpacking list here \n",
    "#now implementing yell function\n",
    "def yell(words):\n",
    "    # intitializing list to save uppercased phrase made up of all these words\n",
    "    uppercased = map(str.upper, words)\n",
    "    return uppercased\n",
    "        \n",
    "    \n",
    "if __name__==\"__main__\":\n",
    "    main()"
   ]
  },
  {
   "cell_type": "code",
   "execution_count": 5,
   "metadata": {},
   "outputs": [
    {
     "name": "stdout",
     "output_type": "stream",
     "text": [
      "HERE I COME WITH HEFTY MAJORITY\n"
     ]
    }
   ],
   "source": [
    "#now using list comprehension technique\n",
    "# developers generally prefferd list comprehension\n",
    "def main():\n",
    "    # let pass the words in the yell function \n",
    "    y=yell([\"Here\", \"i\",\"come\", \"with\",\"hefty\",\"majority\"])  # passing here direct words \n",
    "    print(*y)   # unpacking list here \n",
    "#now implementing yell function\n",
    "def yell(words):\n",
    "    # intitializing list to save uppercased phrase made up of all these words\n",
    "    # here we used list comprehnesion method to convert words here in uppercase \n",
    "    uppercased = [word.upper()   for word in words]\n",
    "    return uppercased\n",
    "        \n",
    "    \n",
    "if __name__==\"__main__\":\n",
    "    main()"
   ]
  },
  {
   "cell_type": "code",
   "execution_count": null,
   "metadata": {},
   "outputs": [],
   "source": []
  }
 ],
 "metadata": {
  "kernelspec": {
   "display_name": "cs50pyenv",
   "language": "python",
   "name": "python3"
  },
  "language_info": {
   "codemirror_mode": {
    "name": "ipython",
    "version": 3
   },
   "file_extension": ".py",
   "mimetype": "text/x-python",
   "name": "python",
   "nbconvert_exporter": "python",
   "pygments_lexer": "ipython3",
   "version": "3.12.3"
  }
 },
 "nbformat": 4,
 "nbformat_minor": 2
}
