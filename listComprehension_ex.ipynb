{
 "cells": [
  {
   "cell_type": "code",
   "execution_count": 5,
   "metadata": {},
   "outputs": [
    {
     "name": "stdout",
     "output_type": "stream",
     "text": [
      "Shiva\n",
      "Vishnu\n",
      "Indra\n"
     ]
    }
   ],
   "source": [
    "# here we're going to illustrate usage of list comprehension techique and filter-function technique\n",
    "# to save those names(ancient_gods) or values which have identical ancient_regions.  \n",
    "\n",
    "#her we make the list of dictionaries containing names of ancient gods alongwith their prime-ancient regions(whre they worshipped primarily )\n",
    "ancient_gods = [\n",
    "    {\"name\":\"Ra\" , \"region\":\"Egypt\"},\n",
    "    {\"name\":\"odin\", \"region\":\"Scandinavia\"},\n",
    "    {\"name\":\"Quetzalcoatl\", \"region\":\"Aztec\"},\n",
    "    {\"name\":\"Shiva\", \"region\":\"Bhaarath\"},\n",
    "    {\"name\":\"Vishnu\", \"region\":\"Bhaarath\"},\n",
    "    {\"name\":\"Amaterasu\", \"region\":\"Japan\"},\n",
    "    {\"name\":\"Isis\", \"region\":\"Egypt\"},\n",
    "    {\"name\":\"Huitzilopochtl\", \"region\":\"Aztec\"},\n",
    "    {\"name\":\"Thor\", \"region\":\"Scandinavia\"},\n",
    "    {\"name\":\"Hera\", \"region\":\"Greece\"},\n",
    "    {\"name\":\"Ares\", \"region\":\"Greece\"},\n",
    "    {\"name\":\"Marduk\", \"region\":\"Mesopotamia\"},\n",
    "    {\"name\":\"Indra\", \"region\":\"Bhaarath\"},\n",
    "    {\"name\":\"Ahura Mazda\", \"region\":\"Persia\"},\n",
    "    {\"name\":\"Tabiti\", \"region\":\"Eurasian-steppes\"}\n",
    "]\n",
    "\n",
    "# if we want to filterout names of those ancient gods who's venerated in ancient_region called  bhaarath\n",
    "\n",
    "# using list comprehension mehtod :\n",
    "bhaarath_gods = [bh_gods[\"name\"] for bh_gods in ancient_gods  if bh_gods[\"region\"]==\"Bhaarath\"]\n",
    "#printing \n",
    "for bh in bhaarath_gods:\n",
    "    print(bh)"
   ]
  },
  {
   "cell_type": "code",
   "execution_count": null,
   "metadata": {},
   "outputs": [],
   "source": []
  }
 ],
 "metadata": {
  "kernelspec": {
   "display_name": "cs50pyenv",
   "language": "python",
   "name": "python3"
  },
  "language_info": {
   "codemirror_mode": {
    "name": "ipython",
    "version": 3
   },
   "file_extension": ".py",
   "mimetype": "text/x-python",
   "name": "python",
   "nbconvert_exporter": "python",
   "pygments_lexer": "ipython3",
   "version": "3.12.3"
  }
 },
 "nbformat": 4,
 "nbformat_minor": 2
}
