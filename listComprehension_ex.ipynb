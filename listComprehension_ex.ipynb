{
 "cells": [
  {
   "cell_type": "code",
   "execution_count": 2,
   "metadata": {},
   "outputs": [
    {
     "name": "stdout",
     "output_type": "stream",
     "text": [
      "Shiva\n",
      "Vishnu\n",
      "Indra\n"
     ]
    }
   ],
   "source": [
    "# here we're going to illustrate usage of list comprehension techique and filter-function technique\n",
    "# to save those names(ancient_gods) or values which have identical ancient_regions.  \n",
    "\n",
    "#her we make the list of dictionaries containing names of ancient gods alongwith their prime-ancient regions(whre they worshipped primarily )\n",
    "ancient_gods = [\n",
    "    {\"name\":\"Ra\" , \"region\":\"Egypt\"},\n",
    "    {\"name\":\"odin\", \"region\":\"Scandinavia\"},\n",
    "    {\"name\":\"Quetzalcoatl\", \"region\":\"Aztec\"},\n",
    "    {\"name\":\"Shiva\", \"region\":\"Bhaarath\"},\n",
    "    {\"name\":\"Vishnu\", \"region\":\"Bhaarath\"},\n",
    "    {\"name\":\"Amaterasu\", \"region\":\"Japan\"},\n",
    "    {\"name\":\"Isis\", \"region\":\"Egypt\"},\n",
    "    {\"name\":\"Huitzilopochtl\", \"region\":\"Aztec\"},\n",
    "    {\"name\":\"Thor\", \"region\":\"Scandinavia\"},\n",
    "    {\"name\":\"Hera\", \"region\":\"Greece\"},\n",
    "    {\"name\":\"Ares\", \"region\":\"Greece\"},\n",
    "    {\"name\":\"Marduk\", \"region\":\"Mesopotamia\"},\n",
    "    {\"name\":\"Indra\", \"region\":\"Bhaarath\"},\n",
    "    {\"name\":\"Ahura Mazda\", \"region\":\"Persia\"},\n",
    "    {\"name\":\"Tabiti\", \"region\":\"Eurasian-steppes\"}\n",
    "]\n",
    "\n",
    "# if we want to filterout names of those ancient gods who's venerated in ancient_region called  bhaarath\n",
    "\n",
    "# using list comprehension mehtod :\n",
    "bhaarath_gods = [bh_gods[\"name\"] for bh_gods in ancient_gods  if bh_gods[\"region\"]==\"Bhaarath\"]\n",
    "#printing \n",
    "for bh in bhaarath_gods:\n",
    "    print(bh)"
   ]
  },
  {
   "cell_type": "code",
   "execution_count": 7,
   "metadata": {},
   "outputs": [
    {
     "name": "stdout",
     "output_type": "stream",
     "text": [
      "Indra\n",
      "Shiva\n",
      "Vishnu\n"
     ]
    }
   ],
   "source": [
    "# we can do that with the help of filter-function here \n",
    "#syntax of filter-fn filter(any function(either userdefined or standard fn), variable(var of type list or dictionary etc where specified fn is used to filterout values from it))\n",
    "#filer - syntax : filter(fn, var(data))\n",
    "\n",
    "# first of all we made a function which will check whether data contains region called \"Bhaarath\" or not \n",
    "\n",
    "def is_Bhaarath(s):\n",
    "    return s[\"region\"] == \"Bhaarath\"\n",
    "    # if it finds region equal to Bhaarath in current data then it will return True value else false\n",
    "\n",
    "Bharat_gods = filter(is_Bhaarath,ancient_gods ) \n",
    "\n",
    "# as this bharat_gods is dictionary \n",
    "# printing in sorted manner [name-wise]\n",
    "\n",
    "for bh in sorted(Bharat_gods, key = lambda j : j[\"name\"]):\n",
    "    print(bh[\"name\"])\n",
    "    \n",
    "#we can use lambda function within filter-fn as well"
   ]
  },
  {
   "cell_type": "code",
   "execution_count": null,
   "metadata": {},
   "outputs": [],
   "source": [
    "'''\n",
    "Black is the uncompromising Python code formatter. By using it, you agree to cede control over minutiae of hand-formatting. \n",
    "In return, Black gives you speed, determinism, and freedom from pycodestyle nagging about formatting. \n",
    "You will save time and mental energy for more important matters.\n",
    "\n",
    "Blackened code looks the same regardless of the project you're reading. Formatting becomes transparent after a while and you can focus on the content instead.\n",
    "Black makes code review faster by producing the smallest diffs possible.\n",
    "'''\n",
    "'''\n",
    "Installation and usage:-\n",
    "Installation:\n",
    "Black can be installed by running pip install black. \n",
    "It requires Python 3.8+ to run. \n",
    "If you want to format Jupyter Notebooks, install with pip install \"black[jupyter]\".\n",
    "\n",
    "If you can't wait for the latest hotness and want to install from GitHub, use:\n",
    "\n",
    "pip install git+https://github.com/psf/black\n",
    "\n",
    "Usage:\n",
    "To get started right away with sensible defaults:\n",
    "\n",
    "black {source_file_or_directory}\n",
    "Ex: black listComprehnesion_ex.py/ipynb\n",
    "You can run Black as a package if running it as a script doesn't work:\n",
    "python -m black {source_file_or_directory}\n",
    "ex:python -m black listComprehnesion_ex.py/ipynb\n",
    "'''"
   ]
  },
  {
   "cell_type": "code",
   "execution_count": 12,
   "metadata": {},
   "outputs": [
    {
     "name": "stdout",
     "output_type": "stream",
     "text": [
      "[{'Name': 'harry', 'House': 'Gryffindor'}, {'Name': 'Hermione', 'House': 'Gryffindor'}, {'Name': 'Ron', 'House': 'Gryffindor'}]\n"
     ]
    }
   ],
   "source": [
    "# now if we want to reconstruct the list of students in to the dictionary of students with common house \"Gryffindor\"\n",
    "# here is is list of student\n",
    "student = [\"harry\", \"Hermione\",\"Ron\"]\n",
    "\n",
    "Gryffindor_stud = [] #list var where  all the student of Gryffindor house wil be saved as [{name:student_name, House: gryffindor}.....{}..{}]\n",
    "\n",
    "for stud in student:\n",
    "    Gryffindor_stud.append({\"Name\": stud, \"House\": \"Gryffindor\"})   # note thatin append fns we used dictionary and assigning the values to the key\n",
    "\n",
    "print(Gryffindor_stud)"
   ]
  },
  {
   "cell_type": "code",
   "execution_count": 13,
   "metadata": {},
   "outputs": [
    {
     "name": "stdout",
     "output_type": "stream",
     "text": [
      "[{'name': 'harry', 'House': 'Gryffindor'}, {'name': 'Hermione', 'House': 'Gryffindor'}, {'name': 'Ron', 'House': 'Gryffindor'}]\n"
     ]
    }
   ],
   "source": [
    "# now doing the same using list comprehension method here\n",
    "student = [\"harry\", \"Hermione\",\"Ron\"]\n",
    "Gryffindor_stud = [{\"name\": stud , \"House\": \"Gryffindor\"} for stud in student] #list var where  all the student of Gryffindor house wil be saved as [{name:student_name, House: gryffindor}.....{}..{}]\n",
    "\n",
    "print(Gryffindor_stud)"
   ]
  },
  {
   "cell_type": "code",
   "execution_count": 14,
   "metadata": {},
   "outputs": [
    {
     "name": "stdout",
     "output_type": "stream",
     "text": [
      "{'harry': 'Gryffindor', 'Hermione': 'Gryffindor', 'Ron': 'Gryffindor'}\n"
     ]
    }
   ],
   "source": [
    "# what if we need one big dictinary with student_name and house_name corresponds to it (As):\n",
    "# {\"Harry\": \"Gryffindor\", \"Hermoine\":\"Gryffindor\"...}\n",
    "# for that we use dictionary comprehension method here \n",
    "student = [\"harry\", \"Hermione\",\"Ron\"]\n",
    "Gryffindor_stud = {stud:\"Gryffindor\" for stud in student }\n",
    "\n",
    "print(Gryffindor_stud)"
   ]
  }
 ],
 "metadata": {
  "kernelspec": {
   "display_name": "cs50pyenv",
   "language": "python",
   "name": "python3"
  },
  "language_info": {
   "codemirror_mode": {
    "name": "ipython",
    "version": 3
   },
   "file_extension": ".py",
   "mimetype": "text/x-python",
   "name": "python",
   "nbconvert_exporter": "python",
   "pygments_lexer": "ipython3",
   "version": "3.12.3"
  }
 },
 "nbformat": 4,
 "nbformat_minor": 2
}
