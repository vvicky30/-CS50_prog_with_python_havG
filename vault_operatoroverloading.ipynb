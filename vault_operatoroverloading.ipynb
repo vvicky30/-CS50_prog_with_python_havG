{
 "cells": [
  {
   "cell_type": "markdown",
   "metadata": {},
   "source": [
    "## Operator Overloading in Python:\n",
    "### Operator Overloading means giving extended meaning beyond their predefined operational meaning. For example operator + is used to add two integers as well as join two strings and merge two lists. It is achievable because ‘+’ operator is overloaded by int class and str class. You might have noticed that the same built-in operator or function shows different behavior for objects of different classes, this is called Operator Overloading. \n",
    "\n",
    "- Note: It is not possible to change the number of operands of an operator. For example: If we can not overload a unary operator as a binary operator. The following code will throw a syntax error."
   ]
  },
  {
   "cell_type": "code",
   "execution_count": 8,
   "metadata": {},
   "outputs": [
    {
     "name": "stdout",
     "output_type": "stream",
     "text": [
      "Sphinx has:\n",
      "100-galleons \n",
      "120-sickles \n",
      "300-knuts\n",
      "======================================================\n",
      "Caryanda has:\n",
      "50-galleons \n",
      "100-sickles \n",
      "400-knuts\n",
      "======================================================\n",
      "overall_vault has :\n",
      "150-galleons \n",
      "220-sickles \n",
      "700-knuts\n"
     ]
    }
   ],
   "source": [
    "#we're going to make the class of Vault here \n",
    "# which used to store three types of currency here (galleons, sickles and knuts)\n",
    "\n",
    "class Vault:\n",
    "    def __init__(self, galleons=0, sickles=0, knuts=0): # here we initialized three types of currency(object-attributes) with default value zero\n",
    "        self.galleons = galleons\n",
    "        self.sickles = sickles\n",
    "        self.knuts = knuts\n",
    "        \n",
    "    def __str__(self):\n",
    "        return f\"{self.galleons}-galleons \\n{self.sickles}-sickles \\n{self.knuts}-knuts\"\n",
    "\n",
    "def main():\n",
    "    # Sphinx has a vault with these respective currencies\n",
    "    Sphinx = Vault(100, 120, 300)\n",
    "    print(f\"Sphinx has:\\n{Sphinx}\")\n",
    "   \n",
    "    print(\"======================================================\")\n",
    "    \n",
    "    Caryanda = Vault(50,100,400)\n",
    "    print(f\"Caryanda has:\\n{Caryanda}\")\n",
    "    \n",
    "    #now if we want to add these vaults of Sphinix and Caryanda\n",
    "    #conventionally we have to add all those currencies to their respective types of currencies\n",
    "    # (means we have to add the galleons of Sphinx and galleons of Caryanda, and similarly for knuts and sickles)\n",
    "    total_galleons = Sphinx.galleons + Caryanda.galleons\n",
    "    total_sickles = Sphinx.sickles  +  Caryanda.sickles\n",
    "    total_knuts = Sphinx.knuts + Caryanda.knuts\n",
    "    print(\"======================================================\")\n",
    "    overall_vault = Vault(total_galleons, total_sickles, total_knuts) \n",
    "    print(f\"overall_vault has :\\n{overall_vault}\")\n",
    "    \n",
    "if __name__ == \"__main__\":\n",
    "    main()"
   ]
  },
  {
   "cell_type": "code",
   "execution_count": 1,
   "metadata": {},
   "outputs": [
    {
     "name": "stdout",
     "output_type": "stream",
     "text": [
      "Sphinx has:\n",
      "100-galleons \n",
      "120-sickles \n",
      "300-knuts\n",
      "======================================================\n",
      "Caryanda has:\n",
      "50-galleons \n",
      "100-sickles \n",
      "400-knuts\n",
      "======================================================\n"
     ]
    },
    {
     "ename": "TypeError",
     "evalue": "unsupported operand type(s) for +: 'Vault' and 'Vault'",
     "output_type": "error",
     "traceback": [
      "\u001b[1;31m---------------------------------------------------------------------------\u001b[0m",
      "\u001b[1;31mTypeError\u001b[0m                                 Traceback (most recent call last)",
      "Cell \u001b[1;32mIn[1], line 28\u001b[0m\n\u001b[0;32m     25\u001b[0m     total_vault \u001b[38;5;241m=\u001b[39m Caryanda \u001b[38;5;241m+\u001b[39m Sphinx\n\u001b[0;32m     27\u001b[0m \u001b[38;5;28;01mif\u001b[39;00m \u001b[38;5;18m__name__\u001b[39m \u001b[38;5;241m==\u001b[39m \u001b[38;5;124m\"\u001b[39m\u001b[38;5;124m__main__\u001b[39m\u001b[38;5;124m\"\u001b[39m:\n\u001b[1;32m---> 28\u001b[0m     \u001b[43mmain\u001b[49m\u001b[43m(\u001b[49m\u001b[43m)\u001b[49m\n",
      "Cell \u001b[1;32mIn[1], line 25\u001b[0m, in \u001b[0;36mmain\u001b[1;34m()\u001b[0m\n\u001b[0;32m     23\u001b[0m \u001b[38;5;28mprint\u001b[39m(\u001b[38;5;124m\"\u001b[39m\u001b[38;5;124m======================================================\u001b[39m\u001b[38;5;124m\"\u001b[39m)\n\u001b[0;32m     24\u001b[0m \u001b[38;5;66;03m# here we're adding currencies of tho vaults by adding respective objects of two vaults\u001b[39;00m\n\u001b[1;32m---> 25\u001b[0m total_vault \u001b[38;5;241m=\u001b[39m \u001b[43mCaryanda\u001b[49m\u001b[43m \u001b[49m\u001b[38;5;241;43m+\u001b[39;49m\u001b[43m \u001b[49m\u001b[43mSphinx\u001b[49m\n",
      "\u001b[1;31mTypeError\u001b[0m: unsupported operand type(s) for +: 'Vault' and 'Vault'"
     ]
    }
   ],
   "source": [
    "# here rather than using conventional method of adding respective attributes and pass them to the class\n",
    "# we can direcly add currencies of several types from vault of sphinx and Caryana\n",
    "# just by adding them through their respective objects as:\n",
    "class Vault:\n",
    "    def __init__(self, galleons=0, sickles=0, knuts=0): # here we initialized three types of currency(object-attributes) with default value zero\n",
    "        self.galleons = galleons\n",
    "        self.sickles = sickles\n",
    "        self.knuts = knuts\n",
    "        \n",
    "    def __str__(self):\n",
    "        return f\"{self.galleons}-galleons \\n{self.sickles}-sickles \\n{self.knuts}-knuts\"\n",
    "\n",
    "def main():\n",
    "    # Sphinx has a vault with these respective currencies\n",
    "    Sphinx = Vault(100, 120, 300)\n",
    "    print(f\"Sphinx has:\\n{Sphinx}\")\n",
    "   \n",
    "    print(\"======================================================\")\n",
    "    \n",
    "    Caryanda = Vault(50,100,400)\n",
    "    print(f\"Caryanda has:\\n{Caryanda}\")\n",
    "    \n",
    "    print(\"======================================================\")\n",
    "    # here we're adding currencies of tho vaults by adding respective objects of two vaults\n",
    "    total_vault = Caryanda + Sphinx\n",
    "    \n",
    "if __name__ == \"__main__\":\n",
    "    main()"
   ]
  },
  {
   "cell_type": "code",
   "execution_count": 3,
   "metadata": {},
   "outputs": [
    {
     "name": "stdout",
     "output_type": "stream",
     "text": [
      "Sphinx has:\n",
      "100-galleons \n",
      "120-sickles \n",
      "300-knuts\n",
      "======================================================\n",
      "Caryanda has:\n",
      "50-galleons \n",
      "100-sickles \n",
      "400-knuts\n",
      "======================================================\n",
      "150-galleons \n",
      "220-sickles \n",
      "700-knuts\n"
     ]
    }
   ],
   "source": [
    "# as here we can see the TypeError for '+' here as :\n",
    "#unsupported operand type(s) for +: 'Vault' and 'Vault'\n",
    "#as here we used '+' operator for the adding objects of class Vault here \n",
    "# as here python interpreter doesn't know what's the behaviour of this plus operator when it comes to Vault class \n",
    "# so for that we have to implement behaviour of '+' operator within the vault class here\n",
    "# and syntax for it as : [object.__add__(self, other)]  //this used to overload plus operator specifically in class\n",
    " \n",
    "class Vault:\n",
    "    def __init__(self, galleons=0, sickles=0, knuts=0): # here we initialized three types of currency(object-attributes) with default value zero\n",
    "        self.galleons = galleons\n",
    "        self.sickles = sickles\n",
    "        self.knuts = knuts\n",
    "        \n",
    "    def __str__(self):\n",
    "        return f\"{self.galleons}-galleons \\n{self.sickles}-sickles \\n{self.knuts}-knuts\"\n",
    "    \n",
    "    # going to implement the overloading of plus operator in this class\n",
    "    def __add__(self, other):  \n",
    "        # here self is automatically specify current attributes which will be on LHS \n",
    "                                  # whereas second argument here specifically other operand on RHS which is going to be add with current attributes\n",
    "        galleons = self.galleons + other.galleons  # here self.galleons stands for sphinx's galleons; whereas other.galleons stands for caryanda's galleons\n",
    "        sickles = self.sickles + other.sickles  # similarly for others\n",
    "        knuts = self.knuts +other.knuts  # similarly for knuts here                          \n",
    "        return Vault(galleons, sickles, knuts)  # now returning these much currencies to class-constructor vault here\n",
    "                                \n",
    "        \n",
    "def main():\n",
    "    # Sphinx has a vault with these respective currencies\n",
    "    Sphinx = Vault(100, 120, 300)\n",
    "    print(f\"Sphinx has:\\n{Sphinx}\")\n",
    "   \n",
    "    print(\"======================================================\")\n",
    "    \n",
    "    Caryanda = Vault(50,100,400)\n",
    "    print(f\"Caryanda has:\\n{Caryanda}\")\n",
    "    \n",
    "    print(\"======================================================\")\n",
    "  \n",
    "    # here we're adding currencies of tho vaults by adding respective objects of two vaults\n",
    "    total_vault = Caryanda + Sphinx\n",
    "    print(total_vault)\n",
    "    \n",
    "if __name__ == \"__main__\":\n",
    "    main()"
   ]
  },
  {
   "cell_type": "markdown",
   "metadata": {},
   "source": [
    "### Overloading binary + operator in Python: \n",
    "\n",
    "- When we use an operator on user-defined data types then automatically a special function or magic function associated with that operator is invoked. Changing the behavior of operator is as simple as changing the behavior of a method or function. You define methods in your class and operators work according to that behavior defined in methods. When we use + operator, the magic method __add__ is automatically invoked in which the operation for + operator is defined. Thereby changing this magic method’s code, we can give extra meaning to the + operator. \n",
    "\n",
    "### How Does the Operator Overloading Actually work?\n",
    "\n",
    "Whenever you change the behavior of the existing operator through operator overloading, you have to redefine the special function that is invoked automatically when the operator is used with the objects. \n",
    "\n",
    "For Example:- "
   ]
  },
  {
   "cell_type": "code",
   "execution_count": 3,
   "metadata": {},
   "outputs": [
    {
     "name": "stdout",
     "output_type": "stream",
     "text": [
      "120\n",
      "Sphinix Herodotous\n",
      "120\n",
      "Sphinix Herodotous\n",
      "120\n",
      "Sphinix Herodotous\n"
     ]
    }
   ],
   "source": [
    "# Python Program illustrate how \n",
    "# to overload an binary + operator\n",
    "# And how it actually works\n",
    "\n",
    "class Adder:\n",
    "\tdef __init__(self, a):\n",
    "\t\tself.a = a\n",
    "\n",
    "\t# adding two objects \n",
    "\tdef __add__(self, o):\n",
    "\t\treturn self.a + o.a \n",
    "\n",
    "ob1 = Adder(100)\n",
    "ob2 = Adder(20)\n",
    "ob3 = Adder(\"Sphinix\")\n",
    "ob4 = Adder(\" Herodotous\")\n",
    "\n",
    "print(ob1 + ob2)\n",
    "print(ob3 + ob4)\n",
    "\n",
    "# Actual working when Binary Operator is used.\n",
    "print(Adder.__add__(ob1 , ob2)) \n",
    "print(Adder.__add__(ob3,ob4)) \n",
    "\n",
    "#And can also be Understand as :\n",
    "print(ob1.__add__(ob2))\n",
    "print(ob3.__add__(ob4))\n"
   ]
  },
  {
   "cell_type": "code",
   "execution_count": null,
   "metadata": {},
   "outputs": [],
   "source": []
  }
 ],
 "metadata": {
  "kernelspec": {
   "display_name": "cs50pyenv",
   "language": "python",
   "name": "python3"
  },
  "language_info": {
   "codemirror_mode": {
    "name": "ipython",
    "version": 3
   },
   "file_extension": ".py",
   "mimetype": "text/x-python",
   "name": "python",
   "nbconvert_exporter": "python",
   "pygments_lexer": "ipython3",
   "version": "3.12.3"
  }
 },
 "nbformat": 4,
 "nbformat_minor": 2
}
