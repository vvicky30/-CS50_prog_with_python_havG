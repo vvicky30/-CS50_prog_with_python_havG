{
 "cells": [
  {
   "cell_type": "code",
   "execution_count": 8,
   "metadata": {},
   "outputs": [
    {
     "name": "stdout",
     "output_type": "stream",
     "text": [
      "Sphinx has:\n",
      "100-galleons \n",
      "120-sickles \n",
      "300-knuts\n",
      "======================================================\n",
      "Caryanda has:\n",
      "50-galleons \n",
      "100-sickles \n",
      "400-knuts\n",
      "======================================================\n",
      "overall_vault has :\n",
      "150-galleons \n",
      "220-sickles \n",
      "700-knuts\n"
     ]
    }
   ],
   "source": [
    "#we're going to make the class of Vault here \n",
    "# which used to store three types of currency here (galleons, sickles and knuts)\n",
    "\n",
    "class Vault:\n",
    "    def __init__(self, galleons=0, sickles=0, knuts=0): # here we initialized three types of currency(object-attributes) with default value zero\n",
    "        self.galleons = galleons\n",
    "        self.sickles = sickles\n",
    "        self.knuts = knuts\n",
    "        \n",
    "    def __str__(self):\n",
    "        return f\"{self.galleons}-galleons \\n{self.sickles}-sickles \\n{self.knuts}-knuts\"\n",
    "\n",
    "def main():\n",
    "    # Sphinx has a vault with these respective currencies\n",
    "    Sphinx = Vault(100, 120, 300)\n",
    "    print(f\"Sphinx has:\\n{Sphinx}\")\n",
    "   \n",
    "    print(\"======================================================\")\n",
    "    \n",
    "    Caryanda = Vault(50,100,400)\n",
    "    print(f\"Caryanda has:\\n{Caryanda}\")\n",
    "    \n",
    "    #now if we want to add these vaults of Sphinix and Caryanda\n",
    "    #conventionally we have to add all those currencies to their respective types of currencies\n",
    "    # (means we have to add the galleons of Sphinx and galleons of Caryanda, and similarly for knuts and sickles)\n",
    "    total_galleons = Sphinx.galleons + Caryanda.galleons\n",
    "    total_sickles = Sphinx.sickles  +  Caryanda.sickles\n",
    "    total_knuts = Sphinx.knuts + Caryanda.knuts\n",
    "    print(\"======================================================\")\n",
    "    overall_vault = Vault(total_galleons, total_sickles, total_knuts) \n",
    "    print(f\"overall_vault has :\\n{overall_vault}\")\n",
    "    \n",
    "if __name__ == \"__main__\":\n",
    "    main()"
   ]
  },
  {
   "cell_type": "code",
   "execution_count": null,
   "metadata": {},
   "outputs": [],
   "source": [
    "class Vault:\n",
    "    def __init__(self, galleons=0, sickles=0, knuts=0): # here we initialized three types of currency(object-attributes) with default value zero\n",
    "        self.galleons = galleons\n",
    "        self.sickles = sickles\n",
    "        self.knuts = knuts\n",
    "        \n",
    "    def __str__(self):\n",
    "        return f\"{self.galleons}-galleons \\n{self.sickles}-sickles \\n{self.knuts}-knuts\"\n",
    "\n",
    "def main():\n",
    "    # Sphinx has a vault with these respective currencies\n",
    "    Sphinx = Vault(100, 120, 300)\n",
    "    print(f\"Sphinx has:\\n{Sphinx}\")\n",
    "   \n",
    "    print(\"======================================================\")\n",
    "    \n",
    "    Caryanda = Vault(50,100,400)\n",
    "    print(f\"Caryanda has:\\n{Caryanda}\")\n",
    "    \n",
    "    #now if we want to add these vaults of Sphinix and Caryanda\n",
    "    #conventionally we have to add all those currencies to their respective types of currencies\n",
    "    # (means we have to add the galleons of Sphinx and galleons of Caryanda, and similarly for knuts and sickles)\n",
    "    total_galleons = Sphinx.galleons + Caryanda.galleons\n",
    "    total_sickles = Sphinx.sickles  +  Caryanda.sickles\n",
    "    total_knuts = Sphinx.knuts + Caryanda.knuts\n",
    "    print(\"======================================================\")\n",
    "    overall_vault = Vault(total_galleons, total_sickles, total_knuts) \n",
    "    print(f\"overall_vault has :\\n{overall_vault}\")\n",
    "    \n",
    "if __name__ == \"__main__\":\n",
    "    main()"
   ]
  }
 ],
 "metadata": {
  "kernelspec": {
   "display_name": "cs50pyenv",
   "language": "python",
   "name": "python3"
  },
  "language_info": {
   "codemirror_mode": {
    "name": "ipython",
    "version": 3
   },
   "file_extension": ".py",
   "mimetype": "text/x-python",
   "name": "python",
   "nbconvert_exporter": "python",
   "pygments_lexer": "ipython3",
   "version": "3.12.3"
  }
 },
 "nbformat": 4,
 "nbformat_minor": 2
}
