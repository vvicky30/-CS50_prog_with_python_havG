{
 "cells": [
  {
   "cell_type": "code",
   "execution_count": 5,
   "metadata": {},
   "outputs": [
    {
     "name": "stdout",
     "output_type": "stream",
     "text": [
      "this ball with 0.75 Bounce_factor is currently at hieght: 10.0\n",
      "Ball bounces 1 times so far\n",
      "this ball with 0.75 Bounce_factor is currently at hieght: 7.5\n",
      "Ball bounces 2 times so far\n",
      "this ball with 0.75 Bounce_factor is currently at hieght: 5.625\n",
      "Ball bounces 3 times so far\n",
      "this ball with 0.75 Bounce_factor is currently at hieght: 4.21875\n",
      "Ball bounces 4 times so far\n",
      "this ball with 0.75 Bounce_factor is currently at hieght: 3.1640625\n",
      "Ball bounces 5 times so far\n",
      "this ball with 0.75 Bounce_factor is currently at hieght: 2.373046875\n",
      "Ball bounces 6 times so far\n",
      "this ball with 0.75 Bounce_factor is currently at hieght: 1.77978515625\n",
      "Ball bounces 7 times so far\n",
      "this ball with 0.75 Bounce_factor is currently at hieght: 1.3348388671875\n",
      "Ball bounces 8 times so far\n",
      "this ball with 0.75 Bounce_factor is currently at hieght: 1.001129150390625\n",
      "Ball bounces 9 times so far\n",
      "this ball with 0.75 Bounce_factor is currently at hieght: 0.7508468627929688\n",
      "Ball bounces 10 times so far\n",
      "this ball with 0.75 Bounce_factor is currently at hieght: 0.5631351470947266\n",
      "Ball bounces 11 times so far\n",
      "this ball with 0.75 Bounce_factor is currently at hieght: 0.4223513603210449\n",
      "Ball bounces 12 times so far\n",
      "this ball with 0.75 Bounce_factor is currently at hieght: 0.3167635202407837\n",
      "Ball bounces 13 times so far\n",
      "this ball with 0.75 Bounce_factor is currently at hieght: 0.23757264018058777\n",
      "Ball bounces 14 times so far\n",
      "this ball with 0.75 Bounce_factor is currently at hieght: 0.17817948013544083\n",
      "Ball bounces 15 times so far\n",
      "this ball with 0.75 Bounce_factor is currently at hieght: 0.13363461010158062\n",
      "Ball bounces 16 times so far\n",
      "this ball with 0.75 Bounce_factor is currently at hieght: 0.10022595757618546\n",
      "Ball bounces 17 times so far\n",
      "this ball with 0.75 Bounce_factor is currently at hieght: 0.0751694681821391\n",
      "Ball bounces 18 times so far\n",
      "this ball with 0.75 Bounce_factor is currently at hieght: 0.056377101136604324\n",
      "Ball bounces 19 times so far\n",
      "ball stopped bouncing; total 19 times ball bounced \n",
      "while dropping it from 10.0-M hieght\n"
     ]
    }
   ],
   "source": [
    "#solving bouncing ball problem through while loop\n",
    "intial_h = float(input(\"from how much hieght you want to bounce this ball \\n[REMEMBER: Bounce-Factor of this ball is 0.75] : \"))\n",
    "h = intial_h\n",
    "bounce_f = 0.75\n",
    "\n",
    "Bounce_num = 0 # initializing bounce counter , which counts total how many times ball bounces\n",
    "while intial_h > 0.05: # here we set 0.05 as minimum hieght , ball will continues to bounce untill/unless its reaches this much minimum hieght \n",
    "     print(f\"this ball with {bounce_f} Bounce_factor is currently at hieght: {intial_h}\")\n",
    "     Bounce_num += 1\n",
    "     intial_h *= bounce_f\n",
    "     print(f\"Ball bounces {Bounce_num} times so far\")\n",
    "    \n",
    "print(f\"ball stopped bouncing; total {Bounce_num} times ball bounced \\nwhile dropping it from {h}-M hieght\")"
   ]
  }
 ],
 "metadata": {
  "kernelspec": {
   "display_name": "cs50pyenv",
   "language": "python",
   "name": "python3"
  },
  "language_info": {
   "codemirror_mode": {
    "name": "ipython",
    "version": 3
   },
   "file_extension": ".py",
   "mimetype": "text/x-python",
   "name": "python",
   "nbconvert_exporter": "python",
   "pygments_lexer": "ipython3",
   "version": "3.12.2"
  }
 },
 "nbformat": 4,
 "nbformat_minor": 2
}
