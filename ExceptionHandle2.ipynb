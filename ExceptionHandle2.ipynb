{
 "cells": [
  {
   "cell_type": "code",
   "execution_count": 2,
   "metadata": {},
   "outputs": [
    {
     "ename": "ZeroDivisionError",
     "evalue": "division by zero",
     "output_type": "error",
     "traceback": [
      "\u001b[1;31m---------------------------------------------------------------------------\u001b[0m",
      "\u001b[1;31mZeroDivisionError\u001b[0m                         Traceback (most recent call last)",
      "Cell \u001b[1;32mIn[2], line 4\u001b[0m\n\u001b[0;32m      1\u001b[0m \u001b[38;5;66;03m# there's one unique error which's division by zero\u001b[39;00m\n\u001b[0;32m      2\u001b[0m \u001b[38;5;66;03m# here ex:\u001b[39;00m\n\u001b[0;32m      3\u001b[0m calories\u001b[38;5;241m=\u001b[39m\u001b[38;5;28mint\u001b[39m(\u001b[38;5;28minput\u001b[39m(\u001b[38;5;124m\"\u001b[39m\u001b[38;5;124maverage calories in MARS protien-bar chocalate is: \u001b[39m\u001b[38;5;124m\"\u001b[39m))\n\u001b[1;32m----> 4\u001b[0m zeroth_calo\u001b[38;5;241m=\u001b[39m \u001b[43mcalories\u001b[49m\u001b[38;5;241;43m/\u001b[39;49m\u001b[38;5;241;43m0\u001b[39;49m\n\u001b[0;32m      5\u001b[0m \u001b[38;5;28mprint\u001b[39m(zeroth_calo) \n",
      "\u001b[1;31mZeroDivisionError\u001b[0m: division by zero"
     ]
    }
   ],
   "source": [
    "# there's one unique error which's division by zero\n",
    "# here ex:\n",
    "calories=int(input(\"average calories in MARS protien-bar chocalate is: \"))\n",
    "zeroth_calo= calories/0\n",
    "print(zeroth_calo) "
   ]
  },
  {
   "cell_type": "markdown",
   "metadata": {},
   "source": [
    "### Note: Exception is the base class for all the exceptions in Python-programming may possible. You can check the exception class-hierarchy here\n",
    "\n",
    "BaseException\n",
    "\n",
    " +-- SystemExit\n",
    "\n",
    " +-- KeyboardInterrupt\n",
    "\n",
    " +-- GeneratorExit\n",
    "\n",
    " +-- Exception\n",
    "\n",
    "      +-- StopIteration\n",
    "\n",
    "      +-- StandardError\n",
    "\n",
    "      |    +-- BufferError\n",
    "\n",
    "      |    +-- ArithmeticError\n",
    "\n",
    "      |    |    +-- FloatingPointError\n",
    "\n",
    "      |    |    +-- OverflowError\n",
    "\n",
    "      |    |    +-- ZeroDivisionError\n",
    "\n",
    "      |    +-- AssertionError\n",
    "\n",
    "      |    +-- AttributeError\n",
    "\n",
    "      |    +-- EnvironmentError\n",
    "\n",
    "      |    |    +-- IOError\n",
    "\n",
    "      |    |    +-- OSError\n",
    "\n",
    "      |    |         +-- WindowsError (Windows)\n",
    "\n",
    "      |    |         +-- VMSError (VMS)\n",
    "\n",
    "      |    +-- EOFError\n",
    "\n",
    "      |    +-- ImportError\n",
    "\n",
    "      |    +-- LookupError\n",
    "\n",
    "      |    |    +-- IndexError\n",
    "\n",
    "      |    |    +-- KeyError\n",
    "\n",
    "      |    +-- MemoryError\n",
    "\n",
    "      |    +-- NameError\n",
    "\n",
    "      |    |    +-- UnboundLocalError\n",
    "\n",
    "      |    +-- ReferenceError\n",
    "\n",
    "      |    +-- RuntimeError\n",
    "\n",
    "      |    |    +-- NotImplementedError\n",
    "\n",
    "      |    +-- SyntaxError\n",
    "\n",
    "      |    |    +-- IndentationError\n",
    "\n",
    "      |    |         +-- TabError\n",
    "\n",
    "      |    +-- SystemError\n",
    "\n",
    "      |    +-- TypeError\n",
    "\n",
    "      |    +-- ValueError\n",
    "\n",
    "      |         +-- UnicodeError\n",
    "\n",
    "      |              +-- UnicodeDecodeError\n",
    "\n",
    "      |              +-- UnicodeEncodeError\n",
    "\n",
    "      |              +-- UnicodeTranslateError\n",
    "\n",
    "      +-- Warning\n",
    "\n",
    "           +-- DeprecationWarning\n",
    "\n",
    "           +-- PendingDeprecationWarning\n",
    "\n",
    "           +-- RuntimeWarning\n",
    "\n",
    "           +-- SyntaxWarning\n",
    "\n",
    "           +-- UserWarning\n",
    "\n",
    "           +-- FutureWarning\n",
    "\n",
    "\t   +-- ImportWarning\n",
    "\n",
    "\t   +-- UnicodeWarning\n",
    "        \n",
    "\t   +-- BytesWarning"
   ]
  },
  {
   "cell_type": "code",
   "execution_count": 7,
   "metadata": {},
   "outputs": [
    {
     "name": "stdout",
     "output_type": "stream",
     "text": [
      "acessing the element-1: ELE_1\n",
      "acessing the element-3: ELE_3\n",
      "You entered the index which's out of the range for this array\n"
     ]
    }
   ],
   "source": [
    "#Example: Here we are trying to access the array element \n",
    "# whose index is out of bound and handle the corresponding exception.\n",
    "a=[\"ELE_1\", \"ELE_2\", \"ELE_3\"]\n",
    "\n",
    "try:\n",
    "    print(f\"acessing the element-1: {a[0]}\")\n",
    "    print(f\"acessing the element-3: {a[2]}\")\n",
    "    print(f\"acessing the element-n: {a[3]}\")# this will raise IndexError\n",
    "except IndexError:\n",
    "    print(\"You entered the index which's out of the range for this array\")\n",
    "    "
   ]
  },
  {
   "cell_type": "markdown",
   "metadata": {},
   "source": [
    "### Catching Specific Exception\n",
    "\n",
    "A try statement can have more than one except clause, to specify handlers for different exceptions. Please note that at most one handler will be executed. For example, we can add IndexError in the above code. The general syntax for adding specific exceptions are – \n",
    "\n",
    "try:\n",
    "\n",
    "    # statement(s)\n",
    "\n",
    "except IndexError:\n",
    "\n",
    "    # statement(s)\n",
    "\n",
    "except ValueError:\n",
    "\n",
    "    # statement(s)"
   ]
  },
  {
   "cell_type": "code",
   "execution_count": 49,
   "metadata": {},
   "outputs": [
    {
     "name": "stdout",
     "output_type": "stream",
     "text": [
      "Division by zero error handled\n",
      "UnboundLocalError handled\n",
      "value after operation: 4.0\n",
      "\n"
     ]
    }
   ],
   "source": [
    "def fun(a=0):\n",
    "    if a<=4:\n",
    "        v= a/(a-3)\n",
    "    print(\"value after operation:\",v)\n",
    "    return (_)\n",
    "\n",
    "try:\n",
    "    p=fun(3)# this will throw Division by zero Error\n",
    "    \n",
    "except ZeroDivisionError:\n",
    "    print(\"Division by zero error handled\")\n",
    "\n",
    "else:\n",
    "    print(p)\n",
    "    \n",
    "try:\n",
    "    r=fun(5)# this will throw UnboundLocalError....as this fn-calling procedure can't acess the var-v as its valye not assigned because at value 5 in fn if-condition doesn't satisfied\n",
    "except UnboundLocalError:\n",
    "    print(\"UnboundLocalError handled\")\n",
    "else:\n",
    "    print(r)\n",
    "    \n",
    "try:\n",
    "    q=fun(4)  # most probably doesnt raise any error\n",
    "except:\n",
    "    print(\"unknown Error\")    \n",
    "else:\n",
    "    print(q)\n",
    "    \n",
    "\n",
    "# here above we create series of the try-excdept block to fetch and handle multiple possibe errors corresponds to values passed in fn-calling.\n"
   ]
  },
  {
   "cell_type": "code",
   "execution_count": 51,
   "metadata": {},
   "outputs": [
    {
     "name": "stdout",
     "output_type": "stream",
     "text": [
      "TypeError: can only concatenate str (not \"int\") to str\n"
     ]
    }
   ],
   "source": [
    "#Please note that at most one handler will be executed. if there're multiple exception-handler block for single try-block \n",
    "try:\n",
    "    name = 'Bob'\n",
    "    name += 5 #here certinly typeerror raised\n",
    "    \n",
    "    f = fun2()  # as fun2 fn not defined anywhere will surely throw a NameError\n",
    "    \n",
    "except NameError as ne:\n",
    "    # Code to handle NameError\n",
    "    print(\"NameError:\",ne)\n",
    "    \n",
    "\n",
    "except TypeError as te:\n",
    "    # Code to handle TypeError\n",
    "    print(\"TypeError:\",te)\n",
    "\n",
    "    \n",
    "# as here in try block firstly TypeError raised as the result only one handler of TypeError exception executed \n",
    "#other further NameError will not be executed "
   ]
  },
  {
   "cell_type": "markdown",
   "metadata": {},
   "source": [
    "### Catching Multiple Exceptions with Tuple\n",
    "Using a tuple of exception types is a simple and concise way to catch multiple exceptions in a single except block in Python. When an exception occurs in the try block, Python checks if the exception is an instance of any of the exception types listed in the tuple. If so, the corresponding except block is executed."
   ]
  },
  {
   "cell_type": "code",
   "execution_count": 54,
   "metadata": {},
   "outputs": [
    {
     "name": "stdout",
     "output_type": "stream",
     "text": [
      "an exception occured:  invalid literal for int() with base 10: 'fg'\n"
     ]
    }
   ],
   "source": [
    "try:\n",
    "    x=int(input(\"what's 'x': \")) # if user entered the unsuitable(non-integer value) then it raises the ValueError\n",
    "    b= 'ball' + x  # if above line excecuted fine with user's coperation, then this line will surely raise Type Error\n",
    "except (ValueError, TypeError) as VT_e:\n",
    "    print(\"an exception occured: \",VT_e)\n",
    "\n",
    "# in this block i tried to raise first error intentionally "
   ]
  },
  {
   "cell_type": "code",
   "execution_count": 55,
   "metadata": {},
   "outputs": [
    {
     "name": "stdout",
     "output_type": "stream",
     "text": [
      "an exception occured:  can only concatenate str (not \"int\") to str\n"
     ]
    }
   ],
   "source": [
    "try:\n",
    "    x=int(input(\"what's 'x': \")) # if user entered the unsuitable(non-integer value) then it raises the ValueError\n",
    "    b= 'ball' + x  # if above line excecuted fine with user's coperation, then this line will surely raise Type Error\n",
    "except (ValueError, TypeError) as VT_e:\n",
    "    print(\"an exception occured: \",VT_e)\n",
    "\n",
    "# in this block i tried to raise second error while enter suitable integer value of 'x' "
   ]
  }
 ],
 "metadata": {
  "kernelspec": {
   "display_name": "cs50pyenv",
   "language": "python",
   "name": "python3"
  },
  "language_info": {
   "codemirror_mode": {
    "name": "ipython",
    "version": 3
   },
   "file_extension": ".py",
   "mimetype": "text/x-python",
   "name": "python",
   "nbconvert_exporter": "python",
   "pygments_lexer": "ipython3",
   "version": "3.12.2"
  }
 },
 "nbformat": 4,
 "nbformat_minor": 2
}
